{
 "cells": [
  {
   "cell_type": "markdown",
   "id": "c5a8c432",
   "metadata": {},
   "source": [
    "# Tanzania Well Water"
   ]
  },
  {
   "cell_type": "markdown",
   "id": "171b7238",
   "metadata": {},
   "source": [
    "## 1. Defining the Question"
   ]
  },
  {
   "cell_type": "markdown",
   "id": "aa8a0dd2",
   "metadata": {},
   "source": [
    "### a) Specifying the Data Analytic Question"
   ]
  },
  {
   "cell_type": "markdown",
   "id": "334d20ee",
   "metadata": {},
   "source": [
    "> Tanzania, as a developing country, struggles with providing clean water to its population of over 57,000,000. There is a need to improve access to clean water for the population. While there are many water points already established, some are in need of repair and others have failed altogether. The challenge is to accurately predict the condition of a water well based on factors such as the type of pump, installation date, and other relevant information. The goal of this project is to develop a classifier that can accurately predict the condition of water wells, which can be useful for NGOs looking to locate wells needing repair or the government of Tanzania trying to find patterns in non-functional wells to influence how new wells are built\n",
    "\n",
    "> **Problem Statement:** How can we accurately predict the condition of a water well in Tanzania based on factors such as type of pump, installation date, and other relevant information"
   ]
  },
  {
   "cell_type": "markdown",
   "id": "043b975c",
   "metadata": {},
   "source": [
    "### b) Defining the Metric for Success"
   ]
  },
  {
   "cell_type": "markdown",
   "id": "bae86c4e",
   "metadata": {},
   "source": [
    ">The goal is to achieve an accuracy score of at least 80% or higher, F1 score of at least 70% or higher, precision score of at least 70% or higher, recall score of at least 70% or higher\n"
   ]
  },
  {
   "cell_type": "markdown",
   "id": "b76be237",
   "metadata": {},
   "source": [
    "### Main Objective\n",
    "Predict the condition of water wells in Tanzania, which can help an NGO or the government of Tanzania to identify wells that need repair or replacement."
   ]
  },
  {
   "cell_type": "markdown",
   "id": "836a5e73",
   "metadata": {},
   "source": [
    "### Other objectives\n",
    "\n",
    "To improve access to clean water by identifying wells in need of repair or replacement.\n",
    "\n",
    "To reduce water-borne diseases by ensuring that wells providing safe drinking water are functional.\n",
    "\n",
    "To optimize resource allocation for the government or NGO by prioritizing wells in need of repair or replacement.\n",
    "\n",
    "To provide insights into patterns and trends in the functionality of wells, which can inform decision-making for future well construction.\n",
    "\n",
    "To promote sustainability and long-term planning for water well infrastructure in Tanzania."
   ]
  },
  {
   "cell_type": "markdown",
   "id": "df5147ff",
   "metadata": {},
   "source": [
    "### c) Understanding the context\n",
    "\n",
    "The data for this project is obtained from the Taarifa waterpoints dashboard, which has been aggregated from the Tanzania Ministry of Water and is used to track infrastructure-related issues. The data contains information on 59,400 waterpoints and is available as three datasets:\n",
    "\n",
    "1. Training set labels\n",
    "2. Training set values\n",
    "3. Test set values. \n",
    "\n",
    "The target variable is \"status_group\", which details the functionality of the waterpoints. The training data has 59,400 rows and 41 columns and contains information about the water pumps, such as the type of pump, installation date, location, etc.The test data has 40 columns and 14850 row. The data was acquired from Taarifa and the Tanzanian Ministry of Water and was downloaded from DrivenData."
   ]
  },
  {
   "cell_type": "markdown",
   "id": "9b24d83b",
   "metadata": {},
   "source": [
    "### The dataset columns are:\n",
    "\n",
    "1. amount_tsh - Total static head (amount water available to waterpoint)\n",
    "2. date_recorded - The date the row was entered\n",
    "3. funder - Who funded the well\n",
    "4. gps_height - Altitude of the well\n",
    "5. installer - Organization that installed the well\n",
    "6. longitude - GPS coordinate\n",
    "7. latitude - GPS coordinate\n",
    "8. wpt_name - Name of the waterpoint if there is one\n",
    "9. num_private - Private use or not\n",
    "10. basin - Geographic water basin\n",
    "11. subvillage - Geographic location\n",
    "12. region - Geographic location\n",
    "13. region_code - Geographic location (coded)\n",
    "14. district_code - Geographic location (coded)\n",
    "15. lga - Geographic location\n",
    "16. ward - Geographic location\n",
    "17. population - Population around the well\n",
    "18. public_meeting - True/False\n",
    "19. recorded_by - Group entering this row of data\n",
    "20. scheme_management - Who operates the waterpoint\n",
    "21. scheme_name - Who operates the waterpoint\n",
    "22. permit - If the waterpoint is permitted\n",
    "23. construction_year - Year the waterpoint was constructed\n",
    "24. extraction_type - The kind of extraction the waterpoint uses\n",
    "25. extraction_type_group - The kind of extraction the waterpoint uses\n",
    "26. extraction_type_class - The kind of extraction the waterpoint uses\n",
    "27. management - How the waterpoint is managed\n",
    "28. management_group - How the waterpoint is managed\n",
    "29. payment - What the water costs\n",
    "30. payment_type - What the water costs\n",
    "31. water_quality - The quality of the water\n",
    "32. quality_group - The quality of the water\n",
    "33. quantity - The quantity of water\n",
    "34. quantity_group - The quantity of water\n",
    "35. source - The source of the water\n",
    "36. source_type - The source of the water\n",
    "37. source_class - The source of the water\n",
    "38. waterpoint_type - The kind of waterpoint\n",
    "39. waterpoint_type_group - The kind of waterpoint\n",
    "40. status_group - show fuctional well and those not functioning"
   ]
  },
  {
   "cell_type": "markdown",
   "id": "f84bab3c",
   "metadata": {},
   "source": [
    "### d) Experimental Design\n",
    "\n",
    "The experimental design for the water well classification project in Tanzania can be recorded as follows:\n",
    "\n",
    "1. Data Collection: \n",
    "2. Data Exploration: \n",
    "3. Feature Engineering: \n",
    "4. Model Selection: \n",
    "5. Model Training and Validation: \n",
    "6. Model Tuning: \n",
    "7. Model Evaluation: "
   ]
  },
  {
   "cell_type": "markdown",
   "id": "e6125d3b",
   "metadata": {},
   "source": [
    "## 2. Reading the Data"
   ]
  },
  {
   "cell_type": "code",
   "execution_count": 1,
   "id": "bd2b7af1",
   "metadata": {},
   "outputs": [],
   "source": [
    "import pandas as pd\n",
    "import numpy as np\n",
    "\n",
    "from matplotlib import pyplot as plt\n",
    "import seaborn as sns\n",
    "%matplotlib inline\n",
    "\n",
    "import warnings\n",
    "warnings.filterwarnings('ignore')\n",
    "\n",
    "from sklearn.model_selection import train_test_split,GridSearchCV, RandomizedSearchCV\n",
    "from sklearn.preprocessing import StandardScaler\n",
    "from sklearn.preprocessing import LabelEncoder\n",
    "from sklearn.metrics import accuracy_score, precision_score, recall_score,f1_score, classification_report\n",
    "\n",
    "from sklearn.ensemble import RandomForestClassifier\n",
    "from sklearn.neighbors import KNeighborsClassifier\n",
    "from sklearn.tree import DecisionTreeClassifier\n",
    "import os"
   ]
  },
  {
   "cell_type": "code",
   "execution_count": 2,
   "id": "488fbc93",
   "metadata": {},
   "outputs": [],
   "source": [
    "# loading the data\n",
    "target = pd.read_csv(\"D:/Projects/datasets/target.csv\")\n",
    "label = pd.read_csv (\"D:/Projects/datasets/label.csv\")\n",
    "test = pd.read_csv(\"D:/Projects/datasets/test.csv\")"
   ]
  },
  {
   "cell_type": "markdown",
   "id": "260aa98e",
   "metadata": {},
   "source": [
    "Merge the two datasets with a common column `id`"
   ]
  },
  {
   "cell_type": "code",
   "execution_count": 3,
   "id": "193bd599",
   "metadata": {},
   "outputs": [
    {
     "name": "stdout",
     "output_type": "stream",
     "text": [
      "shape of target dataset: (59400, 2), shape of label dataset: (59400, 40) shape of test dataset: (14850, 40)\n"
     ]
    }
   ],
   "source": [
    "#check shape for both the datasets before merging\n",
    "print(f'shape of target dataset: {target.shape}, shape of label dataset: {label.shape} shape of test dataset: {test.shape}')"
   ]
  },
  {
   "cell_type": "code",
   "execution_count": 4,
   "id": "9524c72f",
   "metadata": {},
   "outputs": [],
   "source": [
    "# merging the data to form one dataframex\n",
    "well_df = pd.merge(target, label, on='id')"
   ]
  },
  {
   "cell_type": "markdown",
   "id": "108a7bca",
   "metadata": {},
   "source": [
    "## 3. Checking the Data"
   ]
  },
  {
   "cell_type": "code",
   "execution_count": 5,
   "id": "1e809693",
   "metadata": {},
   "outputs": [
    {
     "data": {
      "text/html": [
       "<div>\n",
       "<style scoped>\n",
       "    .dataframe tbody tr th:only-of-type {\n",
       "        vertical-align: middle;\n",
       "    }\n",
       "\n",
       "    .dataframe tbody tr th {\n",
       "        vertical-align: top;\n",
       "    }\n",
       "\n",
       "    .dataframe thead th {\n",
       "        text-align: right;\n",
       "    }\n",
       "</style>\n",
       "<table border=\"1\" class=\"dataframe\">\n",
       "  <thead>\n",
       "    <tr style=\"text-align: right;\">\n",
       "      <th></th>\n",
       "      <th>id</th>\n",
       "      <th>status_group</th>\n",
       "      <th>amount_tsh</th>\n",
       "      <th>date_recorded</th>\n",
       "      <th>funder</th>\n",
       "      <th>gps_height</th>\n",
       "      <th>installer</th>\n",
       "      <th>longitude</th>\n",
       "      <th>latitude</th>\n",
       "      <th>wpt_name</th>\n",
       "      <th>...</th>\n",
       "      <th>payment_type</th>\n",
       "      <th>water_quality</th>\n",
       "      <th>quality_group</th>\n",
       "      <th>quantity</th>\n",
       "      <th>quantity_group</th>\n",
       "      <th>source</th>\n",
       "      <th>source_type</th>\n",
       "      <th>source_class</th>\n",
       "      <th>waterpoint_type</th>\n",
       "      <th>waterpoint_type_group</th>\n",
       "    </tr>\n",
       "  </thead>\n",
       "  <tbody>\n",
       "    <tr>\n",
       "      <th>0</th>\n",
       "      <td>69572</td>\n",
       "      <td>functional</td>\n",
       "      <td>6000.0</td>\n",
       "      <td>2011-03-14</td>\n",
       "      <td>Roman</td>\n",
       "      <td>1390</td>\n",
       "      <td>Roman</td>\n",
       "      <td>34.938093</td>\n",
       "      <td>-9.856322</td>\n",
       "      <td>none</td>\n",
       "      <td>...</td>\n",
       "      <td>annually</td>\n",
       "      <td>soft</td>\n",
       "      <td>good</td>\n",
       "      <td>enough</td>\n",
       "      <td>enough</td>\n",
       "      <td>spring</td>\n",
       "      <td>spring</td>\n",
       "      <td>groundwater</td>\n",
       "      <td>communal standpipe</td>\n",
       "      <td>communal standpipe</td>\n",
       "    </tr>\n",
       "    <tr>\n",
       "      <th>1</th>\n",
       "      <td>8776</td>\n",
       "      <td>functional</td>\n",
       "      <td>0.0</td>\n",
       "      <td>2013-03-06</td>\n",
       "      <td>Grumeti</td>\n",
       "      <td>1399</td>\n",
       "      <td>GRUMETI</td>\n",
       "      <td>34.698766</td>\n",
       "      <td>-2.147466</td>\n",
       "      <td>Zahanati</td>\n",
       "      <td>...</td>\n",
       "      <td>never pay</td>\n",
       "      <td>soft</td>\n",
       "      <td>good</td>\n",
       "      <td>insufficient</td>\n",
       "      <td>insufficient</td>\n",
       "      <td>rainwater harvesting</td>\n",
       "      <td>rainwater harvesting</td>\n",
       "      <td>surface</td>\n",
       "      <td>communal standpipe</td>\n",
       "      <td>communal standpipe</td>\n",
       "    </tr>\n",
       "    <tr>\n",
       "      <th>2</th>\n",
       "      <td>34310</td>\n",
       "      <td>functional</td>\n",
       "      <td>25.0</td>\n",
       "      <td>2013-02-25</td>\n",
       "      <td>Lottery Club</td>\n",
       "      <td>686</td>\n",
       "      <td>World vision</td>\n",
       "      <td>37.460664</td>\n",
       "      <td>-3.821329</td>\n",
       "      <td>Kwa Mahundi</td>\n",
       "      <td>...</td>\n",
       "      <td>per bucket</td>\n",
       "      <td>soft</td>\n",
       "      <td>good</td>\n",
       "      <td>enough</td>\n",
       "      <td>enough</td>\n",
       "      <td>dam</td>\n",
       "      <td>dam</td>\n",
       "      <td>surface</td>\n",
       "      <td>communal standpipe multiple</td>\n",
       "      <td>communal standpipe</td>\n",
       "    </tr>\n",
       "    <tr>\n",
       "      <th>3</th>\n",
       "      <td>67743</td>\n",
       "      <td>non functional</td>\n",
       "      <td>0.0</td>\n",
       "      <td>2013-01-28</td>\n",
       "      <td>Unicef</td>\n",
       "      <td>263</td>\n",
       "      <td>UNICEF</td>\n",
       "      <td>38.486161</td>\n",
       "      <td>-11.155298</td>\n",
       "      <td>Zahanati Ya Nanyumbu</td>\n",
       "      <td>...</td>\n",
       "      <td>never pay</td>\n",
       "      <td>soft</td>\n",
       "      <td>good</td>\n",
       "      <td>dry</td>\n",
       "      <td>dry</td>\n",
       "      <td>machine dbh</td>\n",
       "      <td>borehole</td>\n",
       "      <td>groundwater</td>\n",
       "      <td>communal standpipe multiple</td>\n",
       "      <td>communal standpipe</td>\n",
       "    </tr>\n",
       "    <tr>\n",
       "      <th>4</th>\n",
       "      <td>19728</td>\n",
       "      <td>functional</td>\n",
       "      <td>0.0</td>\n",
       "      <td>2011-07-13</td>\n",
       "      <td>Action In A</td>\n",
       "      <td>0</td>\n",
       "      <td>Artisan</td>\n",
       "      <td>31.130847</td>\n",
       "      <td>-1.825359</td>\n",
       "      <td>Shuleni</td>\n",
       "      <td>...</td>\n",
       "      <td>never pay</td>\n",
       "      <td>soft</td>\n",
       "      <td>good</td>\n",
       "      <td>seasonal</td>\n",
       "      <td>seasonal</td>\n",
       "      <td>rainwater harvesting</td>\n",
       "      <td>rainwater harvesting</td>\n",
       "      <td>surface</td>\n",
       "      <td>communal standpipe</td>\n",
       "      <td>communal standpipe</td>\n",
       "    </tr>\n",
       "  </tbody>\n",
       "</table>\n",
       "<p>5 rows × 41 columns</p>\n",
       "</div>"
      ],
      "text/plain": [
       "      id    status_group  amount_tsh date_recorded        funder  gps_height  \\\n",
       "0  69572      functional      6000.0    2011-03-14         Roman        1390   \n",
       "1   8776      functional         0.0    2013-03-06       Grumeti        1399   \n",
       "2  34310      functional        25.0    2013-02-25  Lottery Club         686   \n",
       "3  67743  non functional         0.0    2013-01-28        Unicef         263   \n",
       "4  19728      functional         0.0    2011-07-13   Action In A           0   \n",
       "\n",
       "      installer  longitude   latitude              wpt_name  ...  \\\n",
       "0         Roman  34.938093  -9.856322                  none  ...   \n",
       "1       GRUMETI  34.698766  -2.147466              Zahanati  ...   \n",
       "2  World vision  37.460664  -3.821329           Kwa Mahundi  ...   \n",
       "3        UNICEF  38.486161 -11.155298  Zahanati Ya Nanyumbu  ...   \n",
       "4       Artisan  31.130847  -1.825359               Shuleni  ...   \n",
       "\n",
       "   payment_type water_quality quality_group      quantity  quantity_group  \\\n",
       "0      annually          soft          good        enough          enough   \n",
       "1     never pay          soft          good  insufficient    insufficient   \n",
       "2    per bucket          soft          good        enough          enough   \n",
       "3     never pay          soft          good           dry             dry   \n",
       "4     never pay          soft          good      seasonal        seasonal   \n",
       "\n",
       "                 source           source_type source_class  \\\n",
       "0                spring                spring  groundwater   \n",
       "1  rainwater harvesting  rainwater harvesting      surface   \n",
       "2                   dam                   dam      surface   \n",
       "3           machine dbh              borehole  groundwater   \n",
       "4  rainwater harvesting  rainwater harvesting      surface   \n",
       "\n",
       "               waterpoint_type waterpoint_type_group  \n",
       "0           communal standpipe    communal standpipe  \n",
       "1           communal standpipe    communal standpipe  \n",
       "2  communal standpipe multiple    communal standpipe  \n",
       "3  communal standpipe multiple    communal standpipe  \n",
       "4           communal standpipe    communal standpipe  \n",
       "\n",
       "[5 rows x 41 columns]"
      ]
     },
     "execution_count": 5,
     "metadata": {},
     "output_type": "execute_result"
    }
   ],
   "source": [
    "# Previewing the top of dataset\n",
    "well_df.head()"
   ]
  },
  {
   "cell_type": "code",
   "execution_count": 6,
   "id": "f9c71488",
   "metadata": {},
   "outputs": [
    {
     "data": {
      "text/html": [
       "<div>\n",
       "<style scoped>\n",
       "    .dataframe tbody tr th:only-of-type {\n",
       "        vertical-align: middle;\n",
       "    }\n",
       "\n",
       "    .dataframe tbody tr th {\n",
       "        vertical-align: top;\n",
       "    }\n",
       "\n",
       "    .dataframe thead th {\n",
       "        text-align: right;\n",
       "    }\n",
       "</style>\n",
       "<table border=\"1\" class=\"dataframe\">\n",
       "  <thead>\n",
       "    <tr style=\"text-align: right;\">\n",
       "      <th></th>\n",
       "      <th>id</th>\n",
       "      <th>amount_tsh</th>\n",
       "      <th>date_recorded</th>\n",
       "      <th>funder</th>\n",
       "      <th>gps_height</th>\n",
       "      <th>installer</th>\n",
       "      <th>longitude</th>\n",
       "      <th>latitude</th>\n",
       "      <th>wpt_name</th>\n",
       "      <th>num_private</th>\n",
       "      <th>...</th>\n",
       "      <th>payment_type</th>\n",
       "      <th>water_quality</th>\n",
       "      <th>quality_group</th>\n",
       "      <th>quantity</th>\n",
       "      <th>quantity_group</th>\n",
       "      <th>source</th>\n",
       "      <th>source_type</th>\n",
       "      <th>source_class</th>\n",
       "      <th>waterpoint_type</th>\n",
       "      <th>waterpoint_type_group</th>\n",
       "    </tr>\n",
       "  </thead>\n",
       "  <tbody>\n",
       "    <tr>\n",
       "      <th>0</th>\n",
       "      <td>50785</td>\n",
       "      <td>0.0</td>\n",
       "      <td>2013-02-04</td>\n",
       "      <td>Dmdd</td>\n",
       "      <td>1996</td>\n",
       "      <td>DMDD</td>\n",
       "      <td>35.290799</td>\n",
       "      <td>-4.059696</td>\n",
       "      <td>Dinamu Secondary School</td>\n",
       "      <td>0</td>\n",
       "      <td>...</td>\n",
       "      <td>never pay</td>\n",
       "      <td>soft</td>\n",
       "      <td>good</td>\n",
       "      <td>seasonal</td>\n",
       "      <td>seasonal</td>\n",
       "      <td>rainwater harvesting</td>\n",
       "      <td>rainwater harvesting</td>\n",
       "      <td>surface</td>\n",
       "      <td>other</td>\n",
       "      <td>other</td>\n",
       "    </tr>\n",
       "    <tr>\n",
       "      <th>1</th>\n",
       "      <td>51630</td>\n",
       "      <td>0.0</td>\n",
       "      <td>2013-02-04</td>\n",
       "      <td>Government Of Tanzania</td>\n",
       "      <td>1569</td>\n",
       "      <td>DWE</td>\n",
       "      <td>36.656709</td>\n",
       "      <td>-3.309214</td>\n",
       "      <td>Kimnyak</td>\n",
       "      <td>0</td>\n",
       "      <td>...</td>\n",
       "      <td>never pay</td>\n",
       "      <td>soft</td>\n",
       "      <td>good</td>\n",
       "      <td>insufficient</td>\n",
       "      <td>insufficient</td>\n",
       "      <td>spring</td>\n",
       "      <td>spring</td>\n",
       "      <td>groundwater</td>\n",
       "      <td>communal standpipe</td>\n",
       "      <td>communal standpipe</td>\n",
       "    </tr>\n",
       "    <tr>\n",
       "      <th>2</th>\n",
       "      <td>17168</td>\n",
       "      <td>0.0</td>\n",
       "      <td>2013-02-01</td>\n",
       "      <td>NaN</td>\n",
       "      <td>1567</td>\n",
       "      <td>NaN</td>\n",
       "      <td>34.767863</td>\n",
       "      <td>-5.004344</td>\n",
       "      <td>Puma Secondary</td>\n",
       "      <td>0</td>\n",
       "      <td>...</td>\n",
       "      <td>never pay</td>\n",
       "      <td>soft</td>\n",
       "      <td>good</td>\n",
       "      <td>insufficient</td>\n",
       "      <td>insufficient</td>\n",
       "      <td>rainwater harvesting</td>\n",
       "      <td>rainwater harvesting</td>\n",
       "      <td>surface</td>\n",
       "      <td>other</td>\n",
       "      <td>other</td>\n",
       "    </tr>\n",
       "    <tr>\n",
       "      <th>3</th>\n",
       "      <td>45559</td>\n",
       "      <td>0.0</td>\n",
       "      <td>2013-01-22</td>\n",
       "      <td>Finn Water</td>\n",
       "      <td>267</td>\n",
       "      <td>FINN WATER</td>\n",
       "      <td>38.058046</td>\n",
       "      <td>-9.418672</td>\n",
       "      <td>Kwa Mzee Pange</td>\n",
       "      <td>0</td>\n",
       "      <td>...</td>\n",
       "      <td>unknown</td>\n",
       "      <td>soft</td>\n",
       "      <td>good</td>\n",
       "      <td>dry</td>\n",
       "      <td>dry</td>\n",
       "      <td>shallow well</td>\n",
       "      <td>shallow well</td>\n",
       "      <td>groundwater</td>\n",
       "      <td>other</td>\n",
       "      <td>other</td>\n",
       "    </tr>\n",
       "    <tr>\n",
       "      <th>4</th>\n",
       "      <td>49871</td>\n",
       "      <td>500.0</td>\n",
       "      <td>2013-03-27</td>\n",
       "      <td>Bruder</td>\n",
       "      <td>1260</td>\n",
       "      <td>BRUDER</td>\n",
       "      <td>35.006123</td>\n",
       "      <td>-10.950412</td>\n",
       "      <td>Kwa Mzee Turuka</td>\n",
       "      <td>0</td>\n",
       "      <td>...</td>\n",
       "      <td>monthly</td>\n",
       "      <td>soft</td>\n",
       "      <td>good</td>\n",
       "      <td>enough</td>\n",
       "      <td>enough</td>\n",
       "      <td>spring</td>\n",
       "      <td>spring</td>\n",
       "      <td>groundwater</td>\n",
       "      <td>communal standpipe</td>\n",
       "      <td>communal standpipe</td>\n",
       "    </tr>\n",
       "  </tbody>\n",
       "</table>\n",
       "<p>5 rows × 40 columns</p>\n",
       "</div>"
      ],
      "text/plain": [
       "      id  amount_tsh date_recorded                  funder  gps_height  \\\n",
       "0  50785         0.0    2013-02-04                    Dmdd        1996   \n",
       "1  51630         0.0    2013-02-04  Government Of Tanzania        1569   \n",
       "2  17168         0.0    2013-02-01                     NaN        1567   \n",
       "3  45559         0.0    2013-01-22              Finn Water         267   \n",
       "4  49871       500.0    2013-03-27                  Bruder        1260   \n",
       "\n",
       "    installer  longitude   latitude                 wpt_name  num_private  \\\n",
       "0        DMDD  35.290799  -4.059696  Dinamu Secondary School            0   \n",
       "1         DWE  36.656709  -3.309214                  Kimnyak            0   \n",
       "2         NaN  34.767863  -5.004344           Puma Secondary            0   \n",
       "3  FINN WATER  38.058046  -9.418672           Kwa Mzee Pange            0   \n",
       "4      BRUDER  35.006123 -10.950412          Kwa Mzee Turuka            0   \n",
       "\n",
       "   ... payment_type water_quality quality_group      quantity  quantity_group  \\\n",
       "0  ...    never pay          soft          good      seasonal        seasonal   \n",
       "1  ...    never pay          soft          good  insufficient    insufficient   \n",
       "2  ...    never pay          soft          good  insufficient    insufficient   \n",
       "3  ...      unknown          soft          good           dry             dry   \n",
       "4  ...      monthly          soft          good        enough          enough   \n",
       "\n",
       "                 source           source_type  source_class  \\\n",
       "0  rainwater harvesting  rainwater harvesting       surface   \n",
       "1                spring                spring   groundwater   \n",
       "2  rainwater harvesting  rainwater harvesting       surface   \n",
       "3          shallow well          shallow well   groundwater   \n",
       "4                spring                spring   groundwater   \n",
       "\n",
       "      waterpoint_type waterpoint_type_group  \n",
       "0               other                 other  \n",
       "1  communal standpipe    communal standpipe  \n",
       "2               other                 other  \n",
       "3               other                 other  \n",
       "4  communal standpipe    communal standpipe  \n",
       "\n",
       "[5 rows x 40 columns]"
      ]
     },
     "execution_count": 6,
     "metadata": {},
     "output_type": "execute_result"
    }
   ],
   "source": [
    "test.head()"
   ]
  },
  {
   "cell_type": "code",
   "execution_count": 7,
   "id": "e8d190fc",
   "metadata": {},
   "outputs": [
    {
     "data": {
      "text/html": [
       "<div>\n",
       "<style scoped>\n",
       "    .dataframe tbody tr th:only-of-type {\n",
       "        vertical-align: middle;\n",
       "    }\n",
       "\n",
       "    .dataframe tbody tr th {\n",
       "        vertical-align: top;\n",
       "    }\n",
       "\n",
       "    .dataframe thead th {\n",
       "        text-align: right;\n",
       "    }\n",
       "</style>\n",
       "<table border=\"1\" class=\"dataframe\">\n",
       "  <thead>\n",
       "    <tr style=\"text-align: right;\">\n",
       "      <th></th>\n",
       "      <th>id</th>\n",
       "      <th>status_group</th>\n",
       "      <th>amount_tsh</th>\n",
       "      <th>date_recorded</th>\n",
       "      <th>funder</th>\n",
       "      <th>gps_height</th>\n",
       "      <th>installer</th>\n",
       "      <th>longitude</th>\n",
       "      <th>latitude</th>\n",
       "      <th>wpt_name</th>\n",
       "      <th>...</th>\n",
       "      <th>payment_type</th>\n",
       "      <th>water_quality</th>\n",
       "      <th>quality_group</th>\n",
       "      <th>quantity</th>\n",
       "      <th>quantity_group</th>\n",
       "      <th>source</th>\n",
       "      <th>source_type</th>\n",
       "      <th>source_class</th>\n",
       "      <th>waterpoint_type</th>\n",
       "      <th>waterpoint_type_group</th>\n",
       "    </tr>\n",
       "  </thead>\n",
       "  <tbody>\n",
       "    <tr>\n",
       "      <th>59395</th>\n",
       "      <td>60739</td>\n",
       "      <td>functional</td>\n",
       "      <td>10.0</td>\n",
       "      <td>2013-05-03</td>\n",
       "      <td>Germany Republi</td>\n",
       "      <td>1210</td>\n",
       "      <td>CES</td>\n",
       "      <td>37.169807</td>\n",
       "      <td>-3.253847</td>\n",
       "      <td>Area Three Namba 27</td>\n",
       "      <td>...</td>\n",
       "      <td>per bucket</td>\n",
       "      <td>soft</td>\n",
       "      <td>good</td>\n",
       "      <td>enough</td>\n",
       "      <td>enough</td>\n",
       "      <td>spring</td>\n",
       "      <td>spring</td>\n",
       "      <td>groundwater</td>\n",
       "      <td>communal standpipe</td>\n",
       "      <td>communal standpipe</td>\n",
       "    </tr>\n",
       "    <tr>\n",
       "      <th>59396</th>\n",
       "      <td>27263</td>\n",
       "      <td>functional</td>\n",
       "      <td>4700.0</td>\n",
       "      <td>2011-05-07</td>\n",
       "      <td>Cefa-njombe</td>\n",
       "      <td>1212</td>\n",
       "      <td>Cefa</td>\n",
       "      <td>35.249991</td>\n",
       "      <td>-9.070629</td>\n",
       "      <td>Kwa Yahona Kuvala</td>\n",
       "      <td>...</td>\n",
       "      <td>annually</td>\n",
       "      <td>soft</td>\n",
       "      <td>good</td>\n",
       "      <td>enough</td>\n",
       "      <td>enough</td>\n",
       "      <td>river</td>\n",
       "      <td>river/lake</td>\n",
       "      <td>surface</td>\n",
       "      <td>communal standpipe</td>\n",
       "      <td>communal standpipe</td>\n",
       "    </tr>\n",
       "    <tr>\n",
       "      <th>59397</th>\n",
       "      <td>37057</td>\n",
       "      <td>functional</td>\n",
       "      <td>0.0</td>\n",
       "      <td>2011-04-11</td>\n",
       "      <td>NaN</td>\n",
       "      <td>0</td>\n",
       "      <td>NaN</td>\n",
       "      <td>34.017087</td>\n",
       "      <td>-8.750434</td>\n",
       "      <td>Mashine</td>\n",
       "      <td>...</td>\n",
       "      <td>monthly</td>\n",
       "      <td>fluoride</td>\n",
       "      <td>fluoride</td>\n",
       "      <td>enough</td>\n",
       "      <td>enough</td>\n",
       "      <td>machine dbh</td>\n",
       "      <td>borehole</td>\n",
       "      <td>groundwater</td>\n",
       "      <td>hand pump</td>\n",
       "      <td>hand pump</td>\n",
       "    </tr>\n",
       "    <tr>\n",
       "      <th>59398</th>\n",
       "      <td>31282</td>\n",
       "      <td>functional</td>\n",
       "      <td>0.0</td>\n",
       "      <td>2011-03-08</td>\n",
       "      <td>Malec</td>\n",
       "      <td>0</td>\n",
       "      <td>Musa</td>\n",
       "      <td>35.861315</td>\n",
       "      <td>-6.378573</td>\n",
       "      <td>Mshoro</td>\n",
       "      <td>...</td>\n",
       "      <td>never pay</td>\n",
       "      <td>soft</td>\n",
       "      <td>good</td>\n",
       "      <td>insufficient</td>\n",
       "      <td>insufficient</td>\n",
       "      <td>shallow well</td>\n",
       "      <td>shallow well</td>\n",
       "      <td>groundwater</td>\n",
       "      <td>hand pump</td>\n",
       "      <td>hand pump</td>\n",
       "    </tr>\n",
       "    <tr>\n",
       "      <th>59399</th>\n",
       "      <td>26348</td>\n",
       "      <td>functional</td>\n",
       "      <td>0.0</td>\n",
       "      <td>2011-03-23</td>\n",
       "      <td>World Bank</td>\n",
       "      <td>191</td>\n",
       "      <td>World</td>\n",
       "      <td>38.104048</td>\n",
       "      <td>-6.747464</td>\n",
       "      <td>Kwa Mzee Lugawa</td>\n",
       "      <td>...</td>\n",
       "      <td>on failure</td>\n",
       "      <td>salty</td>\n",
       "      <td>salty</td>\n",
       "      <td>enough</td>\n",
       "      <td>enough</td>\n",
       "      <td>shallow well</td>\n",
       "      <td>shallow well</td>\n",
       "      <td>groundwater</td>\n",
       "      <td>hand pump</td>\n",
       "      <td>hand pump</td>\n",
       "    </tr>\n",
       "  </tbody>\n",
       "</table>\n",
       "<p>5 rows × 41 columns</p>\n",
       "</div>"
      ],
      "text/plain": [
       "          id status_group  amount_tsh date_recorded           funder  \\\n",
       "59395  60739   functional        10.0    2013-05-03  Germany Republi   \n",
       "59396  27263   functional      4700.0    2011-05-07      Cefa-njombe   \n",
       "59397  37057   functional         0.0    2011-04-11              NaN   \n",
       "59398  31282   functional         0.0    2011-03-08            Malec   \n",
       "59399  26348   functional         0.0    2011-03-23       World Bank   \n",
       "\n",
       "       gps_height installer  longitude  latitude             wpt_name  ...  \\\n",
       "59395        1210       CES  37.169807 -3.253847  Area Three Namba 27  ...   \n",
       "59396        1212      Cefa  35.249991 -9.070629    Kwa Yahona Kuvala  ...   \n",
       "59397           0       NaN  34.017087 -8.750434              Mashine  ...   \n",
       "59398           0      Musa  35.861315 -6.378573               Mshoro  ...   \n",
       "59399         191     World  38.104048 -6.747464      Kwa Mzee Lugawa  ...   \n",
       "\n",
       "       payment_type water_quality quality_group      quantity  quantity_group  \\\n",
       "59395    per bucket          soft          good        enough          enough   \n",
       "59396      annually          soft          good        enough          enough   \n",
       "59397       monthly      fluoride      fluoride        enough          enough   \n",
       "59398     never pay          soft          good  insufficient    insufficient   \n",
       "59399    on failure         salty         salty        enough          enough   \n",
       "\n",
       "             source   source_type source_class     waterpoint_type  \\\n",
       "59395        spring        spring  groundwater  communal standpipe   \n",
       "59396         river    river/lake      surface  communal standpipe   \n",
       "59397   machine dbh      borehole  groundwater           hand pump   \n",
       "59398  shallow well  shallow well  groundwater           hand pump   \n",
       "59399  shallow well  shallow well  groundwater           hand pump   \n",
       "\n",
       "      waterpoint_type_group  \n",
       "59395    communal standpipe  \n",
       "59396    communal standpipe  \n",
       "59397             hand pump  \n",
       "59398             hand pump  \n",
       "59399             hand pump  \n",
       "\n",
       "[5 rows x 41 columns]"
      ]
     },
     "execution_count": 7,
     "metadata": {},
     "output_type": "execute_result"
    }
   ],
   "source": [
    "# Previewing the tail of  dataset\n",
    "well_df.tail()"
   ]
  },
  {
   "cell_type": "code",
   "execution_count": 8,
   "id": "b19eefb2",
   "metadata": {},
   "outputs": [
    {
     "data": {
      "text/html": [
       "<div>\n",
       "<style scoped>\n",
       "    .dataframe tbody tr th:only-of-type {\n",
       "        vertical-align: middle;\n",
       "    }\n",
       "\n",
       "    .dataframe tbody tr th {\n",
       "        vertical-align: top;\n",
       "    }\n",
       "\n",
       "    .dataframe thead th {\n",
       "        text-align: right;\n",
       "    }\n",
       "</style>\n",
       "<table border=\"1\" class=\"dataframe\">\n",
       "  <thead>\n",
       "    <tr style=\"text-align: right;\">\n",
       "      <th></th>\n",
       "      <th>id</th>\n",
       "      <th>amount_tsh</th>\n",
       "      <th>date_recorded</th>\n",
       "      <th>funder</th>\n",
       "      <th>gps_height</th>\n",
       "      <th>installer</th>\n",
       "      <th>longitude</th>\n",
       "      <th>latitude</th>\n",
       "      <th>wpt_name</th>\n",
       "      <th>num_private</th>\n",
       "      <th>...</th>\n",
       "      <th>payment_type</th>\n",
       "      <th>water_quality</th>\n",
       "      <th>quality_group</th>\n",
       "      <th>quantity</th>\n",
       "      <th>quantity_group</th>\n",
       "      <th>source</th>\n",
       "      <th>source_type</th>\n",
       "      <th>source_class</th>\n",
       "      <th>waterpoint_type</th>\n",
       "      <th>waterpoint_type_group</th>\n",
       "    </tr>\n",
       "  </thead>\n",
       "  <tbody>\n",
       "    <tr>\n",
       "      <th>14845</th>\n",
       "      <td>39307</td>\n",
       "      <td>0.0</td>\n",
       "      <td>2011-02-24</td>\n",
       "      <td>Danida</td>\n",
       "      <td>34</td>\n",
       "      <td>Da</td>\n",
       "      <td>38.852669</td>\n",
       "      <td>-6.582841</td>\n",
       "      <td>Kwambwezi</td>\n",
       "      <td>0</td>\n",
       "      <td>...</td>\n",
       "      <td>never pay</td>\n",
       "      <td>soft</td>\n",
       "      <td>good</td>\n",
       "      <td>enough</td>\n",
       "      <td>enough</td>\n",
       "      <td>river</td>\n",
       "      <td>river/lake</td>\n",
       "      <td>surface</td>\n",
       "      <td>communal standpipe</td>\n",
       "      <td>communal standpipe</td>\n",
       "    </tr>\n",
       "    <tr>\n",
       "      <th>14846</th>\n",
       "      <td>18990</td>\n",
       "      <td>1000.0</td>\n",
       "      <td>2011-03-21</td>\n",
       "      <td>Hiap</td>\n",
       "      <td>0</td>\n",
       "      <td>HIAP</td>\n",
       "      <td>37.451633</td>\n",
       "      <td>-5.350428</td>\n",
       "      <td>Bonde La Mkondoa</td>\n",
       "      <td>0</td>\n",
       "      <td>...</td>\n",
       "      <td>annually</td>\n",
       "      <td>salty</td>\n",
       "      <td>salty</td>\n",
       "      <td>insufficient</td>\n",
       "      <td>insufficient</td>\n",
       "      <td>shallow well</td>\n",
       "      <td>shallow well</td>\n",
       "      <td>groundwater</td>\n",
       "      <td>hand pump</td>\n",
       "      <td>hand pump</td>\n",
       "    </tr>\n",
       "    <tr>\n",
       "      <th>14847</th>\n",
       "      <td>28749</td>\n",
       "      <td>0.0</td>\n",
       "      <td>2013-03-04</td>\n",
       "      <td>NaN</td>\n",
       "      <td>1476</td>\n",
       "      <td>NaN</td>\n",
       "      <td>34.739804</td>\n",
       "      <td>-4.585587</td>\n",
       "      <td>Bwawani</td>\n",
       "      <td>0</td>\n",
       "      <td>...</td>\n",
       "      <td>never pay</td>\n",
       "      <td>soft</td>\n",
       "      <td>good</td>\n",
       "      <td>insufficient</td>\n",
       "      <td>insufficient</td>\n",
       "      <td>dam</td>\n",
       "      <td>dam</td>\n",
       "      <td>surface</td>\n",
       "      <td>communal standpipe</td>\n",
       "      <td>communal standpipe</td>\n",
       "    </tr>\n",
       "    <tr>\n",
       "      <th>14848</th>\n",
       "      <td>33492</td>\n",
       "      <td>0.0</td>\n",
       "      <td>2013-02-18</td>\n",
       "      <td>Germany</td>\n",
       "      <td>998</td>\n",
       "      <td>DWE</td>\n",
       "      <td>35.432732</td>\n",
       "      <td>-10.584159</td>\n",
       "      <td>Kwa John</td>\n",
       "      <td>0</td>\n",
       "      <td>...</td>\n",
       "      <td>never pay</td>\n",
       "      <td>soft</td>\n",
       "      <td>good</td>\n",
       "      <td>insufficient</td>\n",
       "      <td>insufficient</td>\n",
       "      <td>river</td>\n",
       "      <td>river/lake</td>\n",
       "      <td>surface</td>\n",
       "      <td>communal standpipe</td>\n",
       "      <td>communal standpipe</td>\n",
       "    </tr>\n",
       "    <tr>\n",
       "      <th>14849</th>\n",
       "      <td>68707</td>\n",
       "      <td>0.0</td>\n",
       "      <td>2013-02-13</td>\n",
       "      <td>Government Of Tanzania</td>\n",
       "      <td>481</td>\n",
       "      <td>Government</td>\n",
       "      <td>34.765054</td>\n",
       "      <td>-11.226012</td>\n",
       "      <td>Kwa Mzee Chagala</td>\n",
       "      <td>0</td>\n",
       "      <td>...</td>\n",
       "      <td>never pay</td>\n",
       "      <td>soft</td>\n",
       "      <td>good</td>\n",
       "      <td>dry</td>\n",
       "      <td>dry</td>\n",
       "      <td>spring</td>\n",
       "      <td>spring</td>\n",
       "      <td>groundwater</td>\n",
       "      <td>communal standpipe</td>\n",
       "      <td>communal standpipe</td>\n",
       "    </tr>\n",
       "  </tbody>\n",
       "</table>\n",
       "<p>5 rows × 40 columns</p>\n",
       "</div>"
      ],
      "text/plain": [
       "          id  amount_tsh date_recorded                  funder  gps_height  \\\n",
       "14845  39307         0.0    2011-02-24                  Danida          34   \n",
       "14846  18990      1000.0    2011-03-21                    Hiap           0   \n",
       "14847  28749         0.0    2013-03-04                     NaN        1476   \n",
       "14848  33492         0.0    2013-02-18                 Germany         998   \n",
       "14849  68707         0.0    2013-02-13  Government Of Tanzania         481   \n",
       "\n",
       "        installer  longitude   latitude          wpt_name  num_private  ...  \\\n",
       "14845          Da  38.852669  -6.582841         Kwambwezi            0  ...   \n",
       "14846        HIAP  37.451633  -5.350428  Bonde La Mkondoa            0  ...   \n",
       "14847         NaN  34.739804  -4.585587           Bwawani            0  ...   \n",
       "14848         DWE  35.432732 -10.584159          Kwa John            0  ...   \n",
       "14849  Government  34.765054 -11.226012  Kwa Mzee Chagala            0  ...   \n",
       "\n",
       "      payment_type water_quality quality_group      quantity  quantity_group  \\\n",
       "14845    never pay          soft          good        enough          enough   \n",
       "14846     annually         salty         salty  insufficient    insufficient   \n",
       "14847    never pay          soft          good  insufficient    insufficient   \n",
       "14848    never pay          soft          good  insufficient    insufficient   \n",
       "14849    never pay          soft          good           dry             dry   \n",
       "\n",
       "             source   source_type  source_class     waterpoint_type  \\\n",
       "14845         river    river/lake       surface  communal standpipe   \n",
       "14846  shallow well  shallow well   groundwater           hand pump   \n",
       "14847           dam           dam       surface  communal standpipe   \n",
       "14848         river    river/lake       surface  communal standpipe   \n",
       "14849        spring        spring   groundwater  communal standpipe   \n",
       "\n",
       "      waterpoint_type_group  \n",
       "14845    communal standpipe  \n",
       "14846             hand pump  \n",
       "14847    communal standpipe  \n",
       "14848    communal standpipe  \n",
       "14849    communal standpipe  \n",
       "\n",
       "[5 rows x 40 columns]"
      ]
     },
     "execution_count": 8,
     "metadata": {},
     "output_type": "execute_result"
    }
   ],
   "source": [
    "test.tail()"
   ]
  },
  {
   "cell_type": "code",
   "execution_count": 9,
   "id": "4a58f8e6",
   "metadata": {},
   "outputs": [
    {
     "data": {
      "text/plain": [
       "Index(['id', 'status_group', 'amount_tsh', 'date_recorded', 'funder',\n",
       "       'gps_height', 'installer', 'longitude', 'latitude', 'wpt_name',\n",
       "       'num_private', 'basin', 'subvillage', 'region', 'region_code',\n",
       "       'district_code', 'lga', 'ward', 'population', 'public_meeting',\n",
       "       'recorded_by', 'scheme_management', 'scheme_name', 'permit',\n",
       "       'construction_year', 'extraction_type', 'extraction_type_group',\n",
       "       'extraction_type_class', 'management', 'management_group', 'payment',\n",
       "       'payment_type', 'water_quality', 'quality_group', 'quantity',\n",
       "       'quantity_group', 'source', 'source_type', 'source_class',\n",
       "       'waterpoint_type', 'waterpoint_type_group'],\n",
       "      dtype='object')"
      ]
     },
     "execution_count": 9,
     "metadata": {},
     "output_type": "execute_result"
    }
   ],
   "source": [
    "# check column names\n",
    "well_df.columns"
   ]
  },
  {
   "cell_type": "code",
   "execution_count": 10,
   "id": "8b6e8b09",
   "metadata": {},
   "outputs": [
    {
     "name": "stdout",
     "output_type": "stream",
     "text": [
      "The data has 59400 rows and 41 columns\n"
     ]
    }
   ],
   "source": [
    "# shape of the data\n",
    "\n",
    "print(f'The data has {well_df.shape[0]} rows and {well_df.shape[1]} columns')"
   ]
  },
  {
   "cell_type": "code",
   "execution_count": 11,
   "id": "edfccb2c",
   "metadata": {},
   "outputs": [
    {
     "name": "stdout",
     "output_type": "stream",
     "text": [
      "The data has 14850 rows and 40 columns\n"
     ]
    }
   ],
   "source": [
    "print(f'The data has {test.shape[0]} rows and {test.shape[1]} columns')"
   ]
  },
  {
   "cell_type": "code",
   "execution_count": 12,
   "id": "442f757a",
   "metadata": {},
   "outputs": [
    {
     "name": "stdout",
     "output_type": "stream",
     "text": [
      "<class 'pandas.core.frame.DataFrame'>\n",
      "Int64Index: 59400 entries, 0 to 59399\n",
      "Data columns (total 41 columns):\n",
      " #   Column                 Non-Null Count  Dtype  \n",
      "---  ------                 --------------  -----  \n",
      " 0   id                     59400 non-null  int64  \n",
      " 1   status_group           59400 non-null  object \n",
      " 2   amount_tsh             59400 non-null  float64\n",
      " 3   date_recorded          59400 non-null  object \n",
      " 4   funder                 55765 non-null  object \n",
      " 5   gps_height             59400 non-null  int64  \n",
      " 6   installer              55745 non-null  object \n",
      " 7   longitude              59400 non-null  float64\n",
      " 8   latitude               59400 non-null  float64\n",
      " 9   wpt_name               59400 non-null  object \n",
      " 10  num_private            59400 non-null  int64  \n",
      " 11  basin                  59400 non-null  object \n",
      " 12  subvillage             59029 non-null  object \n",
      " 13  region                 59400 non-null  object \n",
      " 14  region_code            59400 non-null  int64  \n",
      " 15  district_code          59400 non-null  int64  \n",
      " 16  lga                    59400 non-null  object \n",
      " 17  ward                   59400 non-null  object \n",
      " 18  population             59400 non-null  int64  \n",
      " 19  public_meeting         56066 non-null  object \n",
      " 20  recorded_by            59400 non-null  object \n",
      " 21  scheme_management      55523 non-null  object \n",
      " 22  scheme_name            31234 non-null  object \n",
      " 23  permit                 56344 non-null  object \n",
      " 24  construction_year      59400 non-null  int64  \n",
      " 25  extraction_type        59400 non-null  object \n",
      " 26  extraction_type_group  59400 non-null  object \n",
      " 27  extraction_type_class  59400 non-null  object \n",
      " 28  management             59400 non-null  object \n",
      " 29  management_group       59400 non-null  object \n",
      " 30  payment                59400 non-null  object \n",
      " 31  payment_type           59400 non-null  object \n",
      " 32  water_quality          59400 non-null  object \n",
      " 33  quality_group          59400 non-null  object \n",
      " 34  quantity               59400 non-null  object \n",
      " 35  quantity_group         59400 non-null  object \n",
      " 36  source                 59400 non-null  object \n",
      " 37  source_type            59400 non-null  object \n",
      " 38  source_class           59400 non-null  object \n",
      " 39  waterpoint_type        59400 non-null  object \n",
      " 40  waterpoint_type_group  59400 non-null  object \n",
      "dtypes: float64(3), int64(7), object(31)\n",
      "memory usage: 19.0+ MB\n"
     ]
    }
   ],
   "source": [
    "# check information of the data\n",
    "well_df.info()"
   ]
  },
  {
   "cell_type": "code",
   "execution_count": 13,
   "id": "132621d3",
   "metadata": {},
   "outputs": [
    {
     "data": {
      "text/html": [
       "<div>\n",
       "<style scoped>\n",
       "    .dataframe tbody tr th:only-of-type {\n",
       "        vertical-align: middle;\n",
       "    }\n",
       "\n",
       "    .dataframe tbody tr th {\n",
       "        vertical-align: top;\n",
       "    }\n",
       "\n",
       "    .dataframe thead th {\n",
       "        text-align: right;\n",
       "    }\n",
       "</style>\n",
       "<table border=\"1\" class=\"dataframe\">\n",
       "  <thead>\n",
       "    <tr style=\"text-align: right;\">\n",
       "      <th></th>\n",
       "      <th>count</th>\n",
       "      <th>mean</th>\n",
       "      <th>std</th>\n",
       "      <th>min</th>\n",
       "      <th>25%</th>\n",
       "      <th>50%</th>\n",
       "      <th>75%</th>\n",
       "      <th>max</th>\n",
       "    </tr>\n",
       "  </thead>\n",
       "  <tbody>\n",
       "    <tr>\n",
       "      <th>id</th>\n",
       "      <td>59400.0</td>\n",
       "      <td>37115.131768</td>\n",
       "      <td>21453.128371</td>\n",
       "      <td>0.00000</td>\n",
       "      <td>18519.750000</td>\n",
       "      <td>37061.500000</td>\n",
       "      <td>55656.500000</td>\n",
       "      <td>7.424700e+04</td>\n",
       "    </tr>\n",
       "    <tr>\n",
       "      <th>amount_tsh</th>\n",
       "      <td>59400.0</td>\n",
       "      <td>317.650385</td>\n",
       "      <td>2997.574558</td>\n",
       "      <td>0.00000</td>\n",
       "      <td>0.000000</td>\n",
       "      <td>0.000000</td>\n",
       "      <td>20.000000</td>\n",
       "      <td>3.500000e+05</td>\n",
       "    </tr>\n",
       "    <tr>\n",
       "      <th>gps_height</th>\n",
       "      <td>59400.0</td>\n",
       "      <td>668.297239</td>\n",
       "      <td>693.116350</td>\n",
       "      <td>-90.00000</td>\n",
       "      <td>0.000000</td>\n",
       "      <td>369.000000</td>\n",
       "      <td>1319.250000</td>\n",
       "      <td>2.770000e+03</td>\n",
       "    </tr>\n",
       "    <tr>\n",
       "      <th>longitude</th>\n",
       "      <td>59400.0</td>\n",
       "      <td>34.077427</td>\n",
       "      <td>6.567432</td>\n",
       "      <td>0.00000</td>\n",
       "      <td>33.090347</td>\n",
       "      <td>34.908743</td>\n",
       "      <td>37.178387</td>\n",
       "      <td>4.034519e+01</td>\n",
       "    </tr>\n",
       "    <tr>\n",
       "      <th>latitude</th>\n",
       "      <td>59400.0</td>\n",
       "      <td>-5.706033</td>\n",
       "      <td>2.946019</td>\n",
       "      <td>-11.64944</td>\n",
       "      <td>-8.540621</td>\n",
       "      <td>-5.021597</td>\n",
       "      <td>-3.326156</td>\n",
       "      <td>-2.000000e-08</td>\n",
       "    </tr>\n",
       "    <tr>\n",
       "      <th>num_private</th>\n",
       "      <td>59400.0</td>\n",
       "      <td>0.474141</td>\n",
       "      <td>12.236230</td>\n",
       "      <td>0.00000</td>\n",
       "      <td>0.000000</td>\n",
       "      <td>0.000000</td>\n",
       "      <td>0.000000</td>\n",
       "      <td>1.776000e+03</td>\n",
       "    </tr>\n",
       "    <tr>\n",
       "      <th>region_code</th>\n",
       "      <td>59400.0</td>\n",
       "      <td>15.297003</td>\n",
       "      <td>17.587406</td>\n",
       "      <td>1.00000</td>\n",
       "      <td>5.000000</td>\n",
       "      <td>12.000000</td>\n",
       "      <td>17.000000</td>\n",
       "      <td>9.900000e+01</td>\n",
       "    </tr>\n",
       "    <tr>\n",
       "      <th>district_code</th>\n",
       "      <td>59400.0</td>\n",
       "      <td>5.629747</td>\n",
       "      <td>9.633649</td>\n",
       "      <td>0.00000</td>\n",
       "      <td>2.000000</td>\n",
       "      <td>3.000000</td>\n",
       "      <td>5.000000</td>\n",
       "      <td>8.000000e+01</td>\n",
       "    </tr>\n",
       "    <tr>\n",
       "      <th>population</th>\n",
       "      <td>59400.0</td>\n",
       "      <td>179.909983</td>\n",
       "      <td>471.482176</td>\n",
       "      <td>0.00000</td>\n",
       "      <td>0.000000</td>\n",
       "      <td>25.000000</td>\n",
       "      <td>215.000000</td>\n",
       "      <td>3.050000e+04</td>\n",
       "    </tr>\n",
       "    <tr>\n",
       "      <th>construction_year</th>\n",
       "      <td>59400.0</td>\n",
       "      <td>1300.652475</td>\n",
       "      <td>951.620547</td>\n",
       "      <td>0.00000</td>\n",
       "      <td>0.000000</td>\n",
       "      <td>1986.000000</td>\n",
       "      <td>2004.000000</td>\n",
       "      <td>2.013000e+03</td>\n",
       "    </tr>\n",
       "  </tbody>\n",
       "</table>\n",
       "</div>"
      ],
      "text/plain": [
       "                     count          mean           std       min  \\\n",
       "id                 59400.0  37115.131768  21453.128371   0.00000   \n",
       "amount_tsh         59400.0    317.650385   2997.574558   0.00000   \n",
       "gps_height         59400.0    668.297239    693.116350 -90.00000   \n",
       "longitude          59400.0     34.077427      6.567432   0.00000   \n",
       "latitude           59400.0     -5.706033      2.946019 -11.64944   \n",
       "num_private        59400.0      0.474141     12.236230   0.00000   \n",
       "region_code        59400.0     15.297003     17.587406   1.00000   \n",
       "district_code      59400.0      5.629747      9.633649   0.00000   \n",
       "population         59400.0    179.909983    471.482176   0.00000   \n",
       "construction_year  59400.0   1300.652475    951.620547   0.00000   \n",
       "\n",
       "                            25%           50%           75%           max  \n",
       "id                 18519.750000  37061.500000  55656.500000  7.424700e+04  \n",
       "amount_tsh             0.000000      0.000000     20.000000  3.500000e+05  \n",
       "gps_height             0.000000    369.000000   1319.250000  2.770000e+03  \n",
       "longitude             33.090347     34.908743     37.178387  4.034519e+01  \n",
       "latitude              -8.540621     -5.021597     -3.326156 -2.000000e-08  \n",
       "num_private            0.000000      0.000000      0.000000  1.776000e+03  \n",
       "region_code            5.000000     12.000000     17.000000  9.900000e+01  \n",
       "district_code          2.000000      3.000000      5.000000  8.000000e+01  \n",
       "population             0.000000     25.000000    215.000000  3.050000e+04  \n",
       "construction_year      0.000000   1986.000000   2004.000000  2.013000e+03  "
      ]
     },
     "execution_count": 13,
     "metadata": {},
     "output_type": "execute_result"
    }
   ],
   "source": [
    "# descriptive statistics for our numeric values in dataset\n",
    "well_df.describe().T"
   ]
  },
  {
   "cell_type": "markdown",
   "id": "4f9be469",
   "metadata": {},
   "source": [
    "## 4. External Data Source Validation"
   ]
  },
  {
   "cell_type": "markdown",
   "id": "69de104b",
   "metadata": {},
   "source": [
    "Making sure your data matches something outside of the dataset is very important. It allows you to ensure that the measurements are roughly in line with what they should be and it serves as a check on what other things might be wrong in your dataset. External validation can often be as simple as checking your data against a single number, as we will do here."
   ]
  },
  {
   "cell_type": "markdown",
   "id": "547f5878",
   "metadata": {},
   "source": [
    "### a.Validation"
   ]
  },
  {
   "cell_type": "markdown",
   "id": "e6d52058",
   "metadata": {},
   "source": [
    "## 5. Tidying the Dataset"
   ]
  },
  {
   "cell_type": "markdown",
   "id": "0381cbd3",
   "metadata": {},
   "source": [
    "### Missing value\n",
    "\n",
    "While identifying these missing records proves to be easy, how to handle them often requires careful consideration as random fills or removal can lead to unforeseen results.\n",
    "\n",
    "There are a couple of ways to deal with missing data but it is important to note that neither is the optimal way of doing so:\n",
    "\n",
    "* **Dropping** - Deleting the records with missing values.\n",
    "* **Replacing** - Updating Missing values with values, this values could be actual or approximate."
   ]
  },
  {
   "cell_type": "code",
   "execution_count": 14,
   "id": "c1ca6222",
   "metadata": {},
   "outputs": [],
   "source": [
    "# function that checks for missing values and display as percentage\n",
    "def missing_values(data):\n",
    "    \"\"\"A simple function to identify data has missing values\"\"\"\n",
    "    # identify the total missing values per column\n",
    "    # sort in order \n",
    "    miss = data.isnull().sum().sort_values(ascending = False)\n",
    "\n",
    "    # calculate percentage of the missing values\n",
    "    percentage_miss = (data.isnull().sum() / len(data)).sort_values(ascending = False)*100\n",
    "    # store in a dataframe \n",
    "    missing = pd.DataFrame({\"Missing Values\": miss, \"Percentage(%)\": percentage_miss})\n",
    "\n",
    "    # remove values that are missing \n",
    "    missing.drop(missing[missing[\"Percentage(%)\"] == 0].index, inplace = True)\n",
    "\n",
    "    return missing\n"
   ]
  },
  {
   "cell_type": "code",
   "execution_count": 15,
   "id": "b417c22f",
   "metadata": {},
   "outputs": [
    {
     "data": {
      "text/html": [
       "<div>\n",
       "<style scoped>\n",
       "    .dataframe tbody tr th:only-of-type {\n",
       "        vertical-align: middle;\n",
       "    }\n",
       "\n",
       "    .dataframe tbody tr th {\n",
       "        vertical-align: top;\n",
       "    }\n",
       "\n",
       "    .dataframe thead th {\n",
       "        text-align: right;\n",
       "    }\n",
       "</style>\n",
       "<table border=\"1\" class=\"dataframe\">\n",
       "  <thead>\n",
       "    <tr style=\"text-align: right;\">\n",
       "      <th></th>\n",
       "      <th>Missing Values</th>\n",
       "      <th>Percentage(%)</th>\n",
       "    </tr>\n",
       "  </thead>\n",
       "  <tbody>\n",
       "    <tr>\n",
       "      <th>scheme_name</th>\n",
       "      <td>28166</td>\n",
       "      <td>47.417508</td>\n",
       "    </tr>\n",
       "    <tr>\n",
       "      <th>scheme_management</th>\n",
       "      <td>3877</td>\n",
       "      <td>6.526936</td>\n",
       "    </tr>\n",
       "    <tr>\n",
       "      <th>installer</th>\n",
       "      <td>3655</td>\n",
       "      <td>6.153199</td>\n",
       "    </tr>\n",
       "    <tr>\n",
       "      <th>funder</th>\n",
       "      <td>3635</td>\n",
       "      <td>6.119529</td>\n",
       "    </tr>\n",
       "    <tr>\n",
       "      <th>public_meeting</th>\n",
       "      <td>3334</td>\n",
       "      <td>5.612795</td>\n",
       "    </tr>\n",
       "    <tr>\n",
       "      <th>permit</th>\n",
       "      <td>3056</td>\n",
       "      <td>5.144781</td>\n",
       "    </tr>\n",
       "    <tr>\n",
       "      <th>subvillage</th>\n",
       "      <td>371</td>\n",
       "      <td>0.624579</td>\n",
       "    </tr>\n",
       "  </tbody>\n",
       "</table>\n",
       "</div>"
      ],
      "text/plain": [
       "                   Missing Values  Percentage(%)\n",
       "scheme_name                 28166      47.417508\n",
       "scheme_management            3877       6.526936\n",
       "installer                    3655       6.153199\n",
       "funder                       3635       6.119529\n",
       "public_meeting               3334       5.612795\n",
       "permit                       3056       5.144781\n",
       "subvillage                    371       0.624579"
      ]
     },
     "execution_count": 15,
     "metadata": {},
     "output_type": "execute_result"
    }
   ],
   "source": [
    "missing_values(well_df)"
   ]
  },
  {
   "cell_type": "markdown",
   "id": "46f7d44c",
   "metadata": {},
   "source": [
    "Since `scheme_name` has 47% of its data missing we can't drop its rows since we will be loosing almost half of our data.\n",
    "So we drop the entire column"
   ]
  },
  {
   "cell_type": "code",
   "execution_count": 16,
   "id": "557ac836",
   "metadata": {},
   "outputs": [],
   "source": [
    "# Drop a column by name\n",
    "well_df = well_df.drop(columns=[\"scheme_name\"])"
   ]
  },
  {
   "cell_type": "markdown",
   "id": "db2d0b2c",
   "metadata": {},
   "source": [
    "The other ones have les than 5% of the data missing so will be drop rows only"
   ]
  },
  {
   "cell_type": "code",
   "execution_count": 17,
   "id": "24b0b8dd",
   "metadata": {},
   "outputs": [],
   "source": [
    "#drop the rows with missing values\n",
    "well_df = well_df.dropna()"
   ]
  },
  {
   "cell_type": "code",
   "execution_count": 18,
   "id": "ca386936",
   "metadata": {},
   "outputs": [
    {
     "data": {
      "text/html": [
       "<div>\n",
       "<style scoped>\n",
       "    .dataframe tbody tr th:only-of-type {\n",
       "        vertical-align: middle;\n",
       "    }\n",
       "\n",
       "    .dataframe tbody tr th {\n",
       "        vertical-align: top;\n",
       "    }\n",
       "\n",
       "    .dataframe thead th {\n",
       "        text-align: right;\n",
       "    }\n",
       "</style>\n",
       "<table border=\"1\" class=\"dataframe\">\n",
       "  <thead>\n",
       "    <tr style=\"text-align: right;\">\n",
       "      <th></th>\n",
       "      <th>Missing Values</th>\n",
       "      <th>Percentage(%)</th>\n",
       "    </tr>\n",
       "  </thead>\n",
       "  <tbody>\n",
       "    <tr>\n",
       "      <th>scheme_name</th>\n",
       "      <td>7092</td>\n",
       "      <td>47.757576</td>\n",
       "    </tr>\n",
       "    <tr>\n",
       "      <th>scheme_management</th>\n",
       "      <td>969</td>\n",
       "      <td>6.525253</td>\n",
       "    </tr>\n",
       "    <tr>\n",
       "      <th>installer</th>\n",
       "      <td>877</td>\n",
       "      <td>5.905724</td>\n",
       "    </tr>\n",
       "    <tr>\n",
       "      <th>funder</th>\n",
       "      <td>869</td>\n",
       "      <td>5.851852</td>\n",
       "    </tr>\n",
       "    <tr>\n",
       "      <th>public_meeting</th>\n",
       "      <td>821</td>\n",
       "      <td>5.528620</td>\n",
       "    </tr>\n",
       "    <tr>\n",
       "      <th>permit</th>\n",
       "      <td>737</td>\n",
       "      <td>4.962963</td>\n",
       "    </tr>\n",
       "    <tr>\n",
       "      <th>subvillage</th>\n",
       "      <td>99</td>\n",
       "      <td>0.666667</td>\n",
       "    </tr>\n",
       "  </tbody>\n",
       "</table>\n",
       "</div>"
      ],
      "text/plain": [
       "                   Missing Values  Percentage(%)\n",
       "scheme_name                  7092      47.757576\n",
       "scheme_management             969       6.525253\n",
       "installer                     877       5.905724\n",
       "funder                        869       5.851852\n",
       "public_meeting                821       5.528620\n",
       "permit                        737       4.962963\n",
       "subvillage                     99       0.666667"
      ]
     },
     "execution_count": 18,
     "metadata": {},
     "output_type": "execute_result"
    }
   ],
   "source": [
    "missing_values(test)"
   ]
  },
  {
   "cell_type": "code",
   "execution_count": 19,
   "id": "983f6fe1",
   "metadata": {},
   "outputs": [],
   "source": [
    "# Drop a column by name\n",
    "test = test.drop(columns=[\"scheme_name\"])"
   ]
  },
  {
   "cell_type": "code",
   "execution_count": 20,
   "id": "b6a0dee1",
   "metadata": {},
   "outputs": [],
   "source": [
    "#drop the rows with missing values\n",
    "test = test.dropna()\n"
   ]
  },
  {
   "cell_type": "markdown",
   "id": "448ff69c",
   "metadata": {},
   "source": [
    "### Removal of Duplicate and Unwanted Observations\n",
    "\n",
    "* **Duplicated Entries** - Complete carbon copy of rows or column values. \n",
    "* **Unwanted observations** - Irrelevant data records that don’t actually fit the specific problem you are trying to analyze or solve"
   ]
  },
  {
   "cell_type": "markdown",
   "id": "400d576a",
   "metadata": {},
   "source": [
    "Check for any duplicates in the column"
   ]
  },
  {
   "cell_type": "code",
   "execution_count": 21,
   "id": "cbaf1133",
   "metadata": {},
   "outputs": [
    {
     "data": {
      "text/plain": [
       "0"
      ]
     },
     "execution_count": 21,
     "metadata": {},
     "output_type": "execute_result"
    }
   ],
   "source": [
    "# Checking for duplicates in rows\n",
    "well_df.duplicated().sum()"
   ]
  },
  {
   "cell_type": "code",
   "execution_count": 22,
   "id": "21deeb29",
   "metadata": {},
   "outputs": [
    {
     "data": {
      "text/plain": [
       "0"
      ]
     },
     "execution_count": 22,
     "metadata": {},
     "output_type": "execute_result"
    }
   ],
   "source": [
    "# Checking for duplicates in rows\n",
    "test.duplicated().sum()"
   ]
  },
  {
   "cell_type": "markdown",
   "id": "b6f0d829",
   "metadata": {},
   "source": [
    "Next we check if their is any uniqie column `id` has duplicates "
   ]
  },
  {
   "cell_type": "code",
   "execution_count": 23,
   "id": "c52bbfc0",
   "metadata": {},
   "outputs": [],
   "source": [
    "def unique_column_duplicates(data, column):\n",
    "    \"\"\"handling duplicates in unique column\"\"\"\n",
    "    # empty list to store the duplicate bools\n",
    "    duplicates = []\n",
    "    for i in data[column].duplicated():\n",
    "        duplicates.append(i)\n",
    "    \n",
    "    # identify if there are any duplicates\n",
    "    duplicates_set = set(duplicates)\n",
    "    if (len(duplicates_set) == 1):\n",
    "        print(f\"The column {column.title()} has no duplicates\")\n",
    "    else:\n",
    "        no_true = 0\n",
    "        for val in duplicates:\n",
    "            if (val == True):\n",
    "                no_true += 1\n",
    "        # percentage of the data represented by duplicates \n",
    "        duplicates_percentage = np.round(((no_true / len(data)) * 100), 3)\n",
    "        print(f\"The column {column.title()} has {no_true} duplicated rows.\\nThis constitutes {duplicates_percentage}% of the data set.\")\n"
   ]
  },
  {
   "cell_type": "code",
   "execution_count": 24,
   "id": "9a8f61b5",
   "metadata": {},
   "outputs": [
    {
     "name": "stdout",
     "output_type": "stream",
     "text": [
      "The column Id has no duplicates\n"
     ]
    }
   ],
   "source": [
    "unique_column_duplicates(well_df, \"id\")"
   ]
  },
  {
   "cell_type": "code",
   "execution_count": 25,
   "id": "66e19fdc",
   "metadata": {},
   "outputs": [
    {
     "name": "stdout",
     "output_type": "stream",
     "text": [
      "The column Id has no duplicates\n"
     ]
    }
   ],
   "source": [
    "unique_column_duplicates(test, \"id\")"
   ]
  },
  {
   "cell_type": "markdown",
   "id": "40f95aec",
   "metadata": {},
   "source": [
    "Their columns that have different names but same values in their rows "
   ]
  },
  {
   "cell_type": "code",
   "execution_count": 26,
   "id": "bf1c2293",
   "metadata": {},
   "outputs": [
    {
     "name": "stdout",
     "output_type": "stream",
     "text": [
      "never pay     20690\n",
      "per bucket     7897\n",
      "monthly        7542\n",
      "unknown        4172\n",
      "on failure     3642\n",
      "annually       3417\n",
      "other           928\n",
      "Name: payment_type, dtype: int64\n",
      " \n",
      "never pay                20690\n",
      "pay per bucket            7897\n",
      "pay monthly               7542\n",
      "unknown                   4172\n",
      "pay when scheme fails     3642\n",
      "pay annually              3417\n",
      "other                      928\n",
      "Name: payment, dtype: int64\n"
     ]
    }
   ],
   "source": [
    "# Compare payment and payment_type columns in the DataFrame\n",
    "print(well_df['payment_type'].value_counts())\n",
    "print(\" \")\n",
    "print(well_df['payment'].value_counts())"
   ]
  },
  {
   "cell_type": "code",
   "execution_count": 27,
   "id": "0812f60f",
   "metadata": {},
   "outputs": [
    {
     "name": "stdout",
     "output_type": "stream",
     "text": [
      "good        42667\n",
      "salty        3949\n",
      "unknown       880\n",
      "colored       320\n",
      "milky         299\n",
      "fluoride      173\n",
      "Name: quality_group, dtype: int64\n",
      " \n",
      "soft                  42667\n",
      "salty                  3718\n",
      "unknown                 880\n",
      "coloured                320\n",
      "milky                   299\n",
      "salty abandoned         231\n",
      "fluoride                160\n",
      "fluoride abandoned       13\n",
      "Name: water_quality, dtype: int64\n"
     ]
    }
   ],
   "source": [
    "# Compare quality_group  and water_quality columns in the DataFrame\n",
    "print(well_df['quality_group'].value_counts())\n",
    "print(\" \")\n",
    "print(well_df['water_quality'].value_counts())"
   ]
  },
  {
   "cell_type": "code",
   "execution_count": 28,
   "id": "8137485c",
   "metadata": {},
   "outputs": [
    {
     "name": "stdout",
     "output_type": "stream",
     "text": [
      "gravity                      23036\n",
      "nira/tanira                   6260\n",
      "other                         4538\n",
      "submersible                   3645\n",
      "swn 80                        2858\n",
      "mono                          2382\n",
      "india mark ii                 2047\n",
      "afridev                       1346\n",
      "ksb                           1330\n",
      "other - rope pump              212\n",
      "other - swn 81                 199\n",
      "windmill                       104\n",
      "cemo                            89\n",
      "india mark iii                  87\n",
      "other - play pump               76\n",
      "walimi                          46\n",
      "climax                          32\n",
      "other - mkulima/shinyanga        1\n",
      "Name: extraction_type, dtype: int64\n",
      " \n",
      "gravity            23036\n",
      "nira/tanira         6260\n",
      "submersible         4975\n",
      "other               4538\n",
      "swn 80              2858\n",
      "mono                2382\n",
      "india mark ii       2047\n",
      "afridev             1346\n",
      "other handpump       322\n",
      "rope pump            212\n",
      "other motorpump      121\n",
      "wind-powered         104\n",
      "india mark iii        87\n",
      "Name: extraction_type_group, dtype: int64\n",
      " \n",
      "gravity         23036\n",
      "handpump        12920\n",
      "submersible      4975\n",
      "other            4538\n",
      "motorpump        2503\n",
      "rope pump         212\n",
      "wind-powered      104\n",
      "Name: extraction_type_class, dtype: int64\n"
     ]
    }
   ],
   "source": [
    "# Compare extraction_type_group, extraction_type_class, extraction_type columns in the DataFrame\n",
    "print(well_df['extraction_type'].value_counts())\n",
    "print(\" \")\n",
    "print(well_df['extraction_type_group'].value_counts())\n",
    "print(\" \")\n",
    "print(well_df['extraction_type_class'].value_counts())"
   ]
  },
  {
   "cell_type": "code",
   "execution_count": 29,
   "id": "35252d13",
   "metadata": {},
   "outputs": [
    {
     "name": "stdout",
     "output_type": "stream",
     "text": [
      "communal standpipe             23837\n",
      "hand pump                      13602\n",
      "communal standpipe multiple     5459\n",
      "other                           4651\n",
      "improved spring                  651\n",
      "cattle trough                     82\n",
      "dam                                6\n",
      "Name: waterpoint_type, dtype: int64\n",
      " \n",
      "communal standpipe    29296\n",
      "hand pump             13602\n",
      "other                  4651\n",
      "improved spring         651\n",
      "cattle trough            82\n",
      "dam                       6\n",
      "Name: waterpoint_type_group, dtype: int64\n"
     ]
    }
   ],
   "source": [
    "# Compare waterpoint_type, waterpoint_type_group columns in the DataFrame\n",
    "print(well_df['waterpoint_type'].value_counts())\n",
    "print(\" \")\n",
    "print(well_df['waterpoint_type_group'].value_counts())"
   ]
  },
  {
   "cell_type": "code",
   "execution_count": 30,
   "id": "58939963",
   "metadata": {},
   "outputs": [
    {
     "name": "stdout",
     "output_type": "stream",
     "text": [
      "enough          28355\n",
      "insufficient    11799\n",
      "dry              4945\n",
      "seasonal         2899\n",
      "unknown           290\n",
      "Name: quantity, dtype: int64\n",
      " \n",
      "enough          28355\n",
      "insufficient    11799\n",
      "dry              4945\n",
      "seasonal         2899\n",
      "unknown           290\n",
      "Name: quantity_group, dtype: int64\n"
     ]
    }
   ],
   "source": [
    "# Compare quantity, quantity_group columns in the DataFrame\n",
    "print(well_df['quantity'].value_counts())\n",
    "print(\" \")\n",
    "print(well_df['quantity_group'].value_counts())"
   ]
  },
  {
   "cell_type": "markdown",
   "id": "ff2d4a53",
   "metadata": {},
   "source": [
    "Since this Columns have similar value count there is not need of keeping both we can drop one and remain with the most profficient one"
   ]
  },
  {
   "cell_type": "code",
   "execution_count": 31,
   "id": "2cee9e47",
   "metadata": {},
   "outputs": [],
   "source": [
    "# droping the columns\n",
    "well_df = well_df.drop(columns=['waterpoint_type', 'quantity', 'quality_group', 'payment_type', 'extraction_type_group', 'extraction_type_class'])\n",
    "test = test.drop(columns=['waterpoint_type', 'quantity', 'quality_group', 'payment_type', 'extraction_type_group', 'extraction_type_class'])"
   ]
  },
  {
   "cell_type": "markdown",
   "id": "e5e29d0f",
   "metadata": {},
   "source": [
    "## 6. Exploratory Analysis"
   ]
  },
  {
   "cell_type": "code",
   "execution_count": 32,
   "id": "0a5fc765",
   "metadata": {},
   "outputs": [
    {
     "data": {
      "image/png": "[encoded data removed]",
      "text/plain": [
       "<Figure size 800x500 with 1 Axes>"
      ]
     },
     "metadata": {},
     "output_type": "display_data"
    }
   ],
   "source": [
    "# checking availability of funtional water poins\n",
    "fig, ax = plt.subplots(figsize = (8,5))\n",
    "sns.set_style(\"darkgrid\");\n",
    "sns.set_color_codes(palette = 'bright');\n",
    "sns.countplot(x = well_df['status_group'], color = 'blue')\n",
    "ax.set_title('Well Status Count')\n",
    "plt.show();"
   ]
  },
  {
   "cell_type": "markdown",
   "id": "8910381d",
   "metadata": {},
   "source": [
    "> Most of the of the wells are functional "
   ]
  },
  {
   "cell_type": "code",
   "execution_count": 33,
   "id": "239c613e",
   "metadata": {},
   "outputs": [
    {
     "data": {
      "text/plain": [
       "Text(0, 0.5, 'Water Source')"
      ]
     },
     "execution_count": 33,
     "metadata": {},
     "output_type": "execute_result"
    },
    {
     "data": {
      "image/png": "[encoded data removed]",
      "text/plain": [
       "<Figure size 1000x800 with 1 Axes>"
      ]
     },
     "metadata": {},
     "output_type": "display_data"
    }
   ],
   "source": [
    "#check if water source affect functionality\n",
    "fig, ax = plt.subplots(figsize = (10,8))\n",
    "\n",
    "sns.countplot(data = well_df, x = 'source_type', hue = 'status_group')\n",
    "\n",
    "ax.set_title('Well Status by Water Source')\n",
    "ax.set_ylabel('Water Source')"
   ]
  },
  {
   "cell_type": "code",
   "execution_count": 34,
   "id": "263df7ef",
   "metadata": {},
   "outputs": [
    {
     "data": {
      "image/png": "[encoded data removed]",
      "text/plain": [
       "<Figure size 640x480 with 1 Axes>"
      ]
     },
     "metadata": {},
     "output_type": "display_data"
    }
   ],
   "source": [
    "# Group the data by the source of water and calculate the count of each status_group\n",
    "grouped = well_df.groupby(['extraction_type'])['status_group'].value_counts().unstack()\n",
    "\n",
    "# Plot a bar plot\n",
    "grouped.plot(kind='bar', stacked=True)\n",
    "\n",
    "# Add a title and labels\n",
    "plt.title('Distribution of status_group by source of water')\n",
    "plt.xlabel('Source of water')\n",
    "plt.ylabel('Count of status_group')\n",
    "\n",
    "# Show the plot\n",
    "plt.show()\n"
   ]
  },
  {
   "cell_type": "markdown",
   "id": "22d2c742",
   "metadata": {},
   "source": [
    "## 7. Implementing the Solution"
   ]
  },
  {
   "cell_type": "markdown",
   "id": "132a38ef",
   "metadata": {},
   "source": [
    "### Feature selection"
   ]
  },
  {
   "cell_type": "markdown",
   "id": "7b54a228",
   "metadata": {},
   "source": [
    "Checkin for relevant features using correlation"
   ]
  },
  {
   "cell_type": "code",
   "execution_count": 35,
   "id": "1ed36e63",
   "metadata": {},
   "outputs": [],
   "source": [
    "features = well_df.copy()"
   ]
  },
  {
   "cell_type": "code",
   "execution_count": 36,
   "id": "a3523728",
   "metadata": {},
   "outputs": [
    {
     "data": {
      "image/png": "[encoded data removed]",
      "text/plain": [
       "<Figure size 800x600 with 2 Axes>"
      ]
     },
     "metadata": {},
     "output_type": "display_data"
    }
   ],
   "source": [
    "import seaborn as sns\n",
    "#Using Pearson Correlation\n",
    "plt.figure(figsize=(8,6))\n",
    "mask = np.triu(np.ones_like(features.corr(), dtype=bool))\n",
    "cor = features.corr()\n",
    "#sns.heatmap(cor, annot=True, cmap=plt.cm.Blues_r, fmt=\".2f\", mask=mask)\n",
    "sns.heatmap(cor, annot=True, cmap=\"BrBG\", fmt=\".2f\", mask=mask)\n",
    "\n",
    "plt.show()"
   ]
  },
  {
   "cell_type": "code",
   "execution_count": 37,
   "id": "6d7ac2bb",
   "metadata": {},
   "outputs": [],
   "source": [
    "# with the following function we can select highly correlated features\n",
    "# it will remove the first feature that is correlated with anything other feature\n",
    "\n",
    "def correlation(dataset, threshold):\n",
    "    col_corr = set()  # Set of all the names of correlated columns\n",
    "    corr_matrix = dataset.corr()\n",
    "    for i in range(len(corr_matrix.columns)):\n",
    "        for j in range(i):\n",
    "            if abs(corr_matrix.iloc[i, j]) > threshold: # we are interested in absolute coeff value\n",
    "                colname = corr_matrix.columns[i]  # getting the name of column\n",
    "                col_corr.add(colname)\n",
    "    return col_corr"
   ]
  },
  {
   "cell_type": "code",
   "execution_count": 38,
   "id": "09fc58c3",
   "metadata": {},
   "outputs": [
    {
     "data": {
      "text/plain": [
       "1"
      ]
     },
     "execution_count": 38,
     "metadata": {},
     "output_type": "execute_result"
    }
   ],
   "source": [
    "corr_features = correlation(features, 0.7)\n",
    "len(set(corr_features))"
   ]
  },
  {
   "cell_type": "code",
   "execution_count": 39,
   "id": "912c97fd",
   "metadata": {},
   "outputs": [
    {
     "data": {
      "text/plain": [
       "{'district_code'}"
      ]
     },
     "execution_count": 39,
     "metadata": {},
     "output_type": "execute_result"
    }
   ],
   "source": [
    "corr_features"
   ]
  },
  {
   "cell_type": "code",
   "execution_count": 40,
   "id": "eb979349",
   "metadata": {},
   "outputs": [],
   "source": [
    "features = features.drop(corr_features,axis=1)\n",
    "test = test.drop(corr_features,axis=1)"
   ]
  },
  {
   "cell_type": "markdown",
   "id": "dff4f49e",
   "metadata": {},
   "source": [
    "Creating instance of label encoder"
   ]
  },
  {
   "cell_type": "code",
   "execution_count": 41,
   "id": "b429e828",
   "metadata": {},
   "outputs": [],
   "source": [
    "# concatenate train data test dataset\n",
    "features = pd.concat([features, test], ignore_index = True)"
   ]
  },
  {
   "cell_type": "code",
   "execution_count": 42,
   "id": "d717a523",
   "metadata": {},
   "outputs": [],
   "source": [
    "features.date_recorded = pd.datetime(2013, 12, 3) - pd.to_datetime(features.date_recorded)\n",
    "features.columns = ['days_since_recorded' if x=='date_recorded' else x for x in features.columns]\n",
    "features.days_since_recorded = features.days_since_recorded.astype('timedelta64[D]').astype(int)"
   ]
  },
  {
   "cell_type": "markdown",
   "id": "6dde2be5",
   "metadata": {},
   "source": [
    "Some of the columns in the dataset are not important for modeling so I'll drop them. The many columns which represent location so I'll drop to remain with one because they have similar features"
   ]
  },
  {
   "cell_type": "code",
   "execution_count": 43,
   "id": "c3b348a8",
   "metadata": {},
   "outputs": [],
   "source": [
    "#drop irellevant columns\n",
    "features.drop(columns = ['id','wpt_name', 'subvillage', 'lga', 'ward', 'basin', 'region_code', \n",
    "                           'management_group'], inplace = True)"
   ]
  },
  {
   "cell_type": "code",
   "execution_count": 44,
   "id": "1e035cc9",
   "metadata": {},
   "outputs": [
    {
     "data": {
      "text/html": [
       "<div>\n",
       "<style scoped>\n",
       "    .dataframe tbody tr th:only-of-type {\n",
       "        vertical-align: middle;\n",
       "    }\n",
       "\n",
       "    .dataframe tbody tr th {\n",
       "        vertical-align: top;\n",
       "    }\n",
       "\n",
       "    .dataframe thead th {\n",
       "        text-align: right;\n",
       "    }\n",
       "</style>\n",
       "<table border=\"1\" class=\"dataframe\">\n",
       "  <thead>\n",
       "    <tr style=\"text-align: right;\">\n",
       "      <th></th>\n",
       "      <th>Missing Values</th>\n",
       "      <th>Percentage(%)</th>\n",
       "    </tr>\n",
       "  </thead>\n",
       "  <tbody>\n",
       "    <tr>\n",
       "      <th>status_group</th>\n",
       "      <td>12097</td>\n",
       "      <td>20.033121</td>\n",
       "    </tr>\n",
       "  </tbody>\n",
       "</table>\n",
       "</div>"
      ],
      "text/plain": [
       "              Missing Values  Percentage(%)\n",
       "status_group           12097      20.033121"
      ]
     },
     "execution_count": 44,
     "metadata": {},
     "output_type": "execute_result"
    }
   ],
   "source": [
    "# check missing values\n",
    "missing_values(features)"
   ]
  },
  {
   "cell_type": "code",
   "execution_count": 45,
   "id": "d8a7bd87",
   "metadata": {},
   "outputs": [],
   "source": [
    "features = features.dropna()"
   ]
  },
  {
   "cell_type": "code",
   "execution_count": 46,
   "id": "eca57620",
   "metadata": {},
   "outputs": [],
   "source": [
    "#split the data to target and label variables\n",
    "target_scaled = features['status_group']\n",
    "features = features.drop('status_group', axis = 1)"
   ]
  },
  {
   "cell_type": "code",
   "execution_count": 47,
   "id": "46a464c6",
   "metadata": {},
   "outputs": [],
   "source": [
    "encoder = LabelEncoder()\n",
    "\n",
    "#collect all categorical columns together\n",
    "categorical_data = features.select_dtypes(include=['object']).columns\n",
    "\n",
    "features[categorical_data] = features[categorical_data].apply(lambda col: encoder.fit_transform(col))"
   ]
  },
  {
   "cell_type": "code",
   "execution_count": 48,
   "id": "5f3da2c7",
   "metadata": {},
   "outputs": [],
   "source": [
    "ss = StandardScaler()"
   ]
  },
  {
   "cell_type": "code",
   "execution_count": 49,
   "id": "05932891",
   "metadata": {},
   "outputs": [
    {
     "data": {
      "text/html": [
       "<div>\n",
       "<style scoped>\n",
       "    .dataframe tbody tr th:only-of-type {\n",
       "        vertical-align: middle;\n",
       "    }\n",
       "\n",
       "    .dataframe tbody tr th {\n",
       "        vertical-align: top;\n",
       "    }\n",
       "\n",
       "    .dataframe thead th {\n",
       "        text-align: right;\n",
       "    }\n",
       "</style>\n",
       "<table border=\"1\" class=\"dataframe\">\n",
       "  <thead>\n",
       "    <tr style=\"text-align: right;\">\n",
       "      <th></th>\n",
       "      <th>amount_tsh</th>\n",
       "      <th>days_since_recorded</th>\n",
       "      <th>funder</th>\n",
       "      <th>gps_height</th>\n",
       "      <th>installer</th>\n",
       "      <th>longitude</th>\n",
       "      <th>latitude</th>\n",
       "      <th>num_private</th>\n",
       "      <th>region</th>\n",
       "      <th>population</th>\n",
       "      <th>...</th>\n",
       "      <th>construction_year</th>\n",
       "      <th>extraction_type</th>\n",
       "      <th>management</th>\n",
       "      <th>payment</th>\n",
       "      <th>water_quality</th>\n",
       "      <th>quantity_group</th>\n",
       "      <th>source</th>\n",
       "      <th>source_type</th>\n",
       "      <th>source_class</th>\n",
       "      <th>waterpoint_type_group</th>\n",
       "    </tr>\n",
       "  </thead>\n",
       "  <tbody>\n",
       "    <tr>\n",
       "      <th>0</th>\n",
       "      <td>1.993907</td>\n",
       "      <td>1.112090</td>\n",
       "      <td>0.902109</td>\n",
       "      <td>0.985263</td>\n",
       "      <td>1.308227</td>\n",
       "      <td>0.114433</td>\n",
       "      <td>-1.447603</td>\n",
       "      <td>-0.041543</td>\n",
       "      <td>-1.098608</td>\n",
       "      <td>-0.143244</td>\n",
       "      <td>...</td>\n",
       "      <td>0.700245</td>\n",
       "      <td>-0.751635</td>\n",
       "      <td>-0.150848</td>\n",
       "      <td>-0.083694</td>\n",
       "      <td>0.265422</td>\n",
       "      <td>-0.373361</td>\n",
       "      <td>0.933145</td>\n",
       "      <td>0.910234</td>\n",
       "      <td>-0.553142</td>\n",
       "      <td>-0.732838</td>\n",
       "    </tr>\n",
       "    <tr>\n",
       "      <th>1</th>\n",
       "      <td>-0.118589</td>\n",
       "      <td>-1.015757</td>\n",
       "      <td>-0.011006</td>\n",
       "      <td>-0.022173</td>\n",
       "      <td>2.269535</td>\n",
       "      <td>0.512992</td>\n",
       "      <td>0.654639</td>\n",
       "      <td>-0.041543</td>\n",
       "      <td>-0.274027</td>\n",
       "      <td>0.155168</td>\n",
       "      <td>...</td>\n",
       "      <td>0.710916</td>\n",
       "      <td>-0.751635</td>\n",
       "      <td>-0.150848</td>\n",
       "      <td>0.851601</td>\n",
       "      <td>0.265422</td>\n",
       "      <td>-0.373361</td>\n",
       "      <td>-2.971552</td>\n",
       "      <td>-1.372560</td>\n",
       "      <td>1.724712</td>\n",
       "      <td>-0.732838</td>\n",
       "    </tr>\n",
       "    <tr>\n",
       "      <th>2</th>\n",
       "      <td>-0.127428</td>\n",
       "      <td>-0.932312</td>\n",
       "      <td>1.569628</td>\n",
       "      <td>-0.627493</td>\n",
       "      <td>1.907212</td>\n",
       "      <td>0.675018</td>\n",
       "      <td>-1.900091</td>\n",
       "      <td>-0.041543</td>\n",
       "      <td>0.385638</td>\n",
       "      <td>-0.251181</td>\n",
       "      <td>...</td>\n",
       "      <td>0.686373</td>\n",
       "      <td>1.892770</td>\n",
       "      <td>-0.150848</td>\n",
       "      <td>-1.018989</td>\n",
       "      <td>0.265422</td>\n",
       "      <td>-1.706658</td>\n",
       "      <td>-1.507290</td>\n",
       "      <td>-1.829119</td>\n",
       "      <td>-0.553142</td>\n",
       "      <td>-0.732838</td>\n",
       "    </tr>\n",
       "    <tr>\n",
       "      <th>3</th>\n",
       "      <td>-0.120357</td>\n",
       "      <td>1.115071</td>\n",
       "      <td>0.245086</td>\n",
       "      <td>-1.003850</td>\n",
       "      <td>-0.643712</td>\n",
       "      <td>0.783504</td>\n",
       "      <td>0.325714</td>\n",
       "      <td>-0.041543</td>\n",
       "      <td>1.704967</td>\n",
       "      <td>-0.371816</td>\n",
       "      <td>...</td>\n",
       "      <td>0.710916</td>\n",
       "      <td>1.892770</td>\n",
       "      <td>-0.150848</td>\n",
       "      <td>0.851601</td>\n",
       "      <td>-2.186128</td>\n",
       "      <td>-0.373361</td>\n",
       "      <td>-1.019203</td>\n",
       "      <td>-0.916002</td>\n",
       "      <td>4.002567</td>\n",
       "      <td>-0.732838</td>\n",
       "    </tr>\n",
       "    <tr>\n",
       "      <th>4</th>\n",
       "      <td>-0.127428</td>\n",
       "      <td>-0.577671</td>\n",
       "      <td>-0.867444</td>\n",
       "      <td>-1.003850</td>\n",
       "      <td>-0.620674</td>\n",
       "      <td>-0.134521</td>\n",
       "      <td>0.673785</td>\n",
       "      <td>-0.041543</td>\n",
       "      <td>1.210219</td>\n",
       "      <td>-0.373932</td>\n",
       "      <td>...</td>\n",
       "      <td>-1.432848</td>\n",
       "      <td>2.133170</td>\n",
       "      <td>-0.150848</td>\n",
       "      <td>-1.018989</td>\n",
       "      <td>0.265422</td>\n",
       "      <td>-0.373361</td>\n",
       "      <td>-1.507290</td>\n",
       "      <td>-1.829119</td>\n",
       "      <td>-0.553142</td>\n",
       "      <td>0.751373</td>\n",
       "    </tr>\n",
       "  </tbody>\n",
       "</table>\n",
       "<p>5 rows × 24 columns</p>\n",
       "</div>"
      ],
      "text/plain": [
       "   amount_tsh  days_since_recorded    funder  gps_height  installer  \\\n",
       "0    1.993907             1.112090  0.902109    0.985263   1.308227   \n",
       "1   -0.118589            -1.015757 -0.011006   -0.022173   2.269535   \n",
       "2   -0.127428            -0.932312  1.569628   -0.627493   1.907212   \n",
       "3   -0.120357             1.115071  0.245086   -1.003850  -0.643712   \n",
       "4   -0.127428            -0.577671 -0.867444   -1.003850  -0.620674   \n",
       "\n",
       "   longitude  latitude  num_private    region  population  ...  \\\n",
       "0   0.114433 -1.447603    -0.041543 -1.098608   -0.143244  ...   \n",
       "1   0.512992  0.654639    -0.041543 -0.274027    0.155168  ...   \n",
       "2   0.675018 -1.900091    -0.041543  0.385638   -0.251181  ...   \n",
       "3   0.783504  0.325714    -0.041543  1.704967   -0.371816  ...   \n",
       "4  -0.134521  0.673785    -0.041543  1.210219   -0.373932  ...   \n",
       "\n",
       "   construction_year  extraction_type  management   payment  water_quality  \\\n",
       "0           0.700245        -0.751635   -0.150848 -0.083694       0.265422   \n",
       "1           0.710916        -0.751635   -0.150848  0.851601       0.265422   \n",
       "2           0.686373         1.892770   -0.150848 -1.018989       0.265422   \n",
       "3           0.710916         1.892770   -0.150848  0.851601      -2.186128   \n",
       "4          -1.432848         2.133170   -0.150848 -1.018989       0.265422   \n",
       "\n",
       "   quantity_group    source  source_type  source_class  waterpoint_type_group  \n",
       "0       -0.373361  0.933145     0.910234     -0.553142              -0.732838  \n",
       "1       -0.373361 -2.971552    -1.372560      1.724712              -0.732838  \n",
       "2       -1.706658 -1.507290    -1.829119     -0.553142              -0.732838  \n",
       "3       -0.373361 -1.019203    -0.916002      4.002567              -0.732838  \n",
       "4       -0.373361 -1.507290    -1.829119     -0.553142               0.751373  \n",
       "\n",
       "[5 rows x 24 columns]"
      ]
     },
     "execution_count": 49,
     "metadata": {},
     "output_type": "execute_result"
    }
   ],
   "source": [
    "df_scaled = ss.fit_transform(features[features.columns])\n",
    "df_scaled = pd.DataFrame(df_scaled, columns=features.columns)\n",
    "df_scaled.head()"
   ]
  },
  {
   "cell_type": "code",
   "execution_count": 50,
   "id": "23ecb762",
   "metadata": {},
   "outputs": [
    {
     "data": {
      "text/html": [
       "<div>\n",
       "<style scoped>\n",
       "    .dataframe tbody tr th:only-of-type {\n",
       "        vertical-align: middle;\n",
       "    }\n",
       "\n",
       "    .dataframe tbody tr th {\n",
       "        vertical-align: top;\n",
       "    }\n",
       "\n",
       "    .dataframe thead th {\n",
       "        text-align: right;\n",
       "    }\n",
       "</style>\n",
       "<table border=\"1\" class=\"dataframe\">\n",
       "  <thead>\n",
       "    <tr style=\"text-align: right;\">\n",
       "      <th></th>\n",
       "      <th>amount_tsh</th>\n",
       "      <th>days_since_recorded</th>\n",
       "      <th>funder</th>\n",
       "      <th>gps_height</th>\n",
       "      <th>installer</th>\n",
       "      <th>longitude</th>\n",
       "      <th>latitude</th>\n",
       "      <th>num_private</th>\n",
       "      <th>region</th>\n",
       "      <th>population</th>\n",
       "      <th>...</th>\n",
       "      <th>construction_year</th>\n",
       "      <th>extraction_type</th>\n",
       "      <th>management</th>\n",
       "      <th>payment</th>\n",
       "      <th>water_quality</th>\n",
       "      <th>quantity_group</th>\n",
       "      <th>source</th>\n",
       "      <th>source_type</th>\n",
       "      <th>source_class</th>\n",
       "      <th>waterpoint_type_group</th>\n",
       "    </tr>\n",
       "  </thead>\n",
       "  <tbody>\n",
       "    <tr>\n",
       "      <th>count</th>\n",
       "      <td>48288.000</td>\n",
       "      <td>48288.000</td>\n",
       "      <td>48288.000</td>\n",
       "      <td>48288.000</td>\n",
       "      <td>48288.000</td>\n",
       "      <td>48288.000</td>\n",
       "      <td>48288.000</td>\n",
       "      <td>48288.000</td>\n",
       "      <td>48288.000</td>\n",
       "      <td>48288.000</td>\n",
       "      <td>...</td>\n",
       "      <td>48288.000</td>\n",
       "      <td>48288.000</td>\n",
       "      <td>48288.000</td>\n",
       "      <td>48288.000</td>\n",
       "      <td>48288.000</td>\n",
       "      <td>48288.000</td>\n",
       "      <td>48288.000</td>\n",
       "      <td>48288.000</td>\n",
       "      <td>48288.000</td>\n",
       "      <td>48288.000</td>\n",
       "    </tr>\n",
       "    <tr>\n",
       "      <th>mean</th>\n",
       "      <td>-0.000</td>\n",
       "      <td>0.000</td>\n",
       "      <td>-0.000</td>\n",
       "      <td>-0.000</td>\n",
       "      <td>-0.000</td>\n",
       "      <td>-0.000</td>\n",
       "      <td>-0.000</td>\n",
       "      <td>-0.000</td>\n",
       "      <td>-0.000</td>\n",
       "      <td>-0.000</td>\n",
       "      <td>...</td>\n",
       "      <td>-0.000</td>\n",
       "      <td>0.000</td>\n",
       "      <td>0.000</td>\n",
       "      <td>0.000</td>\n",
       "      <td>0.000</td>\n",
       "      <td>0.000</td>\n",
       "      <td>-0.000</td>\n",
       "      <td>-0.000</td>\n",
       "      <td>-0.000</td>\n",
       "      <td>0.000</td>\n",
       "    </tr>\n",
       "    <tr>\n",
       "      <th>std</th>\n",
       "      <td>1.000</td>\n",
       "      <td>1.000</td>\n",
       "      <td>1.000</td>\n",
       "      <td>1.000</td>\n",
       "      <td>1.000</td>\n",
       "      <td>1.000</td>\n",
       "      <td>1.000</td>\n",
       "      <td>1.000</td>\n",
       "      <td>1.000</td>\n",
       "      <td>1.000</td>\n",
       "      <td>...</td>\n",
       "      <td>1.000</td>\n",
       "      <td>1.000</td>\n",
       "      <td>1.000</td>\n",
       "      <td>1.000</td>\n",
       "      <td>1.000</td>\n",
       "      <td>1.000</td>\n",
       "      <td>1.000</td>\n",
       "      <td>1.000</td>\n",
       "      <td>1.000</td>\n",
       "      <td>1.000</td>\n",
       "    </tr>\n",
       "    <tr>\n",
       "      <th>min</th>\n",
       "      <td>-0.127</td>\n",
       "      <td>-1.853</td>\n",
       "      <td>-1.472</td>\n",
       "      <td>-1.133</td>\n",
       "      <td>-1.318</td>\n",
       "      <td>-5.406</td>\n",
       "      <td>-2.072</td>\n",
       "      <td>-0.042</td>\n",
       "      <td>-1.593</td>\n",
       "      <td>-0.374</td>\n",
       "      <td>...</td>\n",
       "      <td>-1.433</td>\n",
       "      <td>-1.473</td>\n",
       "      <td>-3.677</td>\n",
       "      <td>-1.019</td>\n",
       "      <td>-7.089</td>\n",
       "      <td>-1.707</td>\n",
       "      <td>-2.972</td>\n",
       "      <td>-1.829</td>\n",
       "      <td>-0.553</td>\n",
       "      <td>-1.475</td>\n",
       "    </tr>\n",
       "    <tr>\n",
       "      <th>25%</th>\n",
       "      <td>-0.127</td>\n",
       "      <td>-0.968</td>\n",
       "      <td>-0.691</td>\n",
       "      <td>-1.004</td>\n",
       "      <td>-0.644</td>\n",
       "      <td>-0.186</td>\n",
       "      <td>-0.889</td>\n",
       "      <td>-0.042</td>\n",
       "      <td>-0.934</td>\n",
       "      <td>-0.374</td>\n",
       "      <td>...</td>\n",
       "      <td>-1.433</td>\n",
       "      <td>-0.752</td>\n",
       "      <td>-0.151</td>\n",
       "      <td>-1.019</td>\n",
       "      <td>0.265</td>\n",
       "      <td>-0.373</td>\n",
       "      <td>-0.531</td>\n",
       "      <td>-0.003</td>\n",
       "      <td>-0.553</td>\n",
       "      <td>-0.733</td>\n",
       "    </tr>\n",
       "    <tr>\n",
       "      <th>50%</th>\n",
       "      <td>-0.127</td>\n",
       "      <td>-0.584</td>\n",
       "      <td>-0.420</td>\n",
       "      <td>-0.341</td>\n",
       "      <td>-0.583</td>\n",
       "      <td>0.158</td>\n",
       "      <td>0.249</td>\n",
       "      <td>-0.042</td>\n",
       "      <td>0.056</td>\n",
       "      <td>-0.310</td>\n",
       "      <td>...</td>\n",
       "      <td>0.687</td>\n",
       "      <td>-0.752</td>\n",
       "      <td>-0.151</td>\n",
       "      <td>-0.084</td>\n",
       "      <td>0.265</td>\n",
       "      <td>-0.373</td>\n",
       "      <td>0.445</td>\n",
       "      <td>0.454</td>\n",
       "      <td>-0.553</td>\n",
       "      <td>-0.733</td>\n",
       "    </tr>\n",
       "    <tr>\n",
       "      <th>75%</th>\n",
       "      <td>-0.110</td>\n",
       "      <td>1.070</td>\n",
       "      <td>0.869</td>\n",
       "      <td>0.907</td>\n",
       "      <td>0.563</td>\n",
       "      <td>0.496</td>\n",
       "      <td>0.824</td>\n",
       "      <td>-0.042</td>\n",
       "      <td>0.880</td>\n",
       "      <td>0.049</td>\n",
       "      <td>...</td>\n",
       "      <td>0.707</td>\n",
       "      <td>0.450</td>\n",
       "      <td>-0.151</td>\n",
       "      <td>0.852</td>\n",
       "      <td>0.265</td>\n",
       "      <td>0.960</td>\n",
       "      <td>0.933</td>\n",
       "      <td>0.910</td>\n",
       "      <td>-0.553</td>\n",
       "      <td>0.751</td>\n",
       "    </tr>\n",
       "    <tr>\n",
       "      <th>max</th>\n",
       "      <td>88.262</td>\n",
       "      <td>10.270</td>\n",
       "      <td>1.855</td>\n",
       "      <td>2.960</td>\n",
       "      <td>2.422</td>\n",
       "      <td>0.965</td>\n",
       "      <td>1.986</td>\n",
       "      <td>133.582</td>\n",
       "      <td>1.705</td>\n",
       "      <td>64.176</td>\n",
       "      <td>...</td>\n",
       "      <td>0.715</td>\n",
       "      <td>2.614</td>\n",
       "      <td>1.864</td>\n",
       "      <td>1.787</td>\n",
       "      <td>1.491</td>\n",
       "      <td>3.627</td>\n",
       "      <td>1.421</td>\n",
       "      <td>0.910</td>\n",
       "      <td>4.003</td>\n",
       "      <td>2.236</td>\n",
       "    </tr>\n",
       "  </tbody>\n",
       "</table>\n",
       "<p>8 rows × 24 columns</p>\n",
       "</div>"
      ],
      "text/plain": [
       "       amount_tsh  days_since_recorded     funder  gps_height  installer  \\\n",
       "count   48288.000            48288.000  48288.000   48288.000  48288.000   \n",
       "mean       -0.000                0.000     -0.000      -0.000     -0.000   \n",
       "std         1.000                1.000      1.000       1.000      1.000   \n",
       "min        -0.127               -1.853     -1.472      -1.133     -1.318   \n",
       "25%        -0.127               -0.968     -0.691      -1.004     -0.644   \n",
       "50%        -0.127               -0.584     -0.420      -0.341     -0.583   \n",
       "75%        -0.110                1.070      0.869       0.907      0.563   \n",
       "max        88.262               10.270      1.855       2.960      2.422   \n",
       "\n",
       "       longitude   latitude  num_private     region  population  ...  \\\n",
       "count  48288.000  48288.000    48288.000  48288.000   48288.000  ...   \n",
       "mean      -0.000     -0.000       -0.000     -0.000      -0.000  ...   \n",
       "std        1.000      1.000        1.000      1.000       1.000  ...   \n",
       "min       -5.406     -2.072       -0.042     -1.593      -0.374  ...   \n",
       "25%       -0.186     -0.889       -0.042     -0.934      -0.374  ...   \n",
       "50%        0.158      0.249       -0.042      0.056      -0.310  ...   \n",
       "75%        0.496      0.824       -0.042      0.880       0.049  ...   \n",
       "max        0.965      1.986      133.582      1.705      64.176  ...   \n",
       "\n",
       "       construction_year  extraction_type  management    payment  \\\n",
       "count          48288.000        48288.000   48288.000  48288.000   \n",
       "mean              -0.000            0.000       0.000      0.000   \n",
       "std                1.000            1.000       1.000      1.000   \n",
       "min               -1.433           -1.473      -3.677     -1.019   \n",
       "25%               -1.433           -0.752      -0.151     -1.019   \n",
       "50%                0.687           -0.752      -0.151     -0.084   \n",
       "75%                0.707            0.450      -0.151      0.852   \n",
       "max                0.715            2.614       1.864      1.787   \n",
       "\n",
       "       water_quality  quantity_group     source  source_type  source_class  \\\n",
       "count      48288.000       48288.000  48288.000    48288.000     48288.000   \n",
       "mean           0.000           0.000     -0.000       -0.000        -0.000   \n",
       "std            1.000           1.000      1.000        1.000         1.000   \n",
       "min           -7.089          -1.707     -2.972       -1.829        -0.553   \n",
       "25%            0.265          -0.373     -0.531       -0.003        -0.553   \n",
       "50%            0.265          -0.373      0.445        0.454        -0.553   \n",
       "75%            0.265           0.960      0.933        0.910        -0.553   \n",
       "max            1.491           3.627      1.421        0.910         4.003   \n",
       "\n",
       "       waterpoint_type_group  \n",
       "count              48288.000  \n",
       "mean                   0.000  \n",
       "std                    1.000  \n",
       "min                   -1.475  \n",
       "25%                   -0.733  \n",
       "50%                   -0.733  \n",
       "75%                    0.751  \n",
       "max                    2.236  \n",
       "\n",
       "[8 rows x 24 columns]"
      ]
     },
     "execution_count": 50,
     "metadata": {},
     "output_type": "execute_result"
    }
   ],
   "source": [
    "#rounding the numbers for display\n",
    "df_scaled.describe().round(3)"
   ]
  },
  {
   "cell_type": "code",
   "execution_count": 51,
   "id": "aaf4b581",
   "metadata": {},
   "outputs": [
    {
     "data": {
      "text/plain": [
       "1"
      ]
     },
     "execution_count": 51,
     "metadata": {},
     "output_type": "execute_result"
    }
   ],
   "source": [
    "corr_features = correlation(df_scaled, 0.7)\n",
    "len(set(corr_features))"
   ]
  },
  {
   "cell_type": "code",
   "execution_count": 52,
   "id": "3dca330d",
   "metadata": {},
   "outputs": [
    {
     "data": {
      "text/plain": [
       "{'source_type'}"
      ]
     },
     "execution_count": 52,
     "metadata": {},
     "output_type": "execute_result"
    }
   ],
   "source": [
    "corr_features"
   ]
  },
  {
   "cell_type": "code",
   "execution_count": 53,
   "id": "8b7cb809",
   "metadata": {},
   "outputs": [],
   "source": [
    "df_scaled = df_scaled.drop(corr_features,axis=1)"
   ]
  },
  {
   "cell_type": "code",
   "execution_count": 54,
   "id": "6ea98d40",
   "metadata": {},
   "outputs": [
    {
     "name": "stdout",
     "output_type": "stream",
     "text": [
      "(48288,)\n",
      "(48288, 23)\n"
     ]
    }
   ],
   "source": [
    "#check for their shape \n",
    "print(target_scaled.shape)\n",
    "print(df_scaled .shape)"
   ]
  },
  {
   "cell_type": "markdown",
   "id": "f9476edb",
   "metadata": {},
   "source": [
    "### Modeling"
   ]
  },
  {
   "cell_type": "code",
   "execution_count": 55,
   "id": "aa81481d",
   "metadata": {},
   "outputs": [],
   "source": [
    "# Split the data into training and testing sets\n",
    "X_train, X_test, y_train, y_test = train_test_split(df_scaled, target_scaled, test_size=0.2, random_state = 42)"
   ]
  },
  {
   "cell_type": "markdown",
   "id": "55faa6dd",
   "metadata": {},
   "source": [
    "## Fitting a Model\n",
    "\n",
    "Now let's fit a model to the preprocessed training set. In scikit-learn, you do this by first creating an instance of the `LogisticRegression` class. From there, then use the `.fit()` method from your class instance to fit a model to the training data."
   ]
  },
  {
   "cell_type": "code",
   "execution_count": 56,
   "id": "9973520c",
   "metadata": {},
   "outputs": [],
   "source": [
    "# Train the classifier\n",
    "classifier = RandomForestClassifier()\n",
    "classifier.fit(X_train, y_train)\n",
    "\n",
    "# Make predictions on the test data\n",
    "predictions = classifier.predict(X_test)\n"
   ]
  },
  {
   "cell_type": "code",
   "execution_count": 57,
   "id": "971d9316",
   "metadata": {},
   "outputs": [
    {
     "name": "stdout",
     "output_type": "stream",
     "text": [
      "Accuracy_1: 0.8042037688962518\n",
      "Precision: 0.7976239839789592\n",
      "Recall: 0.8042037688962518\n",
      "F1 Score: 0.798151565264953\n"
     ]
    }
   ],
   "source": [
    "# Evaluate the performance of the model\n",
    "accuracy_1 = accuracy_score(y_test, predictions)\n",
    "precision_1 = precision_score(y_test, predictions, average='weighted')\n",
    "recall_1 = recall_score(y_test, predictions, average='weighted')\n",
    "f1_1 = f1_score(y_test, predictions, average='weighted')\n",
    "\n",
    "# Print the evaluation metrics\n",
    "print(\"Accuracy_1:\", accuracy_1)\n",
    "print(\"Precision:\", precision_1)\n",
    "print(\"Recall:\", recall_1)\n",
    "print(\"F1 Score:\", f1_1)\n"
   ]
  },
  {
   "cell_type": "code",
   "execution_count": 58,
   "id": "7a8bcbb1",
   "metadata": {},
   "outputs": [],
   "source": [
    "from sklearn.feature_selection import RFE\n",
    "from sklearn.ensemble import RandomForestClassifier\n",
    "\n",
    "y = target_scaled\n",
    "X = df_scaled"
   ]
  },
  {
   "cell_type": "code",
   "execution_count": 59,
   "id": "d14712e1",
   "metadata": {},
   "outputs": [],
   "source": [
    "# Use recursive feature elimination to select the top 20 features\n",
    "rfe = RFE(estimator = RandomForestClassifier(), n_features_to_select = 20)\n",
    "fit = rfe.fit(X, y)"
   ]
  },
  {
   "cell_type": "code",
   "execution_count": 60,
   "id": "de06dc5f",
   "metadata": {},
   "outputs": [],
   "source": [
    "# Get the selected feature indices\n",
    "selected_feature_indices = fit.get_support(indices=True)\n",
    "\n",
    "# Create a new dataframe with only the selected features\n",
    "X_selected = X.iloc[:, selected_feature_indices]"
   ]
  },
  {
   "cell_type": "code",
   "execution_count": 61,
   "id": "0e81f9f2",
   "metadata": {},
   "outputs": [],
   "source": [
    "# Split the data into training and testing sets\n",
    "X_train, X_test, y_train, y_test = train_test_split(X_selected, target_scaled, test_size=0.2, random_state = 42)"
   ]
  },
  {
   "cell_type": "code",
   "execution_count": 62,
   "id": "a80bd86d",
   "metadata": {},
   "outputs": [],
   "source": [
    "# Train the classifier\n",
    "model = RandomForestClassifier()\n",
    "model.fit(X_train, y_train)\n",
    "\n",
    "# Make predictions on the test data\n",
    "predictions = model.predict(X_test)"
   ]
  },
  {
   "cell_type": "code",
   "execution_count": 63,
   "id": "e942646b",
   "metadata": {},
   "outputs": [
    {
     "name": "stdout",
     "output_type": "stream",
     "text": [
      "Accuracy: 0.805549803271899\n",
      "Precision: 0.7988394601609474\n",
      "Recall: 0.805549803271899\n",
      "F1 Score: 0.7994597591863104\n"
     ]
    }
   ],
   "source": [
    "# Evaluate the performance of the model\n",
    "accuracy_2 = accuracy_score(y_test, predictions)\n",
    "precision_2 = precision_score(y_test, predictions, average='weighted')\n",
    "recall_2 = recall_score(y_test, predictions, average='weighted')\n",
    "f1_2 = f1_score(y_test, predictions, average='weighted')\n",
    "\n",
    "# Print the evaluation metrics\n",
    "print(\"Accuracy:\", accuracy_2)\n",
    "print(\"Precision:\", precision_2)\n",
    "print(\"Recall:\", recall_2)\n",
    "print(\"F1 Score:\", f1_2)\n"
   ]
  },
  {
   "cell_type": "code",
   "execution_count": 64,
   "id": "9df94b23",
   "metadata": {},
   "outputs": [],
   "source": [
    "# Split the data into training and testing sets\n",
    "X_train, X_test, y_train, y_test = train_test_split(df_scaled, target_scaled, test_size=0.2, random_state = 42)"
   ]
  },
  {
   "cell_type": "code",
   "execution_count": 65,
   "id": "2c199cd1",
   "metadata": {},
   "outputs": [],
   "source": [
    "from sklearn.tree import DecisionTreeClassifier\n",
    "\n",
    "# Initialize the model\n",
    "model = DecisionTreeClassifier(random_state = 10)\n",
    "\n",
    "# Fit the model to the training data\n",
    "model.fit(X_train, y_train)\n",
    "\n",
    "# Predict the classes on the test data\n",
    "predictions = model.predict(X_test)\n"
   ]
  },
  {
   "cell_type": "code",
   "execution_count": 66,
   "id": "bc30dc77",
   "metadata": {},
   "outputs": [
    {
     "name": "stdout",
     "output_type": "stream",
     "text": [
      "Accuracy: 0.7556429902671361\n",
      "Precision: 0.7544931927932176\n",
      "Recall: 0.7556429902671361\n",
      "F1 Score: 0.7550515199441797\n"
     ]
    }
   ],
   "source": [
    "# Evaluate the performance of the model\n",
    "accuracy1 = accuracy_score(y_test, predictions)\n",
    "precision1 = precision_score(y_test, predictions, average='weighted')\n",
    "recall1 = recall_score(y_test, predictions, average='weighted')\n",
    "f11 = f1_score(y_test, predictions, average='weighted')\n",
    "\n",
    "# Print the evaluation metrics\n",
    "print(\"Accuracy:\", accuracy1)\n",
    "print(\"Precision:\", precision1)\n",
    "print(\"Recall:\", recall1)\n",
    "print(\"F1 Score:\", f11)"
   ]
  },
  {
   "cell_type": "code",
   "execution_count": 67,
   "id": "9645656e",
   "metadata": {},
   "outputs": [],
   "source": [
    "from sklearn.feature_selection import RFE\n",
    "from sklearn.tree import DecisionTreeClassifier\n",
    "\n",
    "y = target_scaled\n",
    "X = df_scaled"
   ]
  },
  {
   "cell_type": "code",
   "execution_count": 68,
   "id": "4bb7c6b5",
   "metadata": {},
   "outputs": [],
   "source": [
    "# Use recursive feature elimination to select the top 10 features\n",
    "rfe = RFE(estimator = DecisionTreeClassifier(), n_features_to_select = 20)\n",
    "fit = rfe.fit(X, y)"
   ]
  },
  {
   "cell_type": "code",
   "execution_count": 69,
   "id": "d0b43a56",
   "metadata": {},
   "outputs": [],
   "source": [
    "# Get the selected feature indices\n",
    "selected_feature_indices = fit.get_support(indices=True)\n",
    "\n",
    "# Create a new dataframe with only the selected features\n",
    "X_selected = X.iloc[:, selected_feature_indices]"
   ]
  },
  {
   "cell_type": "code",
   "execution_count": 70,
   "id": "80f76498",
   "metadata": {},
   "outputs": [],
   "source": [
    "# Split the data into training and testing sets\n",
    "X_train, X_test, y_train, y_test = train_test_split(X_selected, target_scaled, test_size=0.2, random_state = 42)"
   ]
  },
  {
   "cell_type": "code",
   "execution_count": 71,
   "id": "3e442a30",
   "metadata": {},
   "outputs": [],
   "source": [
    "# Train the classifier\n",
    "model = DecisionTreeClassifier()\n",
    "model.fit(X_train, y_train)\n",
    "\n",
    "# Make predictions on the test data\n",
    "predictions = model.predict(X_test)"
   ]
  },
  {
   "cell_type": "code",
   "execution_count": 72,
   "id": "3f789de0",
   "metadata": {},
   "outputs": [
    {
     "name": "stdout",
     "output_type": "stream",
     "text": [
      "Accuracy: 0.7571961068544212\n",
      "Precision: 0.7567198050873207\n",
      "Recall: 0.7571961068544212\n",
      "F1 Score: 0.7569542049843841\n"
     ]
    }
   ],
   "source": [
    "# Evaluate the performance of the model\n",
    "accuracy2 = accuracy_score(y_test, predictions)\n",
    "precision2 = precision_score(y_test, predictions, average='weighted')\n",
    "recall2 = recall_score(y_test, predictions, average='weighted')\n",
    "f12 = f1_score(y_test, predictions, average='weighted')\n",
    "\n",
    "# Print the evaluation metrics\n",
    "print(\"Accuracy:\", accuracy2)\n",
    "print(\"Precision:\", precision2)\n",
    "print(\"Recall:\", recall2)\n",
    "print(\"F1 Score:\", f12)\n"
   ]
  },
  {
   "cell_type": "markdown",
   "id": "f202bc72",
   "metadata": {},
   "source": [
    "### Conclusion\n",
    "In this study, we developed a machine learning model to predict the condition of water wells in Tanzania based on various features such as the type of pump, the age of the well, and the location. We evaluated several encoding methods and normalization techniques, and found that using label encoding and scaling using standard normal distribution produced the best results. Through feature selection, we identified the most important features for the model, and used a Random Forest Classifier to make predictions. Our model achieved an accuracy of 81%, demonstrating its potential for use by NGOs and the government to identify wells in need of repair and to inform the construction of new wells.\n",
    "\n",
    "Based on these results, we recommend that the model be deployed in a real-world setting and its performance be monitored over time. Further improvements to the model may be made by incorporating additional data such as maintenance records and water quality testing results. In conclusion, our study highlights the potential for machine learning to support water management efforts in developing countries and help ensure access to clean water for communities in need.\""
   ]
  },
  {
   "cell_type": "markdown",
   "id": "a847d158",
   "metadata": {},
   "source": [
    "### Recomendation\n",
    "\n",
    "1. Repair and maintenance of existing water wells to ensure their continued functionality.\n",
    "\n",
    "\n",
    "2. Implementing better standards and practices for the construction and installation of new water wells.\n",
    "\n",
    "\n",
    "3. Increasing investment in the development and deployment of new water well technologies.\n",
    "\n",
    "\n",
    "4. Supporting the education and training of local communities in the operation and maintenance of water wells.\n",
    "\n",
    "\n",
    "5. Collaborating with NGOs, private sector organizations, and international agencies to tackle the water well crisis in Tanzania.\n"
   ]
  },
  {
   "cell_type": "markdown",
   "id": "242a9c54",
   "metadata": {},
   "source": [
    "## 8. Challenging the solution"
   ]
  },
  {
   "cell_type": "markdown",
   "id": "d5d4e608",
   "metadata": {},
   "source": [
    "I compared accuracy, precision, recall and F1 score of my Model that is random forest algorithms againsts those of decision tree algorithms \n",
    "Random forest algorithm had a higher values compared to desicion tree algorithm even after scaling both \n",
    "\n",
    "#### This were results as per random forest algorithm\n",
    "\n",
    "Accuracy: 81%\n",
    "\n",
    "Precision: 79%\n",
    "\n",
    "Recall: 80%\n",
    "\n",
    "F1 Score: 79%\n",
    "\n",
    "#### This were the values as per decision tree algorithm\n",
    "\n",
    "Accuracy: 75%\n",
    "\n",
    "Precision: 75%\n",
    "\n",
    "Recall: 75%\n",
    "\n",
    "F1 Score: 75%\n"
   ]
  },
  {
   "cell_type": "markdown",
   "id": "13af055c",
   "metadata": {},
   "source": [
    "## 9. Follow up questions"
   ]
  },
  {
   "cell_type": "markdown",
   "id": "51f4d012",
   "metadata": {},
   "source": [
    "#### a) Can the model be used to detect water wells that are at risk of failure in the future, and if so, how?\n",
    "\n",
    "The deployment and use of the model in practice should be done with care, taking into account potential ethical considerations such as data privacy, bias in the model's predictions, and ensuring that the model is used in a responsible and transparent manner."
   ]
  },
  {
   "cell_type": "markdown",
   "id": "c773ce5a",
   "metadata": {},
   "source": [
    "#### b) Are there any specific metrics that should be used to evaluate the model's performance for this problem?\n",
    "\n",
    "The specific metrics used to evaluate the model's performance depend on the nature of the problem and the type of model used. For a ternary classification problem, metrics such as accuracy, precision, recall, and F1-score can be used to evaluate the model's performance."
   ]
  },
  {
   "cell_type": "markdown",
   "id": "8a5f3c49",
   "metadata": {},
   "source": [
    "#### c) Can the model's performance be improved by collecting additional data, such as the water well's geographic coordinates?\n",
    "\n",
    "Collecting additional data, such as the water well's geographic coordinates, could potentially improve the model's performance by providing additional information that could be relevant to the condition of the well."
   ]
  },
  {
   "cell_type": "markdown",
   "id": "0a47da07",
   "metadata": {},
   "source": [
    "#### d) Are there any domain-specific knowledge or domain-specific algorithms that could be used to improve the model's performance?\n",
    "\n",
    "Domain-specific knowledge and algorithms, such as those related to the maintenance and repair of water wells, could potentially be used to improve the model's performance."
   ]
  },
  {
   "cell_type": "markdown",
   "id": "4db11a05",
   "metadata": {},
   "source": [
    "#### e) How will the model be deployed and used in practice, and what are the potential ethical considerations that need to be taken into account?\n",
    "\n",
    "The deployment and use of the model in practice should be done with care, taking into account potential ethical considerations such as data privacy, bias in the model's predictions, and ensuring that the model is used in a responsible and transparent manner."
   ]
  }
 ],
 "metadata": {
  "kernelspec": {
   "display_name": "learn-env",
   "language": "python",
   "name": "learn-env"
  },
  "language_info": {
   "codemirror_mode": {
    "name": "ipython",
    "version": 3
   },
   "file_extension": ".py",
   "mimetype": "text/x-python",
   "name": "python",
   "nbconvert_exporter": "python",
   "pygments_lexer": "ipython3",
   "version": "3.9.13"
  }
 },
 "nbformat": 4,
 "nbformat_minor": 5
}
