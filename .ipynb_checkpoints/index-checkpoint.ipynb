{
 "cells": [
  {
   "cell_type": "markdown",
   "id": "c5a8c432",
   "metadata": {},
   "source": [
    "# Pump It Up - Tanzania Water Wells"
   ]
  },
  {
   "cell_type": "markdown",
   "id": "171b7238",
   "metadata": {},
   "source": [
    "## 1. Defining the Question"
   ]
  },
  {
   "cell_type": "markdown",
   "id": "aa8a0dd2",
   "metadata": {},
   "source": [
    "### a) Specifying the Data Analytic Question"
   ]
  },
  {
   "cell_type": "markdown",
   "id": "334d20ee",
   "metadata": {},
   "source": [
    "> Tanzania, as a developing country, struggles with providing clean water to its population of over 57,000,000. There is a need to improve access to clean water for the population. While there are many water points already established, some are in need of repair and others have failed altogether. The challenge is to accurately predict the condition of a water well based on factors such as the type of pump, installation date, and other relevant information. The goal of this project is to develop a classifier that can accurately predict the condition of water wells, which can be useful for NGOs looking to locate wells needing repair or the government of Tanzania trying to find patterns in non-functional wells to influence how new wells are built\n",
    "\n",
    "> **Problem Statement:** How can we accurately predict the condition of a water well in Tanzania based on factors such as type of pump, installation date, and other relevant information"
   ]
  },
  {
   "cell_type": "markdown",
   "id": "043b975c",
   "metadata": {},
   "source": [
    "### b) Defining the Metric for Success"
   ]
  },
  {
   "cell_type": "markdown",
   "id": "bae86c4e",
   "metadata": {},
   "source": [
    ">The goal is to achieve an accuracy score of at least 80% or higher, F1 score of at least 70% or higher, precision score of at least 70% or higher, recall score of at least 70% or higher\n"
   ]
  },
  {
   "cell_type": "markdown",
   "id": "b76be237",
   "metadata": {},
   "source": [
    "### Main Objective\n",
    "Predict the condition of water wells in Tanzania, which can help an NGO or the government of Tanzania to identify wells that need repair or replacement."
   ]
  },
  {
   "cell_type": "markdown",
   "id": "836a5e73",
   "metadata": {},
   "source": [
    "### Other objectives\n",
    "\n",
    "- To improve access to clean water by identifying wells in need of repair or replacement.\n",
    "\n",
    "- To reduce water-borne diseases by ensuring that wells providing safe drinking water are functional.\n",
    "\n",
    "- To optimize resource allocation for the government or NGO by prioritizing wells in need of repair or replacement.\n",
    "\n",
    "- To provide insights into patterns and trends in the functionality of wells, which can inform decision-making for future well construction.\n",
    "\n",
    "- To promote sustainability and long-term planning for water well infrastructure in Tanzania."
   ]
  },
  {
   "cell_type": "markdown",
   "id": "df5147ff",
   "metadata": {},
   "source": [
    "### c) Understanding the context\n",
    "\n",
    "The data for this project is obtained from the Taarifa waterpoints dashboard, which has been aggregated from the Tanzania Ministry of Water and is used to track infrastructure-related issues. The data contains information on 59,400 waterpoints and is available as three datasets:\n",
    "\n",
    "1. Training set labels\n",
    "2. Training set values\n",
    "3. Test set values. \n",
    "\n",
    "The target variable is \"status_group\", which details the functionality of the waterpoints. The training data has 59,400 rows and 41 columns and contains information about the water pumps, such as the type of pump, installation date, location, etc.The test data has 40 columns and 14850 row. The data was acquired from Taarifa and the Tanzanian Ministry of Water and was downloaded from DrivenData."
   ]
  },
  {
   "cell_type": "markdown",
   "id": "9b24d83b",
   "metadata": {},
   "source": [
    "### The dataset columns are:\n",
    "\n",
    "- amount_tsh - Total static head (amount water available to waterpoint) \n",
    "- date_recorded - The date the row was entered\n",
    "- funder - Who funded the well\n",
    "- gps_height - Altitude of the well\n",
    "- installer - Organization that installed the well\n",
    "- longitude - GPS coordinate\n",
    "- latitude - GPS coordinate\n",
    "- wpt_name - Name of the waterpoint if there is one\n",
    "- num_private - Private use or not\n",
    "- basin - Geographic water basin\n",
    "- subvillage - Geographic location\n",
    "- region - Geographic location\n",
    "- region_code - Geographic location (coded)\n",
    "- district_code - Geographic location (coded)\n",
    "- lga - Geographic location\n",
    "- ward - Geographic location\n",
    "- population - Population around the well\n",
    "- public_meeting - True/False\n",
    "- recorded_by - Group entering this row of data\n",
    "- scheme_management - Who operates the waterpoint\n",
    "- scheme_name - Who operates the waterpoint\n",
    "- permit - If the waterpoint is permitted\n",
    "- construction_year - Year the waterpoint was constructed\n",
    "- extraction_type - The kind of extraction the waterpoint uses\n",
    "- extraction_type_group - The kind of extraction the waterpoint uses\n",
    "- extraction_type_class - The kind of extraction the waterpoint uses\n",
    "- management - How the waterpoint is managed\n",
    "- management_group - How the waterpoint is managed\n",
    "- payment - What the water costs\n",
    "- payment_type - What the water costs\n",
    "- water_quality - The quality of the water\n",
    "- quality_group - The quality of the water\n",
    "- quantity - The quantity of water\n",
    "- quantity_group - The quantity of water\n",
    "- source - The source of the water\n",
    "- source_type - The source of the water\n",
    "- source_class - The source of the water\n",
    "- waterpoint_type - The kind of waterpoint\n",
    "- waterpoint_type_group - The kind of waterpoint\n",
    "- status_group - show fuctional well and those not functioning"
   ]
  },
  {
   "cell_type": "markdown",
   "id": "f84bab3c",
   "metadata": {},
   "source": [
    "### d) Experimental Design\n",
    "\n",
    "The experimental design for the water well classification project in Tanzania can be recorded as follows:\n",
    "\n",
    "1. Data Collection: \n",
    "2. Data Exploration: \n",
    "3. Feature Engineering: \n",
    "4. Model Selection: \n",
    "5. Model Training and Validation: \n",
    "6. Model Tuning: \n",
    "7. Model Evaluation: "
   ]
  },
  {
   "cell_type": "markdown",
   "id": "e6125d3b",
   "metadata": {},
   "source": [
    "## 2. Reading the Data"
   ]
  },
  {
   "cell_type": "markdown",
   "id": "f53a1461",
   "metadata": {},
   "source": [
    "### Loading Libraries"
   ]
  },
  {
   "cell_type": "code",
   "execution_count": 1,
   "id": "bd2b7af1",
   "metadata": {},
   "outputs": [],
   "source": [
    "#Loading relevant libraries\n",
    "import pandas as pd\n",
    "import numpy as np\n",
    "\n",
    "from matplotlib import pyplot as plt\n",
    "import seaborn as sns\n",
    "%matplotlib inline\n",
    "\n",
    "import warnings\n",
    "warnings.filterwarnings('ignore')\n",
    "\n",
    "from sklearn.model_selection import train_test_split\n",
    "from sklearn.preprocessing import StandardScaler\n",
    "from sklearn.preprocessing import LabelEncoder\n",
    "from sklearn.metrics import accuracy_score, precision_score, recall_score,f1_score, classification_report\n",
    "from sklearn.decomposition import PCA\n",
    "from sklearn.ensemble import RandomForestClassifier\n",
    "from sklearn.tree import DecisionTreeClassifier"
   ]
  },
  {
   "cell_type": "markdown",
   "id": "42aca67a",
   "metadata": {},
   "source": [
    "Loading Datasets"
   ]
  },
  {
   "cell_type": "code",
   "execution_count": 2,
   "id": "488fbc93",
   "metadata": {},
   "outputs": [],
   "source": [
    "# loading the data\n",
    "target = pd.read_csv(\"D:/Projects/datasets/target.csv\")\n",
    "label = pd.read_csv (\"D:/Projects/datasets/label.csv\")\n",
    "test = pd.read_csv(\"D:/Projects/datasets/test.csv\")"
   ]
  },
  {
   "cell_type": "markdown",
   "id": "260aa98e",
   "metadata": {},
   "source": [
    "Merge the two datasets with a common column `id`"
   ]
  },
  {
   "cell_type": "code",
   "execution_count": 3,
   "id": "193bd599",
   "metadata": {},
   "outputs": [
    {
     "name": "stdout",
     "output_type": "stream",
     "text": [
      "shape of target dataset: (59400, 2), shape of label dataset: (59400, 40) shape of test dataset: (14850, 40)\n"
     ]
    }
   ],
   "source": [
    "#check shape for both the datasets before merging\n",
    "print(f'shape of target dataset: {target.shape}, shape of label dataset: {label.shape} shape of test dataset: {test.shape}')"
   ]
  },
  {
   "cell_type": "code",
   "execution_count": 4,
   "id": "9524c72f",
   "metadata": {},
   "outputs": [],
   "source": [
    "# merging the data to form one dataframex\n",
    "well_df = pd.merge(target, label, on='id')"
   ]
  },
  {
   "cell_type": "markdown",
   "id": "108a7bca",
   "metadata": {},
   "source": [
    "## 3. Checking the Data"
   ]
  },
  {
   "cell_type": "code",
   "execution_count": 5,
   "id": "1e809693",
   "metadata": {},
   "outputs": [
    {
     "data": {
      "text/html": [
       "<div>\n",
       "<style scoped>\n",
       "    .dataframe tbody tr th:only-of-type {\n",
       "        vertical-align: middle;\n",
       "    }\n",
       "\n",
       "    .dataframe tbody tr th {\n",
       "        vertical-align: top;\n",
       "    }\n",
       "\n",
       "    .dataframe thead th {\n",
       "        text-align: right;\n",
       "    }\n",
       "</style>\n",
       "<table border=\"1\" class=\"dataframe\">\n",
       "  <thead>\n",
       "    <tr style=\"text-align: right;\">\n",
       "      <th></th>\n",
       "      <th>id</th>\n",
       "      <th>status_group</th>\n",
       "      <th>amount_tsh</th>\n",
       "      <th>date_recorded</th>\n",
       "      <th>funder</th>\n",
       "      <th>gps_height</th>\n",
       "      <th>installer</th>\n",
       "      <th>longitude</th>\n",
       "      <th>latitude</th>\n",
       "      <th>wpt_name</th>\n",
       "      <th>...</th>\n",
       "      <th>payment_type</th>\n",
       "      <th>water_quality</th>\n",
       "      <th>quality_group</th>\n",
       "      <th>quantity</th>\n",
       "      <th>quantity_group</th>\n",
       "      <th>source</th>\n",
       "      <th>source_type</th>\n",
       "      <th>source_class</th>\n",
       "      <th>waterpoint_type</th>\n",
       "      <th>waterpoint_type_group</th>\n",
       "    </tr>\n",
       "  </thead>\n",
       "  <tbody>\n",
       "    <tr>\n",
       "      <th>0</th>\n",
       "      <td>69572</td>\n",
       "      <td>functional</td>\n",
       "      <td>6000.0</td>\n",
       "      <td>2011-03-14</td>\n",
       "      <td>Roman</td>\n",
       "      <td>1390</td>\n",
       "      <td>Roman</td>\n",
       "      <td>34.938093</td>\n",
       "      <td>-9.856322</td>\n",
       "      <td>none</td>\n",
       "      <td>...</td>\n",
       "      <td>annually</td>\n",
       "      <td>soft</td>\n",
       "      <td>good</td>\n",
       "      <td>enough</td>\n",
       "      <td>enough</td>\n",
       "      <td>spring</td>\n",
       "      <td>spring</td>\n",
       "      <td>groundwater</td>\n",
       "      <td>communal standpipe</td>\n",
       "      <td>communal standpipe</td>\n",
       "    </tr>\n",
       "    <tr>\n",
       "      <th>1</th>\n",
       "      <td>8776</td>\n",
       "      <td>functional</td>\n",
       "      <td>0.0</td>\n",
       "      <td>2013-03-06</td>\n",
       "      <td>Grumeti</td>\n",
       "      <td>1399</td>\n",
       "      <td>GRUMETI</td>\n",
       "      <td>34.698766</td>\n",
       "      <td>-2.147466</td>\n",
       "      <td>Zahanati</td>\n",
       "      <td>...</td>\n",
       "      <td>never pay</td>\n",
       "      <td>soft</td>\n",
       "      <td>good</td>\n",
       "      <td>insufficient</td>\n",
       "      <td>insufficient</td>\n",
       "      <td>rainwater harvesting</td>\n",
       "      <td>rainwater harvesting</td>\n",
       "      <td>surface</td>\n",
       "      <td>communal standpipe</td>\n",
       "      <td>communal standpipe</td>\n",
       "    </tr>\n",
       "    <tr>\n",
       "      <th>2</th>\n",
       "      <td>34310</td>\n",
       "      <td>functional</td>\n",
       "      <td>25.0</td>\n",
       "      <td>2013-02-25</td>\n",
       "      <td>Lottery Club</td>\n",
       "      <td>686</td>\n",
       "      <td>World vision</td>\n",
       "      <td>37.460664</td>\n",
       "      <td>-3.821329</td>\n",
       "      <td>Kwa Mahundi</td>\n",
       "      <td>...</td>\n",
       "      <td>per bucket</td>\n",
       "      <td>soft</td>\n",
       "      <td>good</td>\n",
       "      <td>enough</td>\n",
       "      <td>enough</td>\n",
       "      <td>dam</td>\n",
       "      <td>dam</td>\n",
       "      <td>surface</td>\n",
       "      <td>communal standpipe multiple</td>\n",
       "      <td>communal standpipe</td>\n",
       "    </tr>\n",
       "    <tr>\n",
       "      <th>3</th>\n",
       "      <td>67743</td>\n",
       "      <td>non functional</td>\n",
       "      <td>0.0</td>\n",
       "      <td>2013-01-28</td>\n",
       "      <td>Unicef</td>\n",
       "      <td>263</td>\n",
       "      <td>UNICEF</td>\n",
       "      <td>38.486161</td>\n",
       "      <td>-11.155298</td>\n",
       "      <td>Zahanati Ya Nanyumbu</td>\n",
       "      <td>...</td>\n",
       "      <td>never pay</td>\n",
       "      <td>soft</td>\n",
       "      <td>good</td>\n",
       "      <td>dry</td>\n",
       "      <td>dry</td>\n",
       "      <td>machine dbh</td>\n",
       "      <td>borehole</td>\n",
       "      <td>groundwater</td>\n",
       "      <td>communal standpipe multiple</td>\n",
       "      <td>communal standpipe</td>\n",
       "    </tr>\n",
       "    <tr>\n",
       "      <th>4</th>\n",
       "      <td>19728</td>\n",
       "      <td>functional</td>\n",
       "      <td>0.0</td>\n",
       "      <td>2011-07-13</td>\n",
       "      <td>Action In A</td>\n",
       "      <td>0</td>\n",
       "      <td>Artisan</td>\n",
       "      <td>31.130847</td>\n",
       "      <td>-1.825359</td>\n",
       "      <td>Shuleni</td>\n",
       "      <td>...</td>\n",
       "      <td>never pay</td>\n",
       "      <td>soft</td>\n",
       "      <td>good</td>\n",
       "      <td>seasonal</td>\n",
       "      <td>seasonal</td>\n",
       "      <td>rainwater harvesting</td>\n",
       "      <td>rainwater harvesting</td>\n",
       "      <td>surface</td>\n",
       "      <td>communal standpipe</td>\n",
       "      <td>communal standpipe</td>\n",
       "    </tr>\n",
       "  </tbody>\n",
       "</table>\n",
       "<p>5 rows × 41 columns</p>\n",
       "</div>"
      ],
      "text/plain": [
       "      id    status_group  amount_tsh date_recorded        funder  gps_height  \\\n",
       "0  69572      functional      6000.0    2011-03-14         Roman        1390   \n",
       "1   8776      functional         0.0    2013-03-06       Grumeti        1399   \n",
       "2  34310      functional        25.0    2013-02-25  Lottery Club         686   \n",
       "3  67743  non functional         0.0    2013-01-28        Unicef         263   \n",
       "4  19728      functional         0.0    2011-07-13   Action In A           0   \n",
       "\n",
       "      installer  longitude   latitude              wpt_name  ...  \\\n",
       "0         Roman  34.938093  -9.856322                  none  ...   \n",
       "1       GRUMETI  34.698766  -2.147466              Zahanati  ...   \n",
       "2  World vision  37.460664  -3.821329           Kwa Mahundi  ...   \n",
       "3        UNICEF  38.486161 -11.155298  Zahanati Ya Nanyumbu  ...   \n",
       "4       Artisan  31.130847  -1.825359               Shuleni  ...   \n",
       "\n",
       "   payment_type water_quality quality_group      quantity  quantity_group  \\\n",
       "0      annually          soft          good        enough          enough   \n",
       "1     never pay          soft          good  insufficient    insufficient   \n",
       "2    per bucket          soft          good        enough          enough   \n",
       "3     never pay          soft          good           dry             dry   \n",
       "4     never pay          soft          good      seasonal        seasonal   \n",
       "\n",
       "                 source           source_type source_class  \\\n",
       "0                spring                spring  groundwater   \n",
       "1  rainwater harvesting  rainwater harvesting      surface   \n",
       "2                   dam                   dam      surface   \n",
       "3           machine dbh              borehole  groundwater   \n",
       "4  rainwater harvesting  rainwater harvesting      surface   \n",
       "\n",
       "               waterpoint_type waterpoint_type_group  \n",
       "0           communal standpipe    communal standpipe  \n",
       "1           communal standpipe    communal standpipe  \n",
       "2  communal standpipe multiple    communal standpipe  \n",
       "3  communal standpipe multiple    communal standpipe  \n",
       "4           communal standpipe    communal standpipe  \n",
       "\n",
       "[5 rows x 41 columns]"
      ]
     },
     "execution_count": 5,
     "metadata": {},
     "output_type": "execute_result"
    }
   ],
   "source": [
    "# Previewing the top of dataset\n",
    "well_df.head()"
   ]
  },
  {
   "cell_type": "code",
   "execution_count": 6,
   "id": "e8d190fc",
   "metadata": {},
   "outputs": [
    {
     "data": {
      "text/html": [
       "<div>\n",
       "<style scoped>\n",
       "    .dataframe tbody tr th:only-of-type {\n",
       "        vertical-align: middle;\n",
       "    }\n",
       "\n",
       "    .dataframe tbody tr th {\n",
       "        vertical-align: top;\n",
       "    }\n",
       "\n",
       "    .dataframe thead th {\n",
       "        text-align: right;\n",
       "    }\n",
       "</style>\n",
       "<table border=\"1\" class=\"dataframe\">\n",
       "  <thead>\n",
       "    <tr style=\"text-align: right;\">\n",
       "      <th></th>\n",
       "      <th>id</th>\n",
       "      <th>status_group</th>\n",
       "      <th>amount_tsh</th>\n",
       "      <th>date_recorded</th>\n",
       "      <th>funder</th>\n",
       "      <th>gps_height</th>\n",
       "      <th>installer</th>\n",
       "      <th>longitude</th>\n",
       "      <th>latitude</th>\n",
       "      <th>wpt_name</th>\n",
       "      <th>...</th>\n",
       "      <th>payment_type</th>\n",
       "      <th>water_quality</th>\n",
       "      <th>quality_group</th>\n",
       "      <th>quantity</th>\n",
       "      <th>quantity_group</th>\n",
       "      <th>source</th>\n",
       "      <th>source_type</th>\n",
       "      <th>source_class</th>\n",
       "      <th>waterpoint_type</th>\n",
       "      <th>waterpoint_type_group</th>\n",
       "    </tr>\n",
       "  </thead>\n",
       "  <tbody>\n",
       "    <tr>\n",
       "      <th>59395</th>\n",
       "      <td>60739</td>\n",
       "      <td>functional</td>\n",
       "      <td>10.0</td>\n",
       "      <td>2013-05-03</td>\n",
       "      <td>Germany Republi</td>\n",
       "      <td>1210</td>\n",
       "      <td>CES</td>\n",
       "      <td>37.169807</td>\n",
       "      <td>-3.253847</td>\n",
       "      <td>Area Three Namba 27</td>\n",
       "      <td>...</td>\n",
       "      <td>per bucket</td>\n",
       "      <td>soft</td>\n",
       "      <td>good</td>\n",
       "      <td>enough</td>\n",
       "      <td>enough</td>\n",
       "      <td>spring</td>\n",
       "      <td>spring</td>\n",
       "      <td>groundwater</td>\n",
       "      <td>communal standpipe</td>\n",
       "      <td>communal standpipe</td>\n",
       "    </tr>\n",
       "    <tr>\n",
       "      <th>59396</th>\n",
       "      <td>27263</td>\n",
       "      <td>functional</td>\n",
       "      <td>4700.0</td>\n",
       "      <td>2011-05-07</td>\n",
       "      <td>Cefa-njombe</td>\n",
       "      <td>1212</td>\n",
       "      <td>Cefa</td>\n",
       "      <td>35.249991</td>\n",
       "      <td>-9.070629</td>\n",
       "      <td>Kwa Yahona Kuvala</td>\n",
       "      <td>...</td>\n",
       "      <td>annually</td>\n",
       "      <td>soft</td>\n",
       "      <td>good</td>\n",
       "      <td>enough</td>\n",
       "      <td>enough</td>\n",
       "      <td>river</td>\n",
       "      <td>river/lake</td>\n",
       "      <td>surface</td>\n",
       "      <td>communal standpipe</td>\n",
       "      <td>communal standpipe</td>\n",
       "    </tr>\n",
       "    <tr>\n",
       "      <th>59397</th>\n",
       "      <td>37057</td>\n",
       "      <td>functional</td>\n",
       "      <td>0.0</td>\n",
       "      <td>2011-04-11</td>\n",
       "      <td>NaN</td>\n",
       "      <td>0</td>\n",
       "      <td>NaN</td>\n",
       "      <td>34.017087</td>\n",
       "      <td>-8.750434</td>\n",
       "      <td>Mashine</td>\n",
       "      <td>...</td>\n",
       "      <td>monthly</td>\n",
       "      <td>fluoride</td>\n",
       "      <td>fluoride</td>\n",
       "      <td>enough</td>\n",
       "      <td>enough</td>\n",
       "      <td>machine dbh</td>\n",
       "      <td>borehole</td>\n",
       "      <td>groundwater</td>\n",
       "      <td>hand pump</td>\n",
       "      <td>hand pump</td>\n",
       "    </tr>\n",
       "    <tr>\n",
       "      <th>59398</th>\n",
       "      <td>31282</td>\n",
       "      <td>functional</td>\n",
       "      <td>0.0</td>\n",
       "      <td>2011-03-08</td>\n",
       "      <td>Malec</td>\n",
       "      <td>0</td>\n",
       "      <td>Musa</td>\n",
       "      <td>35.861315</td>\n",
       "      <td>-6.378573</td>\n",
       "      <td>Mshoro</td>\n",
       "      <td>...</td>\n",
       "      <td>never pay</td>\n",
       "      <td>soft</td>\n",
       "      <td>good</td>\n",
       "      <td>insufficient</td>\n",
       "      <td>insufficient</td>\n",
       "      <td>shallow well</td>\n",
       "      <td>shallow well</td>\n",
       "      <td>groundwater</td>\n",
       "      <td>hand pump</td>\n",
       "      <td>hand pump</td>\n",
       "    </tr>\n",
       "    <tr>\n",
       "      <th>59399</th>\n",
       "      <td>26348</td>\n",
       "      <td>functional</td>\n",
       "      <td>0.0</td>\n",
       "      <td>2011-03-23</td>\n",
       "      <td>World Bank</td>\n",
       "      <td>191</td>\n",
       "      <td>World</td>\n",
       "      <td>38.104048</td>\n",
       "      <td>-6.747464</td>\n",
       "      <td>Kwa Mzee Lugawa</td>\n",
       "      <td>...</td>\n",
       "      <td>on failure</td>\n",
       "      <td>salty</td>\n",
       "      <td>salty</td>\n",
       "      <td>enough</td>\n",
       "      <td>enough</td>\n",
       "      <td>shallow well</td>\n",
       "      <td>shallow well</td>\n",
       "      <td>groundwater</td>\n",
       "      <td>hand pump</td>\n",
       "      <td>hand pump</td>\n",
       "    </tr>\n",
       "  </tbody>\n",
       "</table>\n",
       "<p>5 rows × 41 columns</p>\n",
       "</div>"
      ],
      "text/plain": [
       "          id status_group  amount_tsh date_recorded           funder  \\\n",
       "59395  60739   functional        10.0    2013-05-03  Germany Republi   \n",
       "59396  27263   functional      4700.0    2011-05-07      Cefa-njombe   \n",
       "59397  37057   functional         0.0    2011-04-11              NaN   \n",
       "59398  31282   functional         0.0    2011-03-08            Malec   \n",
       "59399  26348   functional         0.0    2011-03-23       World Bank   \n",
       "\n",
       "       gps_height installer  longitude  latitude             wpt_name  ...  \\\n",
       "59395        1210       CES  37.169807 -3.253847  Area Three Namba 27  ...   \n",
       "59396        1212      Cefa  35.249991 -9.070629    Kwa Yahona Kuvala  ...   \n",
       "59397           0       NaN  34.017087 -8.750434              Mashine  ...   \n",
       "59398           0      Musa  35.861315 -6.378573               Mshoro  ...   \n",
       "59399         191     World  38.104048 -6.747464      Kwa Mzee Lugawa  ...   \n",
       "\n",
       "       payment_type water_quality quality_group      quantity  quantity_group  \\\n",
       "59395    per bucket          soft          good        enough          enough   \n",
       "59396      annually          soft          good        enough          enough   \n",
       "59397       monthly      fluoride      fluoride        enough          enough   \n",
       "59398     never pay          soft          good  insufficient    insufficient   \n",
       "59399    on failure         salty         salty        enough          enough   \n",
       "\n",
       "             source   source_type source_class     waterpoint_type  \\\n",
       "59395        spring        spring  groundwater  communal standpipe   \n",
       "59396         river    river/lake      surface  communal standpipe   \n",
       "59397   machine dbh      borehole  groundwater           hand pump   \n",
       "59398  shallow well  shallow well  groundwater           hand pump   \n",
       "59399  shallow well  shallow well  groundwater           hand pump   \n",
       "\n",
       "      waterpoint_type_group  \n",
       "59395    communal standpipe  \n",
       "59396    communal standpipe  \n",
       "59397             hand pump  \n",
       "59398             hand pump  \n",
       "59399             hand pump  \n",
       "\n",
       "[5 rows x 41 columns]"
      ]
     },
     "execution_count": 6,
     "metadata": {},
     "output_type": "execute_result"
    }
   ],
   "source": [
    "# Previewing the tail of  dataset\n",
    "well_df.tail()"
   ]
  },
  {
   "cell_type": "code",
   "execution_count": 7,
   "id": "4a58f8e6",
   "metadata": {},
   "outputs": [
    {
     "data": {
      "text/plain": [
       "Index(['id', 'status_group', 'amount_tsh', 'date_recorded', 'funder',\n",
       "       'gps_height', 'installer', 'longitude', 'latitude', 'wpt_name',\n",
       "       'num_private', 'basin', 'subvillage', 'region', 'region_code',\n",
       "       'district_code', 'lga', 'ward', 'population', 'public_meeting',\n",
       "       'recorded_by', 'scheme_management', 'scheme_name', 'permit',\n",
       "       'construction_year', 'extraction_type', 'extraction_type_group',\n",
       "       'extraction_type_class', 'management', 'management_group', 'payment',\n",
       "       'payment_type', 'water_quality', 'quality_group', 'quantity',\n",
       "       'quantity_group', 'source', 'source_type', 'source_class',\n",
       "       'waterpoint_type', 'waterpoint_type_group'],\n",
       "      dtype='object')"
      ]
     },
     "execution_count": 7,
     "metadata": {},
     "output_type": "execute_result"
    }
   ],
   "source": [
    "# check column names\n",
    "well_df.columns"
   ]
  },
  {
   "cell_type": "code",
   "execution_count": 8,
   "id": "8b6e8b09",
   "metadata": {},
   "outputs": [
    {
     "name": "stdout",
     "output_type": "stream",
     "text": [
      "The data has 59400 rows and 41 columns\n"
     ]
    }
   ],
   "source": [
    "# shape of the data\n",
    "\n",
    "print(f'The data has {well_df.shape[0]} rows and {well_df.shape[1]} columns')"
   ]
  },
  {
   "cell_type": "code",
   "execution_count": 9,
   "id": "edfccb2c",
   "metadata": {
    "scrolled": true
   },
   "outputs": [
    {
     "name": "stdout",
     "output_type": "stream",
     "text": [
      "The data has 14850 rows and 40 columns\n"
     ]
    }
   ],
   "source": [
    "#shape of test data\n",
    "print(f'The data has {test.shape[0]} rows and {test.shape[1]} columns')"
   ]
  },
  {
   "cell_type": "code",
   "execution_count": 10,
   "id": "442f757a",
   "metadata": {},
   "outputs": [
    {
     "name": "stdout",
     "output_type": "stream",
     "text": [
      "<class 'pandas.core.frame.DataFrame'>\n",
      "Int64Index: 59400 entries, 0 to 59399\n",
      "Data columns (total 41 columns):\n",
      " #   Column                 Non-Null Count  Dtype  \n",
      "---  ------                 --------------  -----  \n",
      " 0   id                     59400 non-null  int64  \n",
      " 1   status_group           59400 non-null  object \n",
      " 2   amount_tsh             59400 non-null  float64\n",
      " 3   date_recorded          59400 non-null  object \n",
      " 4   funder                 55765 non-null  object \n",
      " 5   gps_height             59400 non-null  int64  \n",
      " 6   installer              55745 non-null  object \n",
      " 7   longitude              59400 non-null  float64\n",
      " 8   latitude               59400 non-null  float64\n",
      " 9   wpt_name               59400 non-null  object \n",
      " 10  num_private            59400 non-null  int64  \n",
      " 11  basin                  59400 non-null  object \n",
      " 12  subvillage             59029 non-null  object \n",
      " 13  region                 59400 non-null  object \n",
      " 14  region_code            59400 non-null  int64  \n",
      " 15  district_code          59400 non-null  int64  \n",
      " 16  lga                    59400 non-null  object \n",
      " 17  ward                   59400 non-null  object \n",
      " 18  population             59400 non-null  int64  \n",
      " 19  public_meeting         56066 non-null  object \n",
      " 20  recorded_by            59400 non-null  object \n",
      " 21  scheme_management      55523 non-null  object \n",
      " 22  scheme_name            31234 non-null  object \n",
      " 23  permit                 56344 non-null  object \n",
      " 24  construction_year      59400 non-null  int64  \n",
      " 25  extraction_type        59400 non-null  object \n",
      " 26  extraction_type_group  59400 non-null  object \n",
      " 27  extraction_type_class  59400 non-null  object \n",
      " 28  management             59400 non-null  object \n",
      " 29  management_group       59400 non-null  object \n",
      " 30  payment                59400 non-null  object \n",
      " 31  payment_type           59400 non-null  object \n",
      " 32  water_quality          59400 non-null  object \n",
      " 33  quality_group          59400 non-null  object \n",
      " 34  quantity               59400 non-null  object \n",
      " 35  quantity_group         59400 non-null  object \n",
      " 36  source                 59400 non-null  object \n",
      " 37  source_type            59400 non-null  object \n",
      " 38  source_class           59400 non-null  object \n",
      " 39  waterpoint_type        59400 non-null  object \n",
      " 40  waterpoint_type_group  59400 non-null  object \n",
      "dtypes: float64(3), int64(7), object(31)\n",
      "memory usage: 19.0+ MB\n"
     ]
    }
   ],
   "source": [
    "# check information of the data\n",
    "well_df.info()"
   ]
  },
  {
   "cell_type": "code",
   "execution_count": 11,
   "id": "132621d3",
   "metadata": {},
   "outputs": [
    {
     "data": {
      "text/html": [
       "<div>\n",
       "<style scoped>\n",
       "    .dataframe tbody tr th:only-of-type {\n",
       "        vertical-align: middle;\n",
       "    }\n",
       "\n",
       "    .dataframe tbody tr th {\n",
       "        vertical-align: top;\n",
       "    }\n",
       "\n",
       "    .dataframe thead th {\n",
       "        text-align: right;\n",
       "    }\n",
       "</style>\n",
       "<table border=\"1\" class=\"dataframe\">\n",
       "  <thead>\n",
       "    <tr style=\"text-align: right;\">\n",
       "      <th></th>\n",
       "      <th>count</th>\n",
       "      <th>mean</th>\n",
       "      <th>std</th>\n",
       "      <th>min</th>\n",
       "      <th>25%</th>\n",
       "      <th>50%</th>\n",
       "      <th>75%</th>\n",
       "      <th>max</th>\n",
       "    </tr>\n",
       "  </thead>\n",
       "  <tbody>\n",
       "    <tr>\n",
       "      <th>id</th>\n",
       "      <td>59400.0</td>\n",
       "      <td>37115.131768</td>\n",
       "      <td>21453.128371</td>\n",
       "      <td>0.00000</td>\n",
       "      <td>18519.750000</td>\n",
       "      <td>37061.500000</td>\n",
       "      <td>55656.500000</td>\n",
       "      <td>7.424700e+04</td>\n",
       "    </tr>\n",
       "    <tr>\n",
       "      <th>amount_tsh</th>\n",
       "      <td>59400.0</td>\n",
       "      <td>317.650385</td>\n",
       "      <td>2997.574558</td>\n",
       "      <td>0.00000</td>\n",
       "      <td>0.000000</td>\n",
       "      <td>0.000000</td>\n",
       "      <td>20.000000</td>\n",
       "      <td>3.500000e+05</td>\n",
       "    </tr>\n",
       "    <tr>\n",
       "      <th>gps_height</th>\n",
       "      <td>59400.0</td>\n",
       "      <td>668.297239</td>\n",
       "      <td>693.116350</td>\n",
       "      <td>-90.00000</td>\n",
       "      <td>0.000000</td>\n",
       "      <td>369.000000</td>\n",
       "      <td>1319.250000</td>\n",
       "      <td>2.770000e+03</td>\n",
       "    </tr>\n",
       "    <tr>\n",
       "      <th>longitude</th>\n",
       "      <td>59400.0</td>\n",
       "      <td>34.077427</td>\n",
       "      <td>6.567432</td>\n",
       "      <td>0.00000</td>\n",
       "      <td>33.090347</td>\n",
       "      <td>34.908743</td>\n",
       "      <td>37.178387</td>\n",
       "      <td>4.034519e+01</td>\n",
       "    </tr>\n",
       "    <tr>\n",
       "      <th>latitude</th>\n",
       "      <td>59400.0</td>\n",
       "      <td>-5.706033</td>\n",
       "      <td>2.946019</td>\n",
       "      <td>-11.64944</td>\n",
       "      <td>-8.540621</td>\n",
       "      <td>-5.021597</td>\n",
       "      <td>-3.326156</td>\n",
       "      <td>-2.000000e-08</td>\n",
       "    </tr>\n",
       "    <tr>\n",
       "      <th>num_private</th>\n",
       "      <td>59400.0</td>\n",
       "      <td>0.474141</td>\n",
       "      <td>12.236230</td>\n",
       "      <td>0.00000</td>\n",
       "      <td>0.000000</td>\n",
       "      <td>0.000000</td>\n",
       "      <td>0.000000</td>\n",
       "      <td>1.776000e+03</td>\n",
       "    </tr>\n",
       "    <tr>\n",
       "      <th>region_code</th>\n",
       "      <td>59400.0</td>\n",
       "      <td>15.297003</td>\n",
       "      <td>17.587406</td>\n",
       "      <td>1.00000</td>\n",
       "      <td>5.000000</td>\n",
       "      <td>12.000000</td>\n",
       "      <td>17.000000</td>\n",
       "      <td>9.900000e+01</td>\n",
       "    </tr>\n",
       "    <tr>\n",
       "      <th>district_code</th>\n",
       "      <td>59400.0</td>\n",
       "      <td>5.629747</td>\n",
       "      <td>9.633649</td>\n",
       "      <td>0.00000</td>\n",
       "      <td>2.000000</td>\n",
       "      <td>3.000000</td>\n",
       "      <td>5.000000</td>\n",
       "      <td>8.000000e+01</td>\n",
       "    </tr>\n",
       "    <tr>\n",
       "      <th>population</th>\n",
       "      <td>59400.0</td>\n",
       "      <td>179.909983</td>\n",
       "      <td>471.482176</td>\n",
       "      <td>0.00000</td>\n",
       "      <td>0.000000</td>\n",
       "      <td>25.000000</td>\n",
       "      <td>215.000000</td>\n",
       "      <td>3.050000e+04</td>\n",
       "    </tr>\n",
       "    <tr>\n",
       "      <th>construction_year</th>\n",
       "      <td>59400.0</td>\n",
       "      <td>1300.652475</td>\n",
       "      <td>951.620547</td>\n",
       "      <td>0.00000</td>\n",
       "      <td>0.000000</td>\n",
       "      <td>1986.000000</td>\n",
       "      <td>2004.000000</td>\n",
       "      <td>2.013000e+03</td>\n",
       "    </tr>\n",
       "  </tbody>\n",
       "</table>\n",
       "</div>"
      ],
      "text/plain": [
       "                     count          mean           std       min  \\\n",
       "id                 59400.0  37115.131768  21453.128371   0.00000   \n",
       "amount_tsh         59400.0    317.650385   2997.574558   0.00000   \n",
       "gps_height         59400.0    668.297239    693.116350 -90.00000   \n",
       "longitude          59400.0     34.077427      6.567432   0.00000   \n",
       "latitude           59400.0     -5.706033      2.946019 -11.64944   \n",
       "num_private        59400.0      0.474141     12.236230   0.00000   \n",
       "region_code        59400.0     15.297003     17.587406   1.00000   \n",
       "district_code      59400.0      5.629747      9.633649   0.00000   \n",
       "population         59400.0    179.909983    471.482176   0.00000   \n",
       "construction_year  59400.0   1300.652475    951.620547   0.00000   \n",
       "\n",
       "                            25%           50%           75%           max  \n",
       "id                 18519.750000  37061.500000  55656.500000  7.424700e+04  \n",
       "amount_tsh             0.000000      0.000000     20.000000  3.500000e+05  \n",
       "gps_height             0.000000    369.000000   1319.250000  2.770000e+03  \n",
       "longitude             33.090347     34.908743     37.178387  4.034519e+01  \n",
       "latitude              -8.540621     -5.021597     -3.326156 -2.000000e-08  \n",
       "num_private            0.000000      0.000000      0.000000  1.776000e+03  \n",
       "region_code            5.000000     12.000000     17.000000  9.900000e+01  \n",
       "district_code          2.000000      3.000000      5.000000  8.000000e+01  \n",
       "population             0.000000     25.000000    215.000000  3.050000e+04  \n",
       "construction_year      0.000000   1986.000000   2004.000000  2.013000e+03  "
      ]
     },
     "execution_count": 11,
     "metadata": {},
     "output_type": "execute_result"
    }
   ],
   "source": [
    "# descriptive statistics for our numeric values in dataset\n",
    "well_df.describe().T"
   ]
  },
  {
   "cell_type": "markdown",
   "id": "4f9be469",
   "metadata": {},
   "source": [
    "## 4. External Data Source Validation"
   ]
  },
  {
   "cell_type": "markdown",
   "id": "69de104b",
   "metadata": {},
   "source": [
    "The project being done is a competition which was set to help Tanzania government to predict factors affecting functionality of water points in their country. I could help the government and NGOs to get support and funds to curb their water problem.\n",
    "\n",
    "They also gave a dataset which could be used to load information about the predictor and be used to predict the best accuracy of the model used."
   ]
  },
  {
   "cell_type": "markdown",
   "id": "547f5878",
   "metadata": {},
   "source": [
    "### a.Validation"
   ]
  },
  {
   "cell_type": "code",
   "execution_count": 135,
   "id": "1e85041b",
   "metadata": {},
   "outputs": [],
   "source": [
    "test = pd.read_csv(\"D:/Projects/datasets/target.csv\")"
   ]
  },
  {
   "cell_type": "code",
   "execution_count": 136,
   "id": "2aa4e7af",
   "metadata": {},
   "outputs": [
    {
     "data": {
      "text/html": [
       "<div>\n",
       "<style scoped>\n",
       "    .dataframe tbody tr th:only-of-type {\n",
       "        vertical-align: middle;\n",
       "    }\n",
       "\n",
       "    .dataframe tbody tr th {\n",
       "        vertical-align: top;\n",
       "    }\n",
       "\n",
       "    .dataframe thead th {\n",
       "        text-align: right;\n",
       "    }\n",
       "</style>\n",
       "<table border=\"1\" class=\"dataframe\">\n",
       "  <thead>\n",
       "    <tr style=\"text-align: right;\">\n",
       "      <th></th>\n",
       "      <th>id</th>\n",
       "      <th>status_group</th>\n",
       "    </tr>\n",
       "  </thead>\n",
       "  <tbody>\n",
       "    <tr>\n",
       "      <th>0</th>\n",
       "      <td>69572</td>\n",
       "      <td>functional</td>\n",
       "    </tr>\n",
       "    <tr>\n",
       "      <th>1</th>\n",
       "      <td>8776</td>\n",
       "      <td>functional</td>\n",
       "    </tr>\n",
       "    <tr>\n",
       "      <th>2</th>\n",
       "      <td>34310</td>\n",
       "      <td>functional</td>\n",
       "    </tr>\n",
       "    <tr>\n",
       "      <th>3</th>\n",
       "      <td>67743</td>\n",
       "      <td>non functional</td>\n",
       "    </tr>\n",
       "    <tr>\n",
       "      <th>4</th>\n",
       "      <td>19728</td>\n",
       "      <td>functional</td>\n",
       "    </tr>\n",
       "    <tr>\n",
       "      <th>...</th>\n",
       "      <td>...</td>\n",
       "      <td>...</td>\n",
       "    </tr>\n",
       "    <tr>\n",
       "      <th>59395</th>\n",
       "      <td>60739</td>\n",
       "      <td>functional</td>\n",
       "    </tr>\n",
       "    <tr>\n",
       "      <th>59396</th>\n",
       "      <td>27263</td>\n",
       "      <td>functional</td>\n",
       "    </tr>\n",
       "    <tr>\n",
       "      <th>59397</th>\n",
       "      <td>37057</td>\n",
       "      <td>functional</td>\n",
       "    </tr>\n",
       "    <tr>\n",
       "      <th>59398</th>\n",
       "      <td>31282</td>\n",
       "      <td>functional</td>\n",
       "    </tr>\n",
       "    <tr>\n",
       "      <th>59399</th>\n",
       "      <td>26348</td>\n",
       "      <td>functional</td>\n",
       "    </tr>\n",
       "  </tbody>\n",
       "</table>\n",
       "<p>59400 rows × 2 columns</p>\n",
       "</div>"
      ],
      "text/plain": [
       "          id    status_group\n",
       "0      69572      functional\n",
       "1       8776      functional\n",
       "2      34310      functional\n",
       "3      67743  non functional\n",
       "4      19728      functional\n",
       "...      ...             ...\n",
       "59395  60739      functional\n",
       "59396  27263      functional\n",
       "59397  37057      functional\n",
       "59398  31282      functional\n",
       "59399  26348      functional\n",
       "\n",
       "[59400 rows x 2 columns]"
      ]
     },
     "execution_count": 136,
     "metadata": {},
     "output_type": "execute_result"
    }
   ],
   "source": [
    "test"
   ]
  },
  {
   "cell_type": "code",
   "execution_count": 137,
   "id": "31e44ee2",
   "metadata": {
    "scrolled": true
   },
   "outputs": [
    {
     "name": "stdout",
     "output_type": "stream",
     "text": [
      "0.806378132118451\n"
     ]
    }
   ],
   "source": [
    "report = accuracy_score (y_test, prediction)\n",
    "print(report)"
   ]
  },
  {
   "cell_type": "code",
   "execution_count": 138,
   "id": "e9a0944c",
   "metadata": {},
   "outputs": [],
   "source": [
    "submission = pd.DataFrame ({\"id\": submissionFormat['id'], 'status_group': test.iloc[:, 1]})"
   ]
  },
  {
   "cell_type": "code",
   "execution_count": 139,
   "id": "e2d66b51",
   "metadata": {},
   "outputs": [],
   "source": [
    "submission = submission.dropna()"
   ]
  },
  {
   "cell_type": "code",
   "execution_count": 140,
   "id": "0bcdf9f9",
   "metadata": {},
   "outputs": [
    {
     "data": {
      "text/plain": [
       "(14850, 2)"
      ]
     },
     "execution_count": 140,
     "metadata": {},
     "output_type": "execute_result"
    }
   ],
   "source": [
    "submission.shape"
   ]
  },
  {
   "cell_type": "code",
   "execution_count": 141,
   "id": "4f556dd3",
   "metadata": {
    "scrolled": true
   },
   "outputs": [
    {
     "data": {
      "text/html": [
       "<div>\n",
       "<style scoped>\n",
       "    .dataframe tbody tr th:only-of-type {\n",
       "        vertical-align: middle;\n",
       "    }\n",
       "\n",
       "    .dataframe tbody tr th {\n",
       "        vertical-align: top;\n",
       "    }\n",
       "\n",
       "    .dataframe thead th {\n",
       "        text-align: right;\n",
       "    }\n",
       "</style>\n",
       "<table border=\"1\" class=\"dataframe\">\n",
       "  <thead>\n",
       "    <tr style=\"text-align: right;\">\n",
       "      <th></th>\n",
       "      <th>id</th>\n",
       "      <th>status_group</th>\n",
       "    </tr>\n",
       "  </thead>\n",
       "  <tbody>\n",
       "    <tr>\n",
       "      <th>3515</th>\n",
       "      <td>59381.0</td>\n",
       "      <td>non functional</td>\n",
       "    </tr>\n",
       "    <tr>\n",
       "      <th>5834</th>\n",
       "      <td>24552.0</td>\n",
       "      <td>non functional</td>\n",
       "    </tr>\n",
       "    <tr>\n",
       "      <th>12810</th>\n",
       "      <td>57943.0</td>\n",
       "      <td>functional</td>\n",
       "    </tr>\n",
       "    <tr>\n",
       "      <th>11736</th>\n",
       "      <td>208.0</td>\n",
       "      <td>non functional</td>\n",
       "    </tr>\n",
       "    <tr>\n",
       "      <th>4195</th>\n",
       "      <td>58294.0</td>\n",
       "      <td>non functional</td>\n",
       "    </tr>\n",
       "  </tbody>\n",
       "</table>\n",
       "</div>"
      ],
      "text/plain": [
       "            id    status_group\n",
       "3515   59381.0  non functional\n",
       "5834   24552.0  non functional\n",
       "12810  57943.0      functional\n",
       "11736    208.0  non functional\n",
       "4195   58294.0  non functional"
      ]
     },
     "execution_count": 141,
     "metadata": {},
     "output_type": "execute_result"
    }
   ],
   "source": [
    "submission.sample(5)"
   ]
  },
  {
   "cell_type": "code",
   "execution_count": 122,
   "id": "2d006394",
   "metadata": {},
   "outputs": [],
   "source": [
    "submission.to_csv('D:/Projects/datasets/submission.csv', index=False)"
   ]
  },
  {
   "cell_type": "markdown",
   "id": "e6d52058",
   "metadata": {},
   "source": [
    "## 5. Tidying the Dataset"
   ]
  },
  {
   "cell_type": "markdown",
   "id": "0381cbd3",
   "metadata": {},
   "source": [
    "### Missing value\n",
    "\n",
    "While identifying these missing records proves to be easy, how to handle them often requires careful consideration as random fills or removal can lead to unforeseen results.\n",
    "\n",
    "There are a couple of ways to deal with missing data but it is important to note that neither is the optimal way of doing so:\n",
    "\n",
    "* **Dropping** - Deleting the records with missing values.\n",
    "* **Replacing** - Updating Missing values with values, this values could be actual or approximate."
   ]
  },
  {
   "cell_type": "code",
   "execution_count": 12,
   "id": "c1ca6222",
   "metadata": {},
   "outputs": [],
   "source": [
    "# function that checks for missing values and display as percentage\n",
    "def missing_values(data):\n",
    "    \"\"\"A simple function to identify data has missing values\"\"\"\n",
    "    # identify the total missing values per column\n",
    "    # sort in order \n",
    "    miss = data.isnull().sum().sort_values(ascending = False)\n",
    "\n",
    "    # calculate percentage of the missing values\n",
    "    percentage_miss = (data.isnull().sum() / len(data)).sort_values(ascending = False)*100\n",
    "    # store in a dataframe \n",
    "    missing = pd.DataFrame({\"Missing Values\": miss, \"Percentage(%)\": percentage_miss})\n",
    "\n",
    "    # remove values that are missing \n",
    "    missing.drop(missing[missing[\"Percentage(%)\"] == 0].index, inplace = True)\n",
    "\n",
    "    return missing\n"
   ]
  },
  {
   "cell_type": "code",
   "execution_count": 13,
   "id": "b417c22f",
   "metadata": {},
   "outputs": [
    {
     "data": {
      "text/html": [
       "<div>\n",
       "<style scoped>\n",
       "    .dataframe tbody tr th:only-of-type {\n",
       "        vertical-align: middle;\n",
       "    }\n",
       "\n",
       "    .dataframe tbody tr th {\n",
       "        vertical-align: top;\n",
       "    }\n",
       "\n",
       "    .dataframe thead th {\n",
       "        text-align: right;\n",
       "    }\n",
       "</style>\n",
       "<table border=\"1\" class=\"dataframe\">\n",
       "  <thead>\n",
       "    <tr style=\"text-align: right;\">\n",
       "      <th></th>\n",
       "      <th>Missing Values</th>\n",
       "      <th>Percentage(%)</th>\n",
       "    </tr>\n",
       "  </thead>\n",
       "  <tbody>\n",
       "    <tr>\n",
       "      <th>scheme_name</th>\n",
       "      <td>28166</td>\n",
       "      <td>47.417508</td>\n",
       "    </tr>\n",
       "    <tr>\n",
       "      <th>scheme_management</th>\n",
       "      <td>3877</td>\n",
       "      <td>6.526936</td>\n",
       "    </tr>\n",
       "    <tr>\n",
       "      <th>installer</th>\n",
       "      <td>3655</td>\n",
       "      <td>6.153199</td>\n",
       "    </tr>\n",
       "    <tr>\n",
       "      <th>funder</th>\n",
       "      <td>3635</td>\n",
       "      <td>6.119529</td>\n",
       "    </tr>\n",
       "    <tr>\n",
       "      <th>public_meeting</th>\n",
       "      <td>3334</td>\n",
       "      <td>5.612795</td>\n",
       "    </tr>\n",
       "    <tr>\n",
       "      <th>permit</th>\n",
       "      <td>3056</td>\n",
       "      <td>5.144781</td>\n",
       "    </tr>\n",
       "    <tr>\n",
       "      <th>subvillage</th>\n",
       "      <td>371</td>\n",
       "      <td>0.624579</td>\n",
       "    </tr>\n",
       "  </tbody>\n",
       "</table>\n",
       "</div>"
      ],
      "text/plain": [
       "                   Missing Values  Percentage(%)\n",
       "scheme_name                 28166      47.417508\n",
       "scheme_management            3877       6.526936\n",
       "installer                    3655       6.153199\n",
       "funder                       3635       6.119529\n",
       "public_meeting               3334       5.612795\n",
       "permit                       3056       5.144781\n",
       "subvillage                    371       0.624579"
      ]
     },
     "execution_count": 13,
     "metadata": {},
     "output_type": "execute_result"
    }
   ],
   "source": [
    "missing_values(well_df)"
   ]
  },
  {
   "cell_type": "markdown",
   "id": "46f7d44c",
   "metadata": {},
   "source": [
    "Since `scheme_name` has 47% of its data missing we can't drop its rows since we will be loosing almost half of our data.\n",
    "So we drop the entire column"
   ]
  },
  {
   "cell_type": "code",
   "execution_count": 14,
   "id": "557ac836",
   "metadata": {},
   "outputs": [],
   "source": [
    "# Drop a column by name\n",
    "well_df = well_df.drop(columns=[\"scheme_name\"])"
   ]
  },
  {
   "cell_type": "markdown",
   "id": "db2d0b2c",
   "metadata": {},
   "source": [
    "The other ones have les than 5% of the data missing so will be drop rows only"
   ]
  },
  {
   "cell_type": "code",
   "execution_count": 15,
   "id": "24b0b8dd",
   "metadata": {},
   "outputs": [],
   "source": [
    "#drop the rows with missing values\n",
    "well_df = well_df.dropna()"
   ]
  },
  {
   "cell_type": "code",
   "execution_count": 16,
   "id": "ca386936",
   "metadata": {},
   "outputs": [
    {
     "data": {
      "text/html": [
       "<div>\n",
       "<style scoped>\n",
       "    .dataframe tbody tr th:only-of-type {\n",
       "        vertical-align: middle;\n",
       "    }\n",
       "\n",
       "    .dataframe tbody tr th {\n",
       "        vertical-align: top;\n",
       "    }\n",
       "\n",
       "    .dataframe thead th {\n",
       "        text-align: right;\n",
       "    }\n",
       "</style>\n",
       "<table border=\"1\" class=\"dataframe\">\n",
       "  <thead>\n",
       "    <tr style=\"text-align: right;\">\n",
       "      <th></th>\n",
       "      <th>Missing Values</th>\n",
       "      <th>Percentage(%)</th>\n",
       "    </tr>\n",
       "  </thead>\n",
       "  <tbody>\n",
       "    <tr>\n",
       "      <th>scheme_name</th>\n",
       "      <td>7092</td>\n",
       "      <td>47.757576</td>\n",
       "    </tr>\n",
       "    <tr>\n",
       "      <th>scheme_management</th>\n",
       "      <td>969</td>\n",
       "      <td>6.525253</td>\n",
       "    </tr>\n",
       "    <tr>\n",
       "      <th>installer</th>\n",
       "      <td>877</td>\n",
       "      <td>5.905724</td>\n",
       "    </tr>\n",
       "    <tr>\n",
       "      <th>funder</th>\n",
       "      <td>869</td>\n",
       "      <td>5.851852</td>\n",
       "    </tr>\n",
       "    <tr>\n",
       "      <th>public_meeting</th>\n",
       "      <td>821</td>\n",
       "      <td>5.528620</td>\n",
       "    </tr>\n",
       "    <tr>\n",
       "      <th>permit</th>\n",
       "      <td>737</td>\n",
       "      <td>4.962963</td>\n",
       "    </tr>\n",
       "    <tr>\n",
       "      <th>subvillage</th>\n",
       "      <td>99</td>\n",
       "      <td>0.666667</td>\n",
       "    </tr>\n",
       "  </tbody>\n",
       "</table>\n",
       "</div>"
      ],
      "text/plain": [
       "                   Missing Values  Percentage(%)\n",
       "scheme_name                  7092      47.757576\n",
       "scheme_management             969       6.525253\n",
       "installer                     877       5.905724\n",
       "funder                        869       5.851852\n",
       "public_meeting                821       5.528620\n",
       "permit                        737       4.962963\n",
       "subvillage                     99       0.666667"
      ]
     },
     "execution_count": 16,
     "metadata": {},
     "output_type": "execute_result"
    }
   ],
   "source": [
    "missing_values(test)"
   ]
  },
  {
   "cell_type": "code",
   "execution_count": 17,
   "id": "983f6fe1",
   "metadata": {},
   "outputs": [],
   "source": [
    "# Drop a column by name\n",
    "test = test.drop(columns=[\"scheme_name\"])"
   ]
  },
  {
   "cell_type": "code",
   "execution_count": 18,
   "id": "b6a0dee1",
   "metadata": {},
   "outputs": [],
   "source": [
    "#drop the rows with missing values\n",
    "test = test.dropna()"
   ]
  },
  {
   "cell_type": "markdown",
   "id": "448ff69c",
   "metadata": {},
   "source": [
    "### Removal of Duplicate and Unwanted Observations\n",
    "\n",
    "* **Duplicated Entries** - Complete carbon copy of rows or column values. \n",
    "* **Unwanted observations** - Irrelevant data records that don’t actually fit the specific problem you are trying to analyze or solve"
   ]
  },
  {
   "cell_type": "markdown",
   "id": "400d576a",
   "metadata": {},
   "source": [
    "Check for any duplicates in the column"
   ]
  },
  {
   "cell_type": "code",
   "execution_count": 19,
   "id": "cbaf1133",
   "metadata": {},
   "outputs": [
    {
     "data": {
      "text/plain": [
       "0"
      ]
     },
     "execution_count": 19,
     "metadata": {},
     "output_type": "execute_result"
    }
   ],
   "source": [
    "# Checking for duplicates in rows\n",
    "well_df.duplicated().sum()"
   ]
  },
  {
   "cell_type": "code",
   "execution_count": 20,
   "id": "21deeb29",
   "metadata": {},
   "outputs": [
    {
     "data": {
      "text/plain": [
       "0"
      ]
     },
     "execution_count": 20,
     "metadata": {},
     "output_type": "execute_result"
    }
   ],
   "source": [
    "# Checking for duplicates in rows\n",
    "test.duplicated().sum()"
   ]
  },
  {
   "cell_type": "markdown",
   "id": "b6f0d829",
   "metadata": {},
   "source": [
    "Next we check if their is any uniqie column `id` has duplicates "
   ]
  },
  {
   "cell_type": "code",
   "execution_count": 21,
   "id": "c52bbfc0",
   "metadata": {},
   "outputs": [],
   "source": [
    "def unique_column_duplicates(data, column):\n",
    "    \"\"\"handling duplicates in unique column\"\"\"\n",
    "    # empty list to store the duplicate bools\n",
    "    duplicates = []\n",
    "    for i in data[column].duplicated():\n",
    "        duplicates.append(i)\n",
    "    \n",
    "    # identify if there are any duplicates\n",
    "    duplicates_set = set(duplicates)\n",
    "    if (len(duplicates_set) == 1):\n",
    "        print(f\"The column {column.title()} has no duplicates\")\n",
    "    else:\n",
    "        no_true = 0\n",
    "        for val in duplicates:\n",
    "            if (val == True):\n",
    "                no_true += 1\n",
    "        # percentage of the data represented by duplicates \n",
    "        duplicates_percentage = np.round(((no_true / len(data)) * 100), 3)\n",
    "        print(f\"The column {column.title()} has {no_true} duplicated rows.\\nThis constitutes {duplicates_percentage}% of the data set.\")\n"
   ]
  },
  {
   "cell_type": "code",
   "execution_count": 22,
   "id": "9a8f61b5",
   "metadata": {},
   "outputs": [
    {
     "name": "stdout",
     "output_type": "stream",
     "text": [
      "The column Id has no duplicates\n"
     ]
    }
   ],
   "source": [
    "unique_column_duplicates(well_df, \"id\")"
   ]
  },
  {
   "cell_type": "code",
   "execution_count": 23,
   "id": "66e19fdc",
   "metadata": {},
   "outputs": [
    {
     "name": "stdout",
     "output_type": "stream",
     "text": [
      "The column Id has no duplicates\n"
     ]
    }
   ],
   "source": [
    "unique_column_duplicates(test, \"id\")"
   ]
  },
  {
   "cell_type": "markdown",
   "id": "40f95aec",
   "metadata": {},
   "source": [
    "Their columns that have different names but same values in their rows "
   ]
  },
  {
   "cell_type": "code",
   "execution_count": 24,
   "id": "bf1c2293",
   "metadata": {},
   "outputs": [
    {
     "name": "stdout",
     "output_type": "stream",
     "text": [
      "never pay     20690\n",
      "per bucket     7897\n",
      "monthly        7542\n",
      "unknown        4172\n",
      "on failure     3642\n",
      "annually       3417\n",
      "other           928\n",
      "Name: payment_type, dtype: int64\n",
      " \n",
      "never pay                20690\n",
      "pay per bucket            7897\n",
      "pay monthly               7542\n",
      "unknown                   4172\n",
      "pay when scheme fails     3642\n",
      "pay annually              3417\n",
      "other                      928\n",
      "Name: payment, dtype: int64\n"
     ]
    }
   ],
   "source": [
    "# Compare payment and payment_type columns in the DataFrame\n",
    "print(well_df['payment_type'].value_counts())\n",
    "print(\" \")\n",
    "print(well_df['payment'].value_counts())"
   ]
  },
  {
   "cell_type": "code",
   "execution_count": 25,
   "id": "0812f60f",
   "metadata": {},
   "outputs": [
    {
     "name": "stdout",
     "output_type": "stream",
     "text": [
      "good        42667\n",
      "salty        3949\n",
      "unknown       880\n",
      "colored       320\n",
      "milky         299\n",
      "fluoride      173\n",
      "Name: quality_group, dtype: int64\n",
      " \n",
      "soft                  42667\n",
      "salty                  3718\n",
      "unknown                 880\n",
      "coloured                320\n",
      "milky                   299\n",
      "salty abandoned         231\n",
      "fluoride                160\n",
      "fluoride abandoned       13\n",
      "Name: water_quality, dtype: int64\n"
     ]
    }
   ],
   "source": [
    "# Compare quality_group  and water_quality columns in the DataFrame\n",
    "print(well_df['quality_group'].value_counts())\n",
    "print(\" \")\n",
    "print(well_df['water_quality'].value_counts())"
   ]
  },
  {
   "cell_type": "code",
   "execution_count": 26,
   "id": "8137485c",
   "metadata": {},
   "outputs": [
    {
     "name": "stdout",
     "output_type": "stream",
     "text": [
      "EXTRACTION TYPE\n",
      "gravity                      23036\n",
      "nira/tanira                   6260\n",
      "other                         4538\n",
      "submersible                   3645\n",
      "swn 80                        2858\n",
      "mono                          2382\n",
      "india mark ii                 2047\n",
      "afridev                       1346\n",
      "ksb                           1330\n",
      "other - rope pump              212\n",
      "other - swn 81                 199\n",
      "windmill                       104\n",
      "cemo                            89\n",
      "india mark iii                  87\n",
      "other - play pump               76\n",
      "walimi                          46\n",
      "climax                          32\n",
      "other - mkulima/shinyanga        1\n",
      "Name: extraction_type, dtype: int64 \n",
      "\n",
      "EXTRACTION TYPE GROUP \n",
      "gravity            23036\n",
      "nira/tanira         6260\n",
      "submersible         4975\n",
      "other               4538\n",
      "swn 80              2858\n",
      "mono                2382\n",
      "india mark ii       2047\n",
      "afridev             1346\n",
      "other handpump       322\n",
      "rope pump            212\n",
      "other motorpump      121\n",
      "wind-powered         104\n",
      "india mark iii        87\n",
      "Name: extraction_type_group, dtype: int64 \n",
      "\n",
      "EXTRACTION TYPE CLASS\n",
      "gravity         23036\n",
      "handpump        12920\n",
      "submersible      4975\n",
      "other            4538\n",
      "motorpump        2503\n",
      "rope pump         212\n",
      "wind-powered      104\n",
      "Name: extraction_type_class, dtype: int64 \n",
      "\n"
     ]
    }
   ],
   "source": [
    "# Compare extraction_type_group, extraction_type_class, extraction_type columns in the DataFrame\n",
    "print('EXTRACTION TYPE')\n",
    "print(well_df['extraction_type'].value_counts(),'\\n')\n",
    "print(\"EXTRACTION TYPE GROUP \")\n",
    "print(well_df['extraction_type_group'].value_counts(),'\\n')\n",
    "print(\"EXTRACTION TYPE CLASS\")\n",
    "print(well_df['extraction_type_class'].value_counts(),'\\n')"
   ]
  },
  {
   "cell_type": "code",
   "execution_count": 27,
   "id": "35252d13",
   "metadata": {},
   "outputs": [
    {
     "name": "stdout",
     "output_type": "stream",
     "text": [
      "WATER TYPE \n",
      " communal standpipe             23837\n",
      "hand pump                      13602\n",
      "communal standpipe multiple     5459\n",
      "other                           4651\n",
      "improved spring                  651\n",
      "cattle trough                     82\n",
      "dam                                6\n",
      "Name: waterpoint_type, dtype: int64 \n",
      "\n",
      "WATER TYPE GROUP \n",
      " communal standpipe    29296\n",
      "hand pump             13602\n",
      "other                  4651\n",
      "improved spring         651\n",
      "cattle trough            82\n",
      "dam                       6\n",
      "Name: waterpoint_type_group, dtype: int64 \n",
      "\n"
     ]
    }
   ],
   "source": [
    "# Compare waterpoint_type, waterpoint_type_group columns in the DataFrame\n",
    "print('WATER TYPE \\n', well_df['waterpoint_type'].value_counts(),'\\n')\n",
    "\n",
    "print('WATER TYPE GROUP \\n', well_df['waterpoint_type_group'].value_counts(),'\\n')"
   ]
  },
  {
   "cell_type": "code",
   "execution_count": 28,
   "id": "58939963",
   "metadata": {},
   "outputs": [
    {
     "name": "stdout",
     "output_type": "stream",
     "text": [
      "QUANTITY \n",
      " enough          28355\n",
      "insufficient    11799\n",
      "dry              4945\n",
      "seasonal         2899\n",
      "unknown           290\n",
      "Name: quantity, dtype: int64 \n",
      "\n",
      "QUANTITY GROUP \n",
      " enough          28355\n",
      "insufficient    11799\n",
      "dry              4945\n",
      "seasonal         2899\n",
      "unknown           290\n",
      "Name: quantity_group, dtype: int64\n"
     ]
    }
   ],
   "source": [
    "# Compare quantity, quantity_group columns in the DataFrame\n",
    "print('QUANTITY \\n', well_df['quantity'].value_counts(),'\\n')\n",
    "\n",
    "print('QUANTITY GROUP \\n',well_df['quantity_group'].value_counts())"
   ]
  },
  {
   "cell_type": "markdown",
   "id": "ff2d4a53",
   "metadata": {},
   "source": [
    "Since this Columns have similar value count there is not need of keeping both we can drop one and remain with the most profficient one"
   ]
  },
  {
   "cell_type": "code",
   "execution_count": 29,
   "id": "2cee9e47",
   "metadata": {},
   "outputs": [],
   "source": [
    "# droping the columns\n",
    "#well_df = well_df.drop(columns=['waterpoint_type', 'quantity', 'quality_group', 'payment_type', 'extraction_type_group', 'extraction_type_class'])\n",
    "#test = test.drop(columns=['waterpoint_type', 'quantity', 'quality_group', 'payment_type', 'extraction_type_group', 'extraction_type_class'])"
   ]
  },
  {
   "cell_type": "markdown",
   "id": "e5e29d0f",
   "metadata": {},
   "source": [
    "## 6. Exploratory Analysis"
   ]
  },
  {
   "cell_type": "markdown",
   "id": "c7158dea",
   "metadata": {},
   "source": [
    "### Checking functionality"
   ]
  },
  {
   "cell_type": "code",
   "execution_count": 30,
   "id": "0a5fc765",
   "metadata": {},
   "outputs": [
    {
     "data": {
      "image/png": "[encoded data removed]",
      "text/plain": [
       "<Figure size 800x500 with 1 Axes>"
      ]
     },
     "metadata": {},
     "output_type": "display_data"
    }
   ],
   "source": [
    "# checking availability of funtional water poins\n",
    "fig, ax = plt.subplots(figsize = (8,5))\n",
    "sns.set_style(\"darkgrid\");\n",
    "sns.set_color_codes(palette = 'bright');\n",
    "sns.countplot(x = well_df['status_group'], color = 'blue')\n",
    "ax.set_title('Well Status Count')\n",
    "plt.show();"
   ]
  },
  {
   "cell_type": "markdown",
   "id": "8910381d",
   "metadata": {},
   "source": [
    "### Observation\n",
    "Most of the of the wells are functional \n",
    "\n",
    "Their some cases of non functional wells \n",
    "\n",
    "Some least cases of funtional wells need repair"
   ]
  },
  {
   "cell_type": "markdown",
   "id": "31b97b3c",
   "metadata": {},
   "source": [
    "### Ratio of number of people and their payments to get water"
   ]
  },
  {
   "cell_type": "code",
   "execution_count": 31,
   "id": "908f4d86",
   "metadata": {
    "scrolled": false
   },
   "outputs": [
    {
     "data": {
      "image/png": "[encoded data removed]",
      "text/plain": [
       "<Figure size 800x600 with 1 Axes>"
      ]
     },
     "metadata": {},
     "output_type": "display_data"
    }
   ],
   "source": [
    "fig, ax = plt.subplots(figsize = (8,6))\n",
    "sns.scatterplot(data = well_df, y ='population', x = 'payment', hue = 'permit');\n",
    "plt.tight_layout()\n",
    "plt.show()"
   ]
  },
  {
   "cell_type": "markdown",
   "id": "8e46b96f",
   "metadata": {},
   "source": [
    "### Observation\n",
    "Most people don't pay for water in well as their are wells that are permitted are those that are free "
   ]
  },
  {
   "cell_type": "markdown",
   "id": "6c6fc876",
   "metadata": {},
   "source": [
    "### Checking Quality of Water"
   ]
  },
  {
   "cell_type": "code",
   "execution_count": 32,
   "id": "56c4adeb",
   "metadata": {
    "scrolled": false
   },
   "outputs": [
    {
     "data": {
      "image/png": "[encoded data removed]",
      "text/plain": [
       "<Figure size 1000x600 with 1 Axes>"
      ]
     },
     "metadata": {},
     "output_type": "display_data"
    }
   ],
   "source": [
    "#check if water source affect functionality\n",
    "fig, ax = plt.subplots(figsize = (10,6))\n",
    "\n",
    "sns.countplot(data = well_df, x = 'quality_group', hue = 'status_group')\n",
    "\n",
    "ax.set_title('Well Status by Water quality')\n",
    "ax.set_xlabel('Water Quality')\n",
    "ax.set_ylabel('Count');"
   ]
  },
  {
   "cell_type": "markdown",
   "id": "ac7aa5ea",
   "metadata": {},
   "source": [
    "### Observation\n",
    "Their large amount of good quality water\n",
    "\n",
    "Some people still use salty, milky, fluoride and colored water"
   ]
  },
  {
   "cell_type": "markdown",
   "id": "7287e088",
   "metadata": {},
   "source": [
    "### Checking Water quantity as per source"
   ]
  },
  {
   "cell_type": "code",
   "execution_count": 33,
   "id": "14863f4b",
   "metadata": {},
   "outputs": [
    {
     "data": {
      "image/png": "[encoded data removed]",
      "text/plain": [
       "<Figure size 1000x600 with 1 Axes>"
      ]
     },
     "metadata": {},
     "output_type": "display_data"
    }
   ],
   "source": [
    "#check if water quantity affect functionality\n",
    "fig, ax = plt.subplots(figsize = (10,6))\n",
    "\n",
    "sns.countplot(data = well_df, x = 'source_type', hue = 'quantity_group')\n",
    "\n",
    "ax.set_title('Well Status by Water Quantity')\n",
    "ax.set_xlabel('Water Quantity')\n",
    "plt.xticks(rotation = 60);"
   ]
  },
  {
   "cell_type": "markdown",
   "id": "55bc4ecd",
   "metadata": {},
   "source": [
    "### Observation\n",
    "- Most of the water sources have enough water to be used\n",
    "- Rain water harvesting is seasonal because it depends with rainy season to access water\n",
    "- Though their some cases of dry water sources"
   ]
  },
  {
   "cell_type": "markdown",
   "id": "65246fda",
   "metadata": {},
   "source": [
    "### Well status by extraction type"
   ]
  },
  {
   "cell_type": "code",
   "execution_count": 34,
   "id": "08fa3b0a",
   "metadata": {
    "scrolled": false
   },
   "outputs": [
    {
     "data": {
      "image/png": "[encoded data removed]",
      "text/plain": [
       "<Figure size 1200x600 with 1 Axes>"
      ]
     },
     "metadata": {},
     "output_type": "display_data"
    }
   ],
   "source": [
    "#check if water source affect functionality\n",
    "fig, ax = plt.subplots(figsize = (12,6))\n",
    "\n",
    "sns.countplot(data = well_df, x = 'extraction_type_class', hue = 'status_group')\n",
    "\n",
    "ax.set_title('Well Status by Extraction Type')\n",
    "ax.set_xlabel('Type of Extraction');"
   ]
  },
  {
   "cell_type": "markdown",
   "id": "08af1034",
   "metadata": {},
   "source": [
    "### Observation\n",
    "- Water extracted by gravity has more functional wells compared to the rest\n",
    "\n",
    "- Motor pumps seem to have more non functional wells maybe due to maintanance cost or fuel prices \n",
    "\n",
    "- Hand pumps also have more functioning wells maybe due to easy to use and constract \n",
    "\n",
    "- All wind-powered pumps have seize to work "
   ]
  },
  {
   "cell_type": "markdown",
   "id": "6c117c0d",
   "metadata": {},
   "source": [
    "### Checking Water Source on well functionality"
   ]
  },
  {
   "cell_type": "code",
   "execution_count": 35,
   "id": "239c613e",
   "metadata": {
    "scrolled": false
   },
   "outputs": [
    {
     "data": {
      "image/png": "[encoded data removed]",
      "text/plain": [
       "<Figure size 1200x600 with 1 Axes>"
      ]
     },
     "metadata": {},
     "output_type": "display_data"
    }
   ],
   "source": [
    "#check if water source affect functionality\n",
    "fig, ax = plt.subplots(figsize = (12,6))\n",
    "\n",
    "sns.countplot(data = well_df, x = 'source_type', hue = 'status_group')\n",
    "\n",
    "ax.set_title('Well Status by Water Source')\n",
    "ax.set_xlabel('Water Source');"
   ]
  },
  {
   "cell_type": "markdown",
   "id": "459f592a",
   "metadata": {},
   "source": [
    "### Observation\n",
    "- Most functioning wells are those from springs as springs have fresh and clean water\n",
    "- With little rain water sources means their are few chances of rains in the region"
   ]
  },
  {
   "cell_type": "markdown",
   "id": "f7c94ea7",
   "metadata": {},
   "source": [
    "### Checking how region affects well functionality"
   ]
  },
  {
   "cell_type": "code",
   "execution_count": 36,
   "id": "263df7ef",
   "metadata": {
    "scrolled": false
   },
   "outputs": [
    {
     "data": {
      "image/png": "[encoded data removed]",
      "text/plain": [
       "<Figure size 1200x600 with 1 Axes>"
      ]
     },
     "metadata": {},
     "output_type": "display_data"
    }
   ],
   "source": [
    "# Group the data by the source of water and calculate the count of each status_group\n",
    "grouped = well_df.groupby(['region'])['status_group'].value_counts().unstack()\n",
    "\n",
    "# Plot a bar plot\n",
    "grouped.plot(kind='bar', stacked=True, figsize = (12,6))\n",
    "\n",
    "# Add a title and labels\n",
    "plt.title('Distribution of status_group by extraction type')\n",
    "plt.xticks(rotation = 45)\n",
    "plt.xlabel('Extraction type')\n",
    "plt.ylabel('Count of status_group')\n",
    "\n",
    "# Show the plot\n",
    "plt.show()\n"
   ]
  },
  {
   "cell_type": "markdown",
   "id": "04258c62",
   "metadata": {},
   "source": [
    "### Observation\n",
    "- Iringa has the highest number of functional water pumps.\n",
    "- Most regions have more functional than non functional\n",
    "- The ratio of functional need repair water pumps is smaller for all regions"
   ]
  },
  {
   "cell_type": "markdown",
   "id": "a7789734",
   "metadata": {},
   "source": [
    "### Distribution of wells near water basin"
   ]
  },
  {
   "cell_type": "code",
   "execution_count": 37,
   "id": "1d7b5429",
   "metadata": {},
   "outputs": [
    {
     "data": {
      "image/png": "[encoded data removed]",
      "text/plain": [
       "<Figure size 1200x600 with 1 Axes>"
      ]
     },
     "metadata": {},
     "output_type": "display_data"
    }
   ],
   "source": [
    "# Plot graph\n",
    "fig, ax = plt.subplots(figsize = (12, 6))\n",
    "sns.countplot(data = well_df, x = 'basin', hue = 'status_group', \n",
    "              order = well_df.basin.value_counts().index)\n",
    "plt.title('Wells status based on proximity to water basin')\n",
    "plt.xticks(rotation = 45)\n",
    "plt.ylabel('Distribution of wells')\n",
    "plt.xlabel('Water Basin');\n",
    "\n"
   ]
  },
  {
   "cell_type": "markdown",
   "id": "8f0cca67",
   "metadata": {},
   "source": [
    "### Observation\n",
    "- Most well near water basin are functional compared to those that are not functional but their few cases of functional wells that need repair\n",
    "- Most wells in River pangani are functional compared to other regions"
   ]
  },
  {
   "cell_type": "markdown",
   "id": "22d2c742",
   "metadata": {},
   "source": [
    "## 7. Implementing the Solution"
   ]
  },
  {
   "cell_type": "markdown",
   "id": "132a38ef",
   "metadata": {},
   "source": [
    "### Feature selection"
   ]
  },
  {
   "cell_type": "markdown",
   "id": "63af6b6f",
   "metadata": {},
   "source": [
    "Since this Columns have similar value count there is not need of keeping both we can drop one and remain with the most profficient one"
   ]
  },
  {
   "cell_type": "code",
   "execution_count": 38,
   "id": "ae8b2421",
   "metadata": {},
   "outputs": [],
   "source": [
    "# droping the columns\n",
    "well_df = well_df.drop(columns=['waterpoint_type', 'quantity', 'quality_group', 'payment_type', 'extraction_type_group', 'extraction_type_class'])\n",
    "test = test.drop(columns=['waterpoint_type', 'quantity', 'quality_group', 'payment_type', 'extraction_type_group', 'extraction_type_class'])"
   ]
  },
  {
   "cell_type": "markdown",
   "id": "7b54a228",
   "metadata": {},
   "source": [
    "Checkin for relevant features using correlation"
   ]
  },
  {
   "cell_type": "code",
   "execution_count": 39,
   "id": "1ed36e63",
   "metadata": {},
   "outputs": [],
   "source": [
    "features = well_df.copy()"
   ]
  },
  {
   "cell_type": "code",
   "execution_count": 40,
   "id": "a3523728",
   "metadata": {
    "scrolled": true
   },
   "outputs": [
    {
     "data": {
      "image/png": "[encoded data removed]",
      "text/plain": [
       "<Figure size 800x600 with 2 Axes>"
      ]
     },
     "metadata": {},
     "output_type": "display_data"
    }
   ],
   "source": [
    "#Using Pearson Correlation\n",
    "plt.figure(figsize=(8,6))\n",
    "mask = np.triu(np.ones_like(features.corr(), dtype=bool))\n",
    "cor = features.corr()\n",
    "#sns.heatmap(cor, annot=True, cmap=plt.cm.Blues_r, fmt=\".2f\", mask=mask)\n",
    "sns.heatmap(cor, annot=True, cmap=\"BrBG\", fmt=\".2f\", mask=mask)\n",
    "\n",
    "plt.show()"
   ]
  },
  {
   "cell_type": "markdown",
   "id": "ae614f4e",
   "metadata": {},
   "source": [
    "With the following function we can select highly correlated features. It will remove the first feature that is correlated with anything other feature"
   ]
  },
  {
   "cell_type": "code",
   "execution_count": 41,
   "id": "6d7ac2bb",
   "metadata": {},
   "outputs": [],
   "source": [
    "# define a function\n",
    "def correlation(dataset, threshold):\n",
    "    col_corr = set()  # Set of all the names of correlated columns\n",
    "    corr_matrix = dataset.corr()\n",
    "    for i in range(len(corr_matrix.columns)):\n",
    "        for j in range(i):\n",
    "            if abs(corr_matrix.iloc[i, j]) > threshold: # we are interested in absolute coeff value\n",
    "                colname = corr_matrix.columns[i]  # getting the name of column\n",
    "                col_corr.add(colname)\n",
    "    return col_corr"
   ]
  },
  {
   "cell_type": "code",
   "execution_count": 42,
   "id": "09fc58c3",
   "metadata": {},
   "outputs": [
    {
     "data": {
      "text/plain": [
       "1"
      ]
     },
     "execution_count": 42,
     "metadata": {},
     "output_type": "execute_result"
    }
   ],
   "source": [
    "# check number of features with correlation above 0.7\n",
    "corr_features = correlation(features, 0.7)\n",
    "len(set(corr_features))"
   ]
  },
  {
   "cell_type": "code",
   "execution_count": 43,
   "id": "912c97fd",
   "metadata": {},
   "outputs": [
    {
     "data": {
      "text/plain": [
       "{'district_code'}"
      ]
     },
     "execution_count": 43,
     "metadata": {},
     "output_type": "execute_result"
    }
   ],
   "source": [
    "# show name of the feature \n",
    "corr_features"
   ]
  },
  {
   "cell_type": "code",
   "execution_count": 44,
   "id": "eb979349",
   "metadata": {},
   "outputs": [],
   "source": [
    "# Drop the features with correlation above 0.7 for both datasets \n",
    "features = features.drop(corr_features,axis=1)\n",
    "test = test.drop(corr_features,axis=1)"
   ]
  },
  {
   "cell_type": "markdown",
   "id": "dff4f49e",
   "metadata": {},
   "source": [
    "Creating instance of label encoder"
   ]
  },
  {
   "cell_type": "code",
   "execution_count": 45,
   "id": "b429e828",
   "metadata": {},
   "outputs": [],
   "source": [
    "# concatenate train data test dataset\n",
    "features = pd.concat([features, test], ignore_index = True)"
   ]
  },
  {
   "cell_type": "code",
   "execution_count": 46,
   "id": "d717a523",
   "metadata": {},
   "outputs": [],
   "source": [
    "features.date_recorded = pd.datetime(2013, 12, 3) - pd.to_datetime(features.date_recorded)\n",
    "features.columns = ['days_since_recorded' if x=='date_recorded' else x for x in features.columns]\n",
    "features.days_since_recorded = features.days_since_recorded.astype('timedelta64[D]').astype(int)"
   ]
  },
  {
   "cell_type": "markdown",
   "id": "6dde2be5",
   "metadata": {},
   "source": [
    "Some of the columns in the dataset are not important for modeling so I'll drop them. The many columns which represent location so I'll drop to remain with one because they have similar features"
   ]
  },
  {
   "cell_type": "code",
   "execution_count": 47,
   "id": "c3b348a8",
   "metadata": {},
   "outputs": [],
   "source": [
    "#drop irellevant columns\n",
    "features.drop(columns = ['id','wpt_name', 'subvillage', 'lga', 'ward', 'basin', 'region_code', \n",
    "                           'management_group'], inplace = True)"
   ]
  },
  {
   "cell_type": "code",
   "execution_count": 48,
   "id": "1e035cc9",
   "metadata": {},
   "outputs": [
    {
     "data": {
      "text/html": [
       "<div>\n",
       "<style scoped>\n",
       "    .dataframe tbody tr th:only-of-type {\n",
       "        vertical-align: middle;\n",
       "    }\n",
       "\n",
       "    .dataframe tbody tr th {\n",
       "        vertical-align: top;\n",
       "    }\n",
       "\n",
       "    .dataframe thead th {\n",
       "        text-align: right;\n",
       "    }\n",
       "</style>\n",
       "<table border=\"1\" class=\"dataframe\">\n",
       "  <thead>\n",
       "    <tr style=\"text-align: right;\">\n",
       "      <th></th>\n",
       "      <th>Missing Values</th>\n",
       "      <th>Percentage(%)</th>\n",
       "    </tr>\n",
       "  </thead>\n",
       "  <tbody>\n",
       "    <tr>\n",
       "      <th>status_group</th>\n",
       "      <td>12097</td>\n",
       "      <td>20.033121</td>\n",
       "    </tr>\n",
       "  </tbody>\n",
       "</table>\n",
       "</div>"
      ],
      "text/plain": [
       "              Missing Values  Percentage(%)\n",
       "status_group           12097      20.033121"
      ]
     },
     "execution_count": 48,
     "metadata": {},
     "output_type": "execute_result"
    }
   ],
   "source": [
    "# check missing values\n",
    "missing_values(features)"
   ]
  },
  {
   "cell_type": "code",
   "execution_count": 49,
   "id": "d8a7bd87",
   "metadata": {},
   "outputs": [],
   "source": [
    "features = features.dropna()"
   ]
  },
  {
   "cell_type": "code",
   "execution_count": 50,
   "id": "eca57620",
   "metadata": {},
   "outputs": [],
   "source": [
    "#split the data to target and label variables\n",
    "target_scaled = features['status_group']\n",
    "features = features.drop('status_group', axis = 1)"
   ]
  },
  {
   "cell_type": "code",
   "execution_count": 51,
   "id": "46a464c6",
   "metadata": {},
   "outputs": [],
   "source": [
    "encoder = LabelEncoder()\n",
    "\n",
    "#collect all categorical columns together\n",
    "categorical_data = features.select_dtypes(include=['object']).columns\n",
    "\n",
    "features[categorical_data] = features[categorical_data].apply(lambda col: encoder.fit_transform(col))"
   ]
  },
  {
   "cell_type": "code",
   "execution_count": 52,
   "id": "5f3da2c7",
   "metadata": {},
   "outputs": [],
   "source": [
    "# initiate the standard scaler\n",
    "ss = StandardScaler()"
   ]
  },
  {
   "cell_type": "code",
   "execution_count": 53,
   "id": "05932891",
   "metadata": {},
   "outputs": [
    {
     "data": {
      "text/html": [
       "<div>\n",
       "<style scoped>\n",
       "    .dataframe tbody tr th:only-of-type {\n",
       "        vertical-align: middle;\n",
       "    }\n",
       "\n",
       "    .dataframe tbody tr th {\n",
       "        vertical-align: top;\n",
       "    }\n",
       "\n",
       "    .dataframe thead th {\n",
       "        text-align: right;\n",
       "    }\n",
       "</style>\n",
       "<table border=\"1\" class=\"dataframe\">\n",
       "  <thead>\n",
       "    <tr style=\"text-align: right;\">\n",
       "      <th></th>\n",
       "      <th>amount_tsh</th>\n",
       "      <th>days_since_recorded</th>\n",
       "      <th>funder</th>\n",
       "      <th>gps_height</th>\n",
       "      <th>installer</th>\n",
       "      <th>longitude</th>\n",
       "      <th>latitude</th>\n",
       "      <th>num_private</th>\n",
       "      <th>region</th>\n",
       "      <th>population</th>\n",
       "      <th>...</th>\n",
       "      <th>construction_year</th>\n",
       "      <th>extraction_type</th>\n",
       "      <th>management</th>\n",
       "      <th>payment</th>\n",
       "      <th>water_quality</th>\n",
       "      <th>quantity_group</th>\n",
       "      <th>source</th>\n",
       "      <th>source_type</th>\n",
       "      <th>source_class</th>\n",
       "      <th>waterpoint_type_group</th>\n",
       "    </tr>\n",
       "  </thead>\n",
       "  <tbody>\n",
       "    <tr>\n",
       "      <th>0</th>\n",
       "      <td>1.993907</td>\n",
       "      <td>1.112090</td>\n",
       "      <td>0.902109</td>\n",
       "      <td>0.985263</td>\n",
       "      <td>1.308227</td>\n",
       "      <td>0.114433</td>\n",
       "      <td>-1.447603</td>\n",
       "      <td>-0.041543</td>\n",
       "      <td>-1.098608</td>\n",
       "      <td>-0.143244</td>\n",
       "      <td>...</td>\n",
       "      <td>0.700245</td>\n",
       "      <td>-0.751635</td>\n",
       "      <td>-0.150848</td>\n",
       "      <td>-0.083694</td>\n",
       "      <td>0.265422</td>\n",
       "      <td>-0.373361</td>\n",
       "      <td>0.933145</td>\n",
       "      <td>0.910234</td>\n",
       "      <td>-0.553142</td>\n",
       "      <td>-0.732838</td>\n",
       "    </tr>\n",
       "    <tr>\n",
       "      <th>1</th>\n",
       "      <td>-0.118589</td>\n",
       "      <td>-1.015757</td>\n",
       "      <td>-0.011006</td>\n",
       "      <td>-0.022173</td>\n",
       "      <td>2.269535</td>\n",
       "      <td>0.512992</td>\n",
       "      <td>0.654639</td>\n",
       "      <td>-0.041543</td>\n",
       "      <td>-0.274027</td>\n",
       "      <td>0.155168</td>\n",
       "      <td>...</td>\n",
       "      <td>0.710916</td>\n",
       "      <td>-0.751635</td>\n",
       "      <td>-0.150848</td>\n",
       "      <td>0.851601</td>\n",
       "      <td>0.265422</td>\n",
       "      <td>-0.373361</td>\n",
       "      <td>-2.971552</td>\n",
       "      <td>-1.372560</td>\n",
       "      <td>1.724712</td>\n",
       "      <td>-0.732838</td>\n",
       "    </tr>\n",
       "    <tr>\n",
       "      <th>2</th>\n",
       "      <td>-0.127428</td>\n",
       "      <td>-0.932312</td>\n",
       "      <td>1.569628</td>\n",
       "      <td>-0.627493</td>\n",
       "      <td>1.907212</td>\n",
       "      <td>0.675018</td>\n",
       "      <td>-1.900091</td>\n",
       "      <td>-0.041543</td>\n",
       "      <td>0.385638</td>\n",
       "      <td>-0.251181</td>\n",
       "      <td>...</td>\n",
       "      <td>0.686373</td>\n",
       "      <td>1.892770</td>\n",
       "      <td>-0.150848</td>\n",
       "      <td>-1.018989</td>\n",
       "      <td>0.265422</td>\n",
       "      <td>-1.706658</td>\n",
       "      <td>-1.507290</td>\n",
       "      <td>-1.829119</td>\n",
       "      <td>-0.553142</td>\n",
       "      <td>-0.732838</td>\n",
       "    </tr>\n",
       "    <tr>\n",
       "      <th>3</th>\n",
       "      <td>-0.120357</td>\n",
       "      <td>1.115071</td>\n",
       "      <td>0.245086</td>\n",
       "      <td>-1.003850</td>\n",
       "      <td>-0.643712</td>\n",
       "      <td>0.783504</td>\n",
       "      <td>0.325714</td>\n",
       "      <td>-0.041543</td>\n",
       "      <td>1.704967</td>\n",
       "      <td>-0.371816</td>\n",
       "      <td>...</td>\n",
       "      <td>0.710916</td>\n",
       "      <td>1.892770</td>\n",
       "      <td>-0.150848</td>\n",
       "      <td>0.851601</td>\n",
       "      <td>-2.186128</td>\n",
       "      <td>-0.373361</td>\n",
       "      <td>-1.019203</td>\n",
       "      <td>-0.916002</td>\n",
       "      <td>4.002567</td>\n",
       "      <td>-0.732838</td>\n",
       "    </tr>\n",
       "    <tr>\n",
       "      <th>4</th>\n",
       "      <td>-0.127428</td>\n",
       "      <td>-0.577671</td>\n",
       "      <td>-0.867444</td>\n",
       "      <td>-1.003850</td>\n",
       "      <td>-0.620674</td>\n",
       "      <td>-0.134521</td>\n",
       "      <td>0.673785</td>\n",
       "      <td>-0.041543</td>\n",
       "      <td>1.210219</td>\n",
       "      <td>-0.373932</td>\n",
       "      <td>...</td>\n",
       "      <td>-1.432848</td>\n",
       "      <td>2.133170</td>\n",
       "      <td>-0.150848</td>\n",
       "      <td>-1.018989</td>\n",
       "      <td>0.265422</td>\n",
       "      <td>-0.373361</td>\n",
       "      <td>-1.507290</td>\n",
       "      <td>-1.829119</td>\n",
       "      <td>-0.553142</td>\n",
       "      <td>0.751373</td>\n",
       "    </tr>\n",
       "  </tbody>\n",
       "</table>\n",
       "<p>5 rows × 24 columns</p>\n",
       "</div>"
      ],
      "text/plain": [
       "   amount_tsh  days_since_recorded    funder  gps_height  installer  \\\n",
       "0    1.993907             1.112090  0.902109    0.985263   1.308227   \n",
       "1   -0.118589            -1.015757 -0.011006   -0.022173   2.269535   \n",
       "2   -0.127428            -0.932312  1.569628   -0.627493   1.907212   \n",
       "3   -0.120357             1.115071  0.245086   -1.003850  -0.643712   \n",
       "4   -0.127428            -0.577671 -0.867444   -1.003850  -0.620674   \n",
       "\n",
       "   longitude  latitude  num_private    region  population  ...  \\\n",
       "0   0.114433 -1.447603    -0.041543 -1.098608   -0.143244  ...   \n",
       "1   0.512992  0.654639    -0.041543 -0.274027    0.155168  ...   \n",
       "2   0.675018 -1.900091    -0.041543  0.385638   -0.251181  ...   \n",
       "3   0.783504  0.325714    -0.041543  1.704967   -0.371816  ...   \n",
       "4  -0.134521  0.673785    -0.041543  1.210219   -0.373932  ...   \n",
       "\n",
       "   construction_year  extraction_type  management   payment  water_quality  \\\n",
       "0           0.700245        -0.751635   -0.150848 -0.083694       0.265422   \n",
       "1           0.710916        -0.751635   -0.150848  0.851601       0.265422   \n",
       "2           0.686373         1.892770   -0.150848 -1.018989       0.265422   \n",
       "3           0.710916         1.892770   -0.150848  0.851601      -2.186128   \n",
       "4          -1.432848         2.133170   -0.150848 -1.018989       0.265422   \n",
       "\n",
       "   quantity_group    source  source_type  source_class  waterpoint_type_group  \n",
       "0       -0.373361  0.933145     0.910234     -0.553142              -0.732838  \n",
       "1       -0.373361 -2.971552    -1.372560      1.724712              -0.732838  \n",
       "2       -1.706658 -1.507290    -1.829119     -0.553142              -0.732838  \n",
       "3       -0.373361 -1.019203    -0.916002      4.002567              -0.732838  \n",
       "4       -0.373361 -1.507290    -1.829119     -0.553142               0.751373  \n",
       "\n",
       "[5 rows x 24 columns]"
      ]
     },
     "execution_count": 53,
     "metadata": {},
     "output_type": "execute_result"
    }
   ],
   "source": [
    "#fit the scaler\n",
    "df_scaled = ss.fit_transform(features[features.columns])\n",
    "df_scaled = pd.DataFrame(df_scaled, columns=features.columns)\n",
    "df_scaled.head()"
   ]
  },
  {
   "cell_type": "code",
   "execution_count": 54,
   "id": "23ecb762",
   "metadata": {},
   "outputs": [
    {
     "data": {
      "text/html": [
       "<div>\n",
       "<style scoped>\n",
       "    .dataframe tbody tr th:only-of-type {\n",
       "        vertical-align: middle;\n",
       "    }\n",
       "\n",
       "    .dataframe tbody tr th {\n",
       "        vertical-align: top;\n",
       "    }\n",
       "\n",
       "    .dataframe thead th {\n",
       "        text-align: right;\n",
       "    }\n",
       "</style>\n",
       "<table border=\"1\" class=\"dataframe\">\n",
       "  <thead>\n",
       "    <tr style=\"text-align: right;\">\n",
       "      <th></th>\n",
       "      <th>amount_tsh</th>\n",
       "      <th>days_since_recorded</th>\n",
       "      <th>funder</th>\n",
       "      <th>gps_height</th>\n",
       "      <th>installer</th>\n",
       "      <th>longitude</th>\n",
       "      <th>latitude</th>\n",
       "      <th>num_private</th>\n",
       "      <th>region</th>\n",
       "      <th>population</th>\n",
       "      <th>...</th>\n",
       "      <th>construction_year</th>\n",
       "      <th>extraction_type</th>\n",
       "      <th>management</th>\n",
       "      <th>payment</th>\n",
       "      <th>water_quality</th>\n",
       "      <th>quantity_group</th>\n",
       "      <th>source</th>\n",
       "      <th>source_type</th>\n",
       "      <th>source_class</th>\n",
       "      <th>waterpoint_type_group</th>\n",
       "    </tr>\n",
       "  </thead>\n",
       "  <tbody>\n",
       "    <tr>\n",
       "      <th>count</th>\n",
       "      <td>48288.000</td>\n",
       "      <td>48288.000</td>\n",
       "      <td>48288.000</td>\n",
       "      <td>48288.000</td>\n",
       "      <td>48288.000</td>\n",
       "      <td>48288.000</td>\n",
       "      <td>48288.000</td>\n",
       "      <td>48288.000</td>\n",
       "      <td>48288.000</td>\n",
       "      <td>48288.000</td>\n",
       "      <td>...</td>\n",
       "      <td>48288.000</td>\n",
       "      <td>48288.000</td>\n",
       "      <td>48288.000</td>\n",
       "      <td>48288.000</td>\n",
       "      <td>48288.000</td>\n",
       "      <td>48288.000</td>\n",
       "      <td>48288.000</td>\n",
       "      <td>48288.000</td>\n",
       "      <td>48288.000</td>\n",
       "      <td>48288.000</td>\n",
       "    </tr>\n",
       "    <tr>\n",
       "      <th>mean</th>\n",
       "      <td>-0.000</td>\n",
       "      <td>0.000</td>\n",
       "      <td>-0.000</td>\n",
       "      <td>-0.000</td>\n",
       "      <td>-0.000</td>\n",
       "      <td>-0.000</td>\n",
       "      <td>-0.000</td>\n",
       "      <td>-0.000</td>\n",
       "      <td>-0.000</td>\n",
       "      <td>-0.000</td>\n",
       "      <td>...</td>\n",
       "      <td>-0.000</td>\n",
       "      <td>0.000</td>\n",
       "      <td>0.000</td>\n",
       "      <td>0.000</td>\n",
       "      <td>0.000</td>\n",
       "      <td>0.000</td>\n",
       "      <td>-0.000</td>\n",
       "      <td>-0.000</td>\n",
       "      <td>-0.000</td>\n",
       "      <td>0.000</td>\n",
       "    </tr>\n",
       "    <tr>\n",
       "      <th>std</th>\n",
       "      <td>1.000</td>\n",
       "      <td>1.000</td>\n",
       "      <td>1.000</td>\n",
       "      <td>1.000</td>\n",
       "      <td>1.000</td>\n",
       "      <td>1.000</td>\n",
       "      <td>1.000</td>\n",
       "      <td>1.000</td>\n",
       "      <td>1.000</td>\n",
       "      <td>1.000</td>\n",
       "      <td>...</td>\n",
       "      <td>1.000</td>\n",
       "      <td>1.000</td>\n",
       "      <td>1.000</td>\n",
       "      <td>1.000</td>\n",
       "      <td>1.000</td>\n",
       "      <td>1.000</td>\n",
       "      <td>1.000</td>\n",
       "      <td>1.000</td>\n",
       "      <td>1.000</td>\n",
       "      <td>1.000</td>\n",
       "    </tr>\n",
       "    <tr>\n",
       "      <th>min</th>\n",
       "      <td>-0.127</td>\n",
       "      <td>-1.853</td>\n",
       "      <td>-1.472</td>\n",
       "      <td>-1.133</td>\n",
       "      <td>-1.318</td>\n",
       "      <td>-5.406</td>\n",
       "      <td>-2.072</td>\n",
       "      <td>-0.042</td>\n",
       "      <td>-1.593</td>\n",
       "      <td>-0.374</td>\n",
       "      <td>...</td>\n",
       "      <td>-1.433</td>\n",
       "      <td>-1.473</td>\n",
       "      <td>-3.677</td>\n",
       "      <td>-1.019</td>\n",
       "      <td>-7.089</td>\n",
       "      <td>-1.707</td>\n",
       "      <td>-2.972</td>\n",
       "      <td>-1.829</td>\n",
       "      <td>-0.553</td>\n",
       "      <td>-1.475</td>\n",
       "    </tr>\n",
       "    <tr>\n",
       "      <th>25%</th>\n",
       "      <td>-0.127</td>\n",
       "      <td>-0.968</td>\n",
       "      <td>-0.691</td>\n",
       "      <td>-1.004</td>\n",
       "      <td>-0.644</td>\n",
       "      <td>-0.186</td>\n",
       "      <td>-0.889</td>\n",
       "      <td>-0.042</td>\n",
       "      <td>-0.934</td>\n",
       "      <td>-0.374</td>\n",
       "      <td>...</td>\n",
       "      <td>-1.433</td>\n",
       "      <td>-0.752</td>\n",
       "      <td>-0.151</td>\n",
       "      <td>-1.019</td>\n",
       "      <td>0.265</td>\n",
       "      <td>-0.373</td>\n",
       "      <td>-0.531</td>\n",
       "      <td>-0.003</td>\n",
       "      <td>-0.553</td>\n",
       "      <td>-0.733</td>\n",
       "    </tr>\n",
       "    <tr>\n",
       "      <th>50%</th>\n",
       "      <td>-0.127</td>\n",
       "      <td>-0.584</td>\n",
       "      <td>-0.420</td>\n",
       "      <td>-0.341</td>\n",
       "      <td>-0.583</td>\n",
       "      <td>0.158</td>\n",
       "      <td>0.249</td>\n",
       "      <td>-0.042</td>\n",
       "      <td>0.056</td>\n",
       "      <td>-0.310</td>\n",
       "      <td>...</td>\n",
       "      <td>0.687</td>\n",
       "      <td>-0.752</td>\n",
       "      <td>-0.151</td>\n",
       "      <td>-0.084</td>\n",
       "      <td>0.265</td>\n",
       "      <td>-0.373</td>\n",
       "      <td>0.445</td>\n",
       "      <td>0.454</td>\n",
       "      <td>-0.553</td>\n",
       "      <td>-0.733</td>\n",
       "    </tr>\n",
       "    <tr>\n",
       "      <th>75%</th>\n",
       "      <td>-0.110</td>\n",
       "      <td>1.070</td>\n",
       "      <td>0.869</td>\n",
       "      <td>0.907</td>\n",
       "      <td>0.563</td>\n",
       "      <td>0.496</td>\n",
       "      <td>0.824</td>\n",
       "      <td>-0.042</td>\n",
       "      <td>0.880</td>\n",
       "      <td>0.049</td>\n",
       "      <td>...</td>\n",
       "      <td>0.707</td>\n",
       "      <td>0.450</td>\n",
       "      <td>-0.151</td>\n",
       "      <td>0.852</td>\n",
       "      <td>0.265</td>\n",
       "      <td>0.960</td>\n",
       "      <td>0.933</td>\n",
       "      <td>0.910</td>\n",
       "      <td>-0.553</td>\n",
       "      <td>0.751</td>\n",
       "    </tr>\n",
       "    <tr>\n",
       "      <th>max</th>\n",
       "      <td>88.262</td>\n",
       "      <td>10.270</td>\n",
       "      <td>1.855</td>\n",
       "      <td>2.960</td>\n",
       "      <td>2.422</td>\n",
       "      <td>0.965</td>\n",
       "      <td>1.986</td>\n",
       "      <td>133.582</td>\n",
       "      <td>1.705</td>\n",
       "      <td>64.176</td>\n",
       "      <td>...</td>\n",
       "      <td>0.715</td>\n",
       "      <td>2.614</td>\n",
       "      <td>1.864</td>\n",
       "      <td>1.787</td>\n",
       "      <td>1.491</td>\n",
       "      <td>3.627</td>\n",
       "      <td>1.421</td>\n",
       "      <td>0.910</td>\n",
       "      <td>4.003</td>\n",
       "      <td>2.236</td>\n",
       "    </tr>\n",
       "  </tbody>\n",
       "</table>\n",
       "<p>8 rows × 24 columns</p>\n",
       "</div>"
      ],
      "text/plain": [
       "       amount_tsh  days_since_recorded     funder  gps_height  installer  \\\n",
       "count   48288.000            48288.000  48288.000   48288.000  48288.000   \n",
       "mean       -0.000                0.000     -0.000      -0.000     -0.000   \n",
       "std         1.000                1.000      1.000       1.000      1.000   \n",
       "min        -0.127               -1.853     -1.472      -1.133     -1.318   \n",
       "25%        -0.127               -0.968     -0.691      -1.004     -0.644   \n",
       "50%        -0.127               -0.584     -0.420      -0.341     -0.583   \n",
       "75%        -0.110                1.070      0.869       0.907      0.563   \n",
       "max        88.262               10.270      1.855       2.960      2.422   \n",
       "\n",
       "       longitude   latitude  num_private     region  population  ...  \\\n",
       "count  48288.000  48288.000    48288.000  48288.000   48288.000  ...   \n",
       "mean      -0.000     -0.000       -0.000     -0.000      -0.000  ...   \n",
       "std        1.000      1.000        1.000      1.000       1.000  ...   \n",
       "min       -5.406     -2.072       -0.042     -1.593      -0.374  ...   \n",
       "25%       -0.186     -0.889       -0.042     -0.934      -0.374  ...   \n",
       "50%        0.158      0.249       -0.042      0.056      -0.310  ...   \n",
       "75%        0.496      0.824       -0.042      0.880       0.049  ...   \n",
       "max        0.965      1.986      133.582      1.705      64.176  ...   \n",
       "\n",
       "       construction_year  extraction_type  management    payment  \\\n",
       "count          48288.000        48288.000   48288.000  48288.000   \n",
       "mean              -0.000            0.000       0.000      0.000   \n",
       "std                1.000            1.000       1.000      1.000   \n",
       "min               -1.433           -1.473      -3.677     -1.019   \n",
       "25%               -1.433           -0.752      -0.151     -1.019   \n",
       "50%                0.687           -0.752      -0.151     -0.084   \n",
       "75%                0.707            0.450      -0.151      0.852   \n",
       "max                0.715            2.614       1.864      1.787   \n",
       "\n",
       "       water_quality  quantity_group     source  source_type  source_class  \\\n",
       "count      48288.000       48288.000  48288.000    48288.000     48288.000   \n",
       "mean           0.000           0.000     -0.000       -0.000        -0.000   \n",
       "std            1.000           1.000      1.000        1.000         1.000   \n",
       "min           -7.089          -1.707     -2.972       -1.829        -0.553   \n",
       "25%            0.265          -0.373     -0.531       -0.003        -0.553   \n",
       "50%            0.265          -0.373      0.445        0.454        -0.553   \n",
       "75%            0.265           0.960      0.933        0.910        -0.553   \n",
       "max            1.491           3.627      1.421        0.910         4.003   \n",
       "\n",
       "       waterpoint_type_group  \n",
       "count              48288.000  \n",
       "mean                   0.000  \n",
       "std                    1.000  \n",
       "min                   -1.475  \n",
       "25%                   -0.733  \n",
       "50%                   -0.733  \n",
       "75%                    0.751  \n",
       "max                    2.236  \n",
       "\n",
       "[8 rows x 24 columns]"
      ]
     },
     "execution_count": 54,
     "metadata": {},
     "output_type": "execute_result"
    }
   ],
   "source": [
    "#rounding the numbers for display\n",
    "df_scaled.describe().round(3)"
   ]
  },
  {
   "cell_type": "code",
   "execution_count": 55,
   "id": "aaf4b581",
   "metadata": {},
   "outputs": [
    {
     "data": {
      "text/plain": [
       "1"
      ]
     },
     "execution_count": 55,
     "metadata": {},
     "output_type": "execute_result"
    }
   ],
   "source": [
    "# check for highest correlation in between variables\n",
    "corr_features = correlation(df_scaled, 0.7)\n",
    "len(set(corr_features))\n"
   ]
  },
  {
   "cell_type": "code",
   "execution_count": 56,
   "id": "3dca330d",
   "metadata": {},
   "outputs": [
    {
     "data": {
      "text/plain": [
       "{'source_type'}"
      ]
     },
     "execution_count": 56,
     "metadata": {},
     "output_type": "execute_result"
    }
   ],
   "source": [
    "corr_features"
   ]
  },
  {
   "cell_type": "code",
   "execution_count": 57,
   "id": "8b7cb809",
   "metadata": {},
   "outputs": [],
   "source": [
    "# drop highest correlated column\n",
    "df_scaled = df_scaled.drop(corr_features,axis=1)"
   ]
  },
  {
   "cell_type": "code",
   "execution_count": 58,
   "id": "6ea98d40",
   "metadata": {},
   "outputs": [
    {
     "name": "stdout",
     "output_type": "stream",
     "text": [
      "(48288,)\n",
      "(48288, 23)\n"
     ]
    }
   ],
   "source": [
    "#check for their shape \n",
    "print(target_scaled.shape)\n",
    "print(df_scaled .shape)"
   ]
  },
  {
   "cell_type": "markdown",
   "id": "f9476edb",
   "metadata": {},
   "source": [
    "### Modeling"
   ]
  },
  {
   "cell_type": "code",
   "execution_count": 71,
   "id": "f12cbfae",
   "metadata": {},
   "outputs": [],
   "source": [
    "# Separate the features and target variable\n",
    "X = df_scaled\n",
    "y = target_scaled"
   ]
  },
  {
   "cell_type": "code",
   "execution_count": 72,
   "id": "c58303a9",
   "metadata": {},
   "outputs": [],
   "source": [
    "# Perform feature scaling\n",
    "scaler = StandardScaler()\n",
    "X = scaler.fit_transform(X)"
   ]
  },
  {
   "cell_type": "code",
   "execution_count": 61,
   "id": "b296983f",
   "metadata": {
    "scrolled": true
   },
   "outputs": [],
   "source": [
    "# Perform dimensionality reduction using PCA\n",
    "#pca = PCA(n_components=10)\n",
    "#X = pca.fit_transform(X)"
   ]
  },
  {
   "cell_type": "code",
   "execution_count": 73,
   "id": "aabccde9",
   "metadata": {},
   "outputs": [],
   "source": [
    "# Split the data into training and test sets\n",
    "X_train, X_test, y_train, y_test = train_test_split(X, y, test_size=0.2, random_state=0)"
   ]
  },
  {
   "cell_type": "code",
   "execution_count": 74,
   "id": "2797c75a",
   "metadata": {},
   "outputs": [
    {
     "name": "stdout",
     "output_type": "stream",
     "text": [
      "X_train : (38630, 23)\n",
      "y_train : (38630,)\n",
      "X_test : (9658, 23)\n",
      "y_test : (9658,)\n"
     ]
    }
   ],
   "source": [
    "print(f'X_train : {X_train.shape}')\n",
    "print(f'y_train : {y_train.shape}')\n",
    "print(f'X_test : {X_test.shape}')\n",
    "print(f'y_test : {y_test.shape}')"
   ]
  },
  {
   "cell_type": "markdown",
   "id": "55faa6dd",
   "metadata": {},
   "source": [
    "## Fitting a Model\n",
    "\n",
    "Now let's fit a model to the preprocessed training set. In scikit-learn, you do this by first creating an instance of the `RandomForestClassifier` class. From there, then use the `.fit()` method from your class instance to fit a model to the training data."
   ]
  },
  {
   "cell_type": "code",
   "execution_count": 89,
   "id": "9973520c",
   "metadata": {},
   "outputs": [],
   "source": [
    "# Train the classifier\n",
    "classifier = RandomForestClassifier()\n",
    "classifier.fit(X_train, y_train)\n",
    "\n",
    "# Make predictions on the test data\n",
    "prediction = classifier.predict(X_test)\n"
   ]
  },
  {
   "cell_type": "code",
   "execution_count": 90,
   "id": "7468da83",
   "metadata": {},
   "outputs": [
    {
     "name": "stdout",
     "output_type": "stream",
     "text": [
      "Train: 0.9986280093191819\n",
      "\n",
      "Test: 0.806378132118451\n"
     ]
    }
   ],
   "source": [
    "# Training accuracy score\n",
    "print('Train:', classifier.score(X_train, y_train))\n",
    "print()\n",
    "print('Test:', classifier.score(X_test, y_test))"
   ]
  },
  {
   "cell_type": "code",
   "execution_count": 92,
   "id": "9c93ee31",
   "metadata": {
    "scrolled": true
   },
   "outputs": [
    {
     "name": "stdout",
     "output_type": "stream",
     "text": [
      "                         precision    recall  f1-score   support\n",
      "\n",
      "             functional       0.81      0.89      0.85      5275\n",
      "functional needs repair       0.55      0.33      0.41       736\n",
      "         non functional       0.84      0.79      0.81      3647\n",
      "\n",
      "               accuracy                           0.81      9658\n",
      "              macro avg       0.73      0.67      0.69      9658\n",
      "           weighted avg       0.80      0.81      0.80      9658\n",
      "\n"
     ]
    }
   ],
   "source": [
    "# display accuracy\n",
    "report = classification_report (y_test, prediction)\n",
    "print(report)"
   ]
  },
  {
   "cell_type": "markdown",
   "id": "d144bdc1",
   "metadata": {},
   "source": [
    "## Fitting a Model\n",
    "\n",
    "Now let's fit a model to the preprocessed training set. In scikit-learn, you do this by first creating an instance of the `DecisionTreeClassifier` class. From there, then use the `.fit()` method from your class instance to fit a model to the training data."
   ]
  },
  {
   "cell_type": "code",
   "execution_count": 78,
   "id": "2c199cd1",
   "metadata": {},
   "outputs": [],
   "source": [
    "# Initialize the model\n",
    "model = DecisionTreeClassifier(random_state = 10)\n",
    "\n",
    "# Fit the model to the training data\n",
    "model.fit(X_train, y_train)\n",
    "\n",
    "# Predict the classes on the test data\n",
    "predictions = model.predict(X_test)\n"
   ]
  },
  {
   "cell_type": "code",
   "execution_count": 79,
   "id": "0915cafe",
   "metadata": {},
   "outputs": [
    {
     "name": "stdout",
     "output_type": "stream",
     "text": [
      "Train: 0.9986538959358012\n",
      "\n",
      "Test: 0.7566784013253262\n"
     ]
    }
   ],
   "source": [
    "# Training accuracy score\n",
    "print('Train:', model.score(X_train, y_train))\n",
    "print()\n",
    "print('Test:', model.score(X_test, y_test))"
   ]
  },
  {
   "cell_type": "code",
   "execution_count": 80,
   "id": "3eef3f01",
   "metadata": {
    "scrolled": true
   },
   "outputs": [
    {
     "name": "stdout",
     "output_type": "stream",
     "text": [
      "                         precision    recall  f1-score   support\n",
      "\n",
      "             functional       0.80      0.80      0.80      5275\n",
      "functional needs repair       0.39      0.36      0.38       736\n",
      "         non functional       0.76      0.77      0.76      3647\n",
      "\n",
      "               accuracy                           0.76      9658\n",
      "              macro avg       0.65      0.64      0.65      9658\n",
      "           weighted avg       0.75      0.76      0.76      9658\n",
      "\n"
     ]
    }
   ],
   "source": [
    "# display accuracy\n",
    "report = classification_report (y_test, predictions)\n",
    "print(report)"
   ]
  },
  {
   "cell_type": "markdown",
   "id": "f202bc72",
   "metadata": {},
   "source": [
    "### Conclusion\n",
    "The final model, a Random Forest Classifier, achieved an accuracy of 80.03% and is ready for deployment. This high level of accuracy provides valuable insights into the conditions of water wells, which will greatly aid in planning, prioritizing and investment decisions. The results show that there are different water qualities in the functional pumps, with most of them having soft water. It was also noted that water wells with significant investment costs were functional. The most functional water pumps among communities were found to be gravity and hand pumps. It is concerning, however, that the number of non-functional water pumps is high, highlighting the need for continued monitoring and maintenance efforts to ensure access to clean water for communities in need."
   ]
  },
  {
   "cell_type": "markdown",
   "id": "a847d158",
   "metadata": {},
   "source": [
    "### Recomendation\n",
    "\n",
    "- Repair and maintenance of existing water wells to ensure their continued functionality.\n",
    "- Implementing better standards and practices for the construction and installation of new water wells.\n",
    "- Increasing investment in the development and deployment of new water well technologies.\n",
    "- Supporting the education and training of local communities in the operation and maintenance of water wells.\n",
    "- Collaborating with NGOs, private sector organizations, and international agencies to tackle the water well crisis in Tanzania.\n"
   ]
  },
  {
   "cell_type": "markdown",
   "id": "242a9c54",
   "metadata": {},
   "source": [
    "## 8. Challenging the solution"
   ]
  },
  {
   "cell_type": "markdown",
   "id": "d5d4e608",
   "metadata": {},
   "source": [
    "I compared accuracy, precision, recall and F1 score of my Model that is random forest algorithms againsts those of decision tree algorithms \n",
    "Random forest algorithm had a higher values compared to desicion tree algorithm even after scaling both \n",
    "\n",
    "#### This were results as per random forest algorithm\n",
    "\n",
    "Accuracy: 81%\n",
    "\n",
    "Precision: 88\n",
    "\n",
    "Recall: 85\n",
    "\n",
    "F1 Score: 81\n",
    "\n",
    "#### This were the values as per decision tree algorithm\n",
    "\n",
    "Accuracy: 76%\n",
    "\n",
    "Precision: 80%\n",
    "\n",
    "Recall: 80\n",
    "\n",
    "F1 Score: 80\n"
   ]
  },
  {
   "cell_type": "markdown",
   "id": "13af055c",
   "metadata": {},
   "source": [
    "## 9. Follow up questions"
   ]
  },
  {
   "cell_type": "markdown",
   "id": "51f4d012",
   "metadata": {},
   "source": [
    "#### a) Can the model be used to detect water wells that are at risk of failure in the future, and if so, how?\n",
    "\n",
    "The deployment and use of the model in practice should be done with care, taking into account potential ethical considerations such as data privacy, bias in the model's predictions, and ensuring that the model is used in a responsible and transparent manner."
   ]
  },
  {
   "cell_type": "markdown",
   "id": "c773ce5a",
   "metadata": {},
   "source": [
    "#### b) Are there any specific metrics that should be used to evaluate the model's performance for this problem?\n",
    "\n",
    "The specific metrics used to evaluate the model's performance depend on the nature of the problem and the type of model used. For a ternary classification problem, metrics such as accuracy, precision, recall, and F1-score can be used to evaluate the model's performance."
   ]
  },
  {
   "cell_type": "markdown",
   "id": "8a5f3c49",
   "metadata": {},
   "source": [
    "#### c) Can the model's performance be improved by collecting additional data, such as the water well's geographic coordinates?\n",
    "\n",
    "Collecting additional data, such as the water well's geographic coordinates, could potentially improve the model's performance by providing additional information that could be relevant to the condition of the well."
   ]
  },
  {
   "cell_type": "markdown",
   "id": "0a47da07",
   "metadata": {},
   "source": [
    "#### d) Are there any domain-specific knowledge or domain-specific algorithms that could be used to improve the model's performance?\n",
    "\n",
    "Domain-specific knowledge and algorithms, such as those related to the maintenance and repair of water wells, could potentially be used to improve the model's performance."
   ]
  }
 ],
 "metadata": {
  "kernelspec": {
   "display_name": "Python 3 (ipykernel)",
   "language": "python",
   "name": "python3"
  },
  "language_info": {
   "codemirror_mode": {
    "name": "ipython",
    "version": 3
   },
   "file_extension": ".py",
   "mimetype": "text/x-python",
   "name": "python",
   "nbconvert_exporter": "python",
   "pygments_lexer": "ipython3",
   "version": "3.9.13"
  },
  "vscode": {
   "interpreter": {
    "hash": "57bc2b6ce032b5f0e93daa91901b7ea38a856826ef43aa9e95b6d3999f5310df"
   }
  }
 },
 "nbformat": 4,
 "nbformat_minor": 5
}
