{
 "cells": [
  {
   "cell_type": "markdown",
   "id": "c5a8c432",
   "metadata": {},
   "source": [
    "# Multivariate Analysis I (Exploratory Data Analysis) - Exercise 1"
   ]
  },
  {
   "cell_type": "markdown",
   "id": "171b7238",
   "metadata": {},
   "source": [
    "## 1. Defining the Question"
   ]
  },
  {
   "cell_type": "markdown",
   "id": "aa8a0dd2",
   "metadata": {},
   "source": [
    "### a) Specifying the Data Analytic Question"
   ]
  },
  {
   "cell_type": "markdown",
   "id": "334d20ee",
   "metadata": {},
   "source": [
    "> Tanzania, as a developing country, struggles with providing clean water to its population of over 57,000,000. There is a need to improve access to clean water for the population. While there are many water points already established, some are in need of repair and others have failed altogether. The challenge is to accurately predict the condition of a water well based on factors such as the type of pump, installation date, and other relevant information. The goal of this project is to develop a classifier that can accurately predict the condition of water wells, which can be useful for NGOs looking to locate wells needing repair or the government of Tanzania trying to find patterns in non-functional wells to influence how new wells are built\n",
    "\n",
    "> **Problem Statement:** How can we accurately predict the condition of a water well in Tanzania based on factors such as type of pump, installation date, and other relevant information"
   ]
  },
  {
   "cell_type": "markdown",
   "id": "043b975c",
   "metadata": {},
   "source": [
    "### b) Defining the Metric for Success"
   ]
  },
  {
   "cell_type": "markdown",
   "id": "bae86c4e",
   "metadata": {},
   "source": [
    ">The goal is to achieve an accuracy score of at least 80% or higher, F1 score of at least 70% or higher, precision score of at least 70% or higher, recall score of at least 70% or higher\n"
   ]
  },
  {
   "cell_type": "markdown",
   "id": "df5147ff",
   "metadata": {},
   "source": [
    "### c) Understanding the context \n",
    "\n",
    "Understanding the context is crucial for the water well classification project in Tanzania as it provides a clear understanding of the problem and the surrounding factors that may impact the project.\n",
    "\n",
    "The following are some key points to consider when understanding the context:\n",
    "\n",
    "1. Access to clean water: In Tanzania, access to clean water is a major challenge and improving it is a priority for the government and NGOs. The water well classification project can help address this challenge by accurately predicting the condition of water wells.\n",
    "\n",
    "\n",
    "2. Population: Tanzania has a population of over 57 million people and providing clean water to this large population is a challenge. The water well classification project can help identify non-functional wells and provide information to support the repair of these wells.\n",
    "\n",
    "\n",
    "3. Ternary or Binary classification: The problem of predicting the condition of water wells in Tanzania can be framed as either a ternary or binary classification problem. The choice of classification type will depend on the requirements of the target audience and the specific use case.\n",
    "\n",
    "\n",
    "4. Data availability: The availability of data on water wells in Tanzania, such as the type of pump, installation date, and other relevant factors, is crucial for the success of the project. It is important to understand the quality and quantity of data available and any limitations that may impact the project.\n"
   ]
  },
  {
   "cell_type": "markdown",
   "id": "f84bab3c",
   "metadata": {},
   "source": [
    "### d) Recording the Experimental Design"
   ]
  },
  {
   "cell_type": "markdown",
   "id": "33f533fc",
   "metadata": {},
   "source": [
    "### e) Data Relevance"
   ]
  },
  {
   "cell_type": "markdown",
   "id": "e6125d3b",
   "metadata": {},
   "source": [
    "## 2. Reading the Data"
   ]
  },
  {
   "cell_type": "code",
   "execution_count": null,
   "id": "bd2b7af1",
   "metadata": {},
   "outputs": [],
   "source": []
  }
 ],
 "metadata": {
  "kernelspec": {
   "display_name": "learn-env",
   "language": "python",
   "name": "learn-env"
  },
  "language_info": {
   "codemirror_mode": {
    "name": "ipython",
    "version": 3
   },
   "file_extension": ".py",
   "mimetype": "text/x-python",
   "name": "python",
   "nbconvert_exporter": "python",
   "pygments_lexer": "ipython3",
   "version": "3.9.13"
  }
 },
 "nbformat": 4,
 "nbformat_minor": 5
}
